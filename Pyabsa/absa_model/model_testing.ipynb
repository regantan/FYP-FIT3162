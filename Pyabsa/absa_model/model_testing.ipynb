{
 "cells": [
  {
   "cell_type": "markdown",
   "metadata": {},
   "source": [
    "# PyABSA\n",
    "\n",
    "### ABSA Instruction - Extract aspect term, category, opinion & sentiment polarity"
   ]
  },
  {
   "cell_type": "markdown",
   "metadata": {},
   "source": [
    "### Atempting to infer on sample sentences"
   ]
  },
  {
   "cell_type": "code",
   "execution_count": 2,
   "metadata": {},
   "outputs": [],
   "source": [
    "from pyabsa import ABSAInstruction\n",
    "\n",
    "def absa(text):\n",
    "  generator = ABSAInstruction.ABSAGenerator(\"multilingual\")\n",
    "  example = [\n",
    "      \"The food is good, but the service is bad.\",\n",
    "  ]\n",
    "  \n",
    "  if text:\n",
    "    return generator.predict(text)\n",
    "  \n",
    "  return generator.predict(example)"
   ]
  },
  {
   "cell_type": "code",
   "execution_count": 3,
   "metadata": {},
   "outputs": [
    {
     "name": "stdout",
     "output_type": "stream",
     "text": [
      "[2024-03-20 20:13:58] (2.4.1.post1) ********** \u001b[32mAvailable ACOS model checkpoints for Version:2.4.1.post1 (this version)\u001b[0m **********\n",
      "[2024-03-20 20:13:58] (2.4.1.post1) ********** \u001b[32mAvailable ACOS model checkpoints for Version:2.4.1.post1 (this version)\u001b[0m **********\n",
      "[2024-03-20 20:13:58] (2.4.1.post1) \u001b[32mDownloading checkpoint:multilingual \u001b[0m\n",
      "[2024-03-20 20:13:58] (2.4.1.post1) \u001b[31mNotice: The pretrained model are used for testing, it is recommended to train the model on your own custom datasets\u001b[0m\n",
      "[2024-03-20 20:13:58] (2.4.1.post1) Checkpoint already downloaded, skip\n",
      "{'text': 'Avoid this place!', 'Quadruples': [{'aspect': 'place', 'polarity': 'negative', 'opinion': 'Avoid', 'category': 'RESTAURANT#GENERAL'}]}\n"
     ]
    },
    {
     "data": {
      "text/plain": [
       "{'text': 'Avoid this place!',\n",
       " 'Quadruples': [{'aspect': 'place',\n",
       "   'polarity': 'negative',\n",
       "   'opinion': 'Avoid',\n",
       "   'category': 'RESTAURANT#GENERAL'}]}"
      ]
     },
     "execution_count": 3,
     "metadata": {},
     "output_type": "execute_result"
    }
   ],
   "source": [
    "absa(\"Avoid this place!\")"
   ]
  },
  {
   "cell_type": "markdown",
   "metadata": {},
   "source": [
    "### Attempting to train and finetune model\n",
    "\n",
    "Referencing code in https://github.com/yangheng95/PyABSA/blob/v2/pyabsa/tasks/ABSAInstruction/multitask_train.py\n"
   ]
  },
  {
   "cell_type": "code",
   "execution_count": 6,
   "metadata": {},
   "outputs": [
    {
     "name": "stdout",
     "output_type": "stream",
     "text": [
      "Experiment Name:  ABSA quadruple extraction instruction\n",
      "Model output path:  checkpoints\\multitask\\allenaitk-instruct-large-def-pos-ABSA quadruple extraction instruction\n",
      "[2024-03-20 16:50:39] (2.4.1.post1) ********** \u001b[32mAvailable ACOS model checkpoints for Version:2.4.1.post1 (this version)\u001b[0m **********\n",
      "[2024-03-20 16:50:39] (2.4.1.post1) ********** \u001b[32mAvailable ACOS model checkpoints for Version:2.4.1.post1 (this version)\u001b[0m **********\n",
      "[2024-03-20 16:50:39] (2.4.1.post1) \u001b[31mCheckpoint:allenai/tk-instruct-large-def-pos is not found, you can raise an issue for requesting shares of checkpoints\u001b[0m\n",
      "[2024-03-20 16:50:39] (2.4.1.post1) No checkpoint found in Model Hub for task: allenai/tk-instruct-large-def-pos\n"
     ]
    },
    {
     "ename": "KeyboardInterrupt",
     "evalue": "",
     "output_type": "error",
     "traceback": [
      "\u001b[1;31m---------------------------------------------------------------------------\u001b[0m",
      "\u001b[1;31mKeyboardInterrupt\u001b[0m                         Traceback (most recent call last)",
      "Cell \u001b[1;32mIn[6], line 63\u001b[0m\n\u001b[0;32m     60\u001b[0m     loader\u001b[38;5;241m.\u001b[39mtest_df_ood \u001b[38;5;241m=\u001b[39m loader\u001b[38;5;241m.\u001b[39mprepare_instruction_dataloader(loader\u001b[38;5;241m.\u001b[39mtest_df_ood)\n\u001b[0;32m     62\u001b[0m \u001b[38;5;66;03m# Create T5 utils object\u001b[39;00m\n\u001b[1;32m---> 63\u001b[0m t5_exp \u001b[38;5;241m=\u001b[39m \u001b[43mabsa_instruction\u001b[49m\u001b[38;5;241;43m.\u001b[39;49m\u001b[43mmodel\u001b[49m\u001b[38;5;241;43m.\u001b[39;49m\u001b[43mT5Generator\u001b[49m\u001b[43m(\u001b[49m\u001b[43mmodel_checkpoint\u001b[49m\u001b[43m)\u001b[49m\n\u001b[0;32m     65\u001b[0m \u001b[38;5;66;03m# Tokenize Dataset\u001b[39;00m\n\u001b[0;32m     66\u001b[0m id_ds, id_tokenized_ds, ood_ds, ood_tokenzed_ds \u001b[38;5;241m=\u001b[39m loader\u001b[38;5;241m.\u001b[39mcreate_datasets(\n\u001b[0;32m     67\u001b[0m     t5_exp\u001b[38;5;241m.\u001b[39mtokenize_function_inputs\n\u001b[0;32m     68\u001b[0m )\n",
      "File \u001b[1;32mg:\\My Drive\\FIT3162\\FYP-FIT3162\\myenv\\Lib\\site-packages\\pyabsa\\tasks\\ABSAInstruction\\model.py:35\u001b[0m, in \u001b[0;36mT5Generator.__init__\u001b[1;34m(self, checkpoint)\u001b[0m\n\u001b[0;32m     32\u001b[0m     \u001b[38;5;28mprint\u001b[39m(e)\n\u001b[0;32m     34\u001b[0m \u001b[38;5;28mself\u001b[39m\u001b[38;5;241m.\u001b[39mtokenizer \u001b[38;5;241m=\u001b[39m AutoTokenizer\u001b[38;5;241m.\u001b[39mfrom_pretrained(checkpoint)\n\u001b[1;32m---> 35\u001b[0m \u001b[38;5;28mself\u001b[39m\u001b[38;5;241m.\u001b[39mmodel \u001b[38;5;241m=\u001b[39m \u001b[43mAutoModelForSeq2SeqLM\u001b[49m\u001b[38;5;241;43m.\u001b[39;49m\u001b[43mfrom_pretrained\u001b[49m\u001b[43m(\u001b[49m\u001b[43mcheckpoint\u001b[49m\u001b[43m)\u001b[49m\n\u001b[0;32m     36\u001b[0m \u001b[38;5;28mself\u001b[39m\u001b[38;5;241m.\u001b[39mmodel\u001b[38;5;241m.\u001b[39mconfig\u001b[38;5;241m.\u001b[39mmax_length \u001b[38;5;241m=\u001b[39m \u001b[38;5;241m128\u001b[39m\n\u001b[0;32m     37\u001b[0m \u001b[38;5;28mself\u001b[39m\u001b[38;5;241m.\u001b[39mdata_collator \u001b[38;5;241m=\u001b[39m DataCollatorForSeq2Seq(\u001b[38;5;28mself\u001b[39m\u001b[38;5;241m.\u001b[39mtokenizer)\n",
      "File \u001b[1;32mg:\\My Drive\\FIT3162\\FYP-FIT3162\\myenv\\Lib\\site-packages\\transformers\\models\\auto\\auto_factory.py:561\u001b[0m, in \u001b[0;36m_BaseAutoModelClass.from_pretrained\u001b[1;34m(cls, pretrained_model_name_or_path, *model_args, **kwargs)\u001b[0m\n\u001b[0;32m    559\u001b[0m \u001b[38;5;28;01melif\u001b[39;00m \u001b[38;5;28mtype\u001b[39m(config) \u001b[38;5;129;01min\u001b[39;00m \u001b[38;5;28mcls\u001b[39m\u001b[38;5;241m.\u001b[39m_model_mapping\u001b[38;5;241m.\u001b[39mkeys():\n\u001b[0;32m    560\u001b[0m     model_class \u001b[38;5;241m=\u001b[39m _get_model_class(config, \u001b[38;5;28mcls\u001b[39m\u001b[38;5;241m.\u001b[39m_model_mapping)\n\u001b[1;32m--> 561\u001b[0m     \u001b[38;5;28;01mreturn\u001b[39;00m \u001b[43mmodel_class\u001b[49m\u001b[38;5;241;43m.\u001b[39;49m\u001b[43mfrom_pretrained\u001b[49m\u001b[43m(\u001b[49m\n\u001b[0;32m    562\u001b[0m \u001b[43m        \u001b[49m\u001b[43mpretrained_model_name_or_path\u001b[49m\u001b[43m,\u001b[49m\u001b[43m \u001b[49m\u001b[38;5;241;43m*\u001b[39;49m\u001b[43mmodel_args\u001b[49m\u001b[43m,\u001b[49m\u001b[43m \u001b[49m\u001b[43mconfig\u001b[49m\u001b[38;5;241;43m=\u001b[39;49m\u001b[43mconfig\u001b[49m\u001b[43m,\u001b[49m\u001b[43m \u001b[49m\u001b[38;5;241;43m*\u001b[39;49m\u001b[38;5;241;43m*\u001b[39;49m\u001b[43mhub_kwargs\u001b[49m\u001b[43m,\u001b[49m\u001b[43m \u001b[49m\u001b[38;5;241;43m*\u001b[39;49m\u001b[38;5;241;43m*\u001b[39;49m\u001b[43mkwargs\u001b[49m\n\u001b[0;32m    563\u001b[0m \u001b[43m    \u001b[49m\u001b[43m)\u001b[49m\n\u001b[0;32m    564\u001b[0m \u001b[38;5;28;01mraise\u001b[39;00m \u001b[38;5;167;01mValueError\u001b[39;00m(\n\u001b[0;32m    565\u001b[0m     \u001b[38;5;124mf\u001b[39m\u001b[38;5;124m\"\u001b[39m\u001b[38;5;124mUnrecognized configuration class \u001b[39m\u001b[38;5;132;01m{\u001b[39;00mconfig\u001b[38;5;241m.\u001b[39m\u001b[38;5;18m__class__\u001b[39m\u001b[38;5;132;01m}\u001b[39;00m\u001b[38;5;124m for this kind of AutoModel: \u001b[39m\u001b[38;5;132;01m{\u001b[39;00m\u001b[38;5;28mcls\u001b[39m\u001b[38;5;241m.\u001b[39m\u001b[38;5;18m__name__\u001b[39m\u001b[38;5;132;01m}\u001b[39;00m\u001b[38;5;124m.\u001b[39m\u001b[38;5;130;01m\\n\u001b[39;00m\u001b[38;5;124m\"\u001b[39m\n\u001b[0;32m    566\u001b[0m     \u001b[38;5;124mf\u001b[39m\u001b[38;5;124m\"\u001b[39m\u001b[38;5;124mModel type should be one of \u001b[39m\u001b[38;5;132;01m{\u001b[39;00m\u001b[38;5;124m'\u001b[39m\u001b[38;5;124m, \u001b[39m\u001b[38;5;124m'\u001b[39m\u001b[38;5;241m.\u001b[39mjoin(c\u001b[38;5;241m.\u001b[39m\u001b[38;5;18m__name__\u001b[39m\u001b[38;5;250m \u001b[39m\u001b[38;5;28;01mfor\u001b[39;00m\u001b[38;5;250m \u001b[39mc\u001b[38;5;250m \u001b[39m\u001b[38;5;129;01min\u001b[39;00m\u001b[38;5;250m \u001b[39m\u001b[38;5;28mcls\u001b[39m\u001b[38;5;241m.\u001b[39m_model_mapping\u001b[38;5;241m.\u001b[39mkeys())\u001b[38;5;132;01m}\u001b[39;00m\u001b[38;5;124m.\u001b[39m\u001b[38;5;124m\"\u001b[39m\n\u001b[0;32m    567\u001b[0m )\n",
      "File \u001b[1;32mg:\\My Drive\\FIT3162\\FYP-FIT3162\\myenv\\Lib\\site-packages\\transformers\\modeling_utils.py:3193\u001b[0m, in \u001b[0;36mPreTrainedModel.from_pretrained\u001b[1;34m(cls, pretrained_model_name_or_path, config, cache_dir, ignore_mismatched_sizes, force_download, local_files_only, token, revision, use_safetensors, *model_args, **kwargs)\u001b[0m\n\u001b[0;32m   3190\u001b[0m     \u001b[38;5;28;01melse\u001b[39;00m:\n\u001b[0;32m   3191\u001b[0m         \u001b[38;5;66;03m# This repo has no safetensors file of any kind, we switch to PyTorch.\u001b[39;00m\n\u001b[0;32m   3192\u001b[0m         filename \u001b[38;5;241m=\u001b[39m _add_variant(WEIGHTS_NAME, variant)\n\u001b[1;32m-> 3193\u001b[0m         resolved_archive_file \u001b[38;5;241m=\u001b[39m \u001b[43mcached_file\u001b[49m\u001b[43m(\u001b[49m\n\u001b[0;32m   3194\u001b[0m \u001b[43m            \u001b[49m\u001b[43mpretrained_model_name_or_path\u001b[49m\u001b[43m,\u001b[49m\u001b[43m \u001b[49m\u001b[43mfilename\u001b[49m\u001b[43m,\u001b[49m\u001b[43m \u001b[49m\u001b[38;5;241;43m*\u001b[39;49m\u001b[38;5;241;43m*\u001b[39;49m\u001b[43mcached_file_kwargs\u001b[49m\n\u001b[0;32m   3195\u001b[0m \u001b[43m        \u001b[49m\u001b[43m)\u001b[49m\n\u001b[0;32m   3196\u001b[0m \u001b[38;5;28;01mif\u001b[39;00m resolved_archive_file \u001b[38;5;129;01mis\u001b[39;00m \u001b[38;5;28;01mNone\u001b[39;00m \u001b[38;5;129;01mand\u001b[39;00m filename \u001b[38;5;241m==\u001b[39m _add_variant(WEIGHTS_NAME, variant):\n\u001b[0;32m   3197\u001b[0m     \u001b[38;5;66;03m# Maybe the checkpoint is sharded, we try to grab the index name in this case.\u001b[39;00m\n\u001b[0;32m   3198\u001b[0m     resolved_archive_file \u001b[38;5;241m=\u001b[39m cached_file(\n\u001b[0;32m   3199\u001b[0m         pretrained_model_name_or_path,\n\u001b[0;32m   3200\u001b[0m         _add_variant(WEIGHTS_INDEX_NAME, variant),\n\u001b[0;32m   3201\u001b[0m         \u001b[38;5;241m*\u001b[39m\u001b[38;5;241m*\u001b[39mcached_file_kwargs,\n\u001b[0;32m   3202\u001b[0m     )\n",
      "File \u001b[1;32mg:\\My Drive\\FIT3162\\FYP-FIT3162\\myenv\\Lib\\site-packages\\transformers\\utils\\hub.py:398\u001b[0m, in \u001b[0;36mcached_file\u001b[1;34m(path_or_repo_id, filename, cache_dir, force_download, resume_download, proxies, token, revision, local_files_only, subfolder, repo_type, user_agent, _raise_exceptions_for_gated_repo, _raise_exceptions_for_missing_entries, _raise_exceptions_for_connection_errors, _commit_hash, **deprecated_kwargs)\u001b[0m\n\u001b[0;32m    395\u001b[0m user_agent \u001b[38;5;241m=\u001b[39m http_user_agent(user_agent)\n\u001b[0;32m    396\u001b[0m \u001b[38;5;28;01mtry\u001b[39;00m:\n\u001b[0;32m    397\u001b[0m     \u001b[38;5;66;03m# Load from URL or cache if already cached\u001b[39;00m\n\u001b[1;32m--> 398\u001b[0m     resolved_file \u001b[38;5;241m=\u001b[39m \u001b[43mhf_hub_download\u001b[49m\u001b[43m(\u001b[49m\n\u001b[0;32m    399\u001b[0m \u001b[43m        \u001b[49m\u001b[43mpath_or_repo_id\u001b[49m\u001b[43m,\u001b[49m\n\u001b[0;32m    400\u001b[0m \u001b[43m        \u001b[49m\u001b[43mfilename\u001b[49m\u001b[43m,\u001b[49m\n\u001b[0;32m    401\u001b[0m \u001b[43m        \u001b[49m\u001b[43msubfolder\u001b[49m\u001b[38;5;241;43m=\u001b[39;49m\u001b[38;5;28;43;01mNone\u001b[39;49;00m\u001b[43m \u001b[49m\u001b[38;5;28;43;01mif\u001b[39;49;00m\u001b[43m \u001b[49m\u001b[38;5;28;43mlen\u001b[39;49m\u001b[43m(\u001b[49m\u001b[43msubfolder\u001b[49m\u001b[43m)\u001b[49m\u001b[43m \u001b[49m\u001b[38;5;241;43m==\u001b[39;49m\u001b[43m \u001b[49m\u001b[38;5;241;43m0\u001b[39;49m\u001b[43m \u001b[49m\u001b[38;5;28;43;01melse\u001b[39;49;00m\u001b[43m \u001b[49m\u001b[43msubfolder\u001b[49m\u001b[43m,\u001b[49m\n\u001b[0;32m    402\u001b[0m \u001b[43m        \u001b[49m\u001b[43mrepo_type\u001b[49m\u001b[38;5;241;43m=\u001b[39;49m\u001b[43mrepo_type\u001b[49m\u001b[43m,\u001b[49m\n\u001b[0;32m    403\u001b[0m \u001b[43m        \u001b[49m\u001b[43mrevision\u001b[49m\u001b[38;5;241;43m=\u001b[39;49m\u001b[43mrevision\u001b[49m\u001b[43m,\u001b[49m\n\u001b[0;32m    404\u001b[0m \u001b[43m        \u001b[49m\u001b[43mcache_dir\u001b[49m\u001b[38;5;241;43m=\u001b[39;49m\u001b[43mcache_dir\u001b[49m\u001b[43m,\u001b[49m\n\u001b[0;32m    405\u001b[0m \u001b[43m        \u001b[49m\u001b[43muser_agent\u001b[49m\u001b[38;5;241;43m=\u001b[39;49m\u001b[43muser_agent\u001b[49m\u001b[43m,\u001b[49m\n\u001b[0;32m    406\u001b[0m \u001b[43m        \u001b[49m\u001b[43mforce_download\u001b[49m\u001b[38;5;241;43m=\u001b[39;49m\u001b[43mforce_download\u001b[49m\u001b[43m,\u001b[49m\n\u001b[0;32m    407\u001b[0m \u001b[43m        \u001b[49m\u001b[43mproxies\u001b[49m\u001b[38;5;241;43m=\u001b[39;49m\u001b[43mproxies\u001b[49m\u001b[43m,\u001b[49m\n\u001b[0;32m    408\u001b[0m \u001b[43m        \u001b[49m\u001b[43mresume_download\u001b[49m\u001b[38;5;241;43m=\u001b[39;49m\u001b[43mresume_download\u001b[49m\u001b[43m,\u001b[49m\n\u001b[0;32m    409\u001b[0m \u001b[43m        \u001b[49m\u001b[43mtoken\u001b[49m\u001b[38;5;241;43m=\u001b[39;49m\u001b[43mtoken\u001b[49m\u001b[43m,\u001b[49m\n\u001b[0;32m    410\u001b[0m \u001b[43m        \u001b[49m\u001b[43mlocal_files_only\u001b[49m\u001b[38;5;241;43m=\u001b[39;49m\u001b[43mlocal_files_only\u001b[49m\u001b[43m,\u001b[49m\n\u001b[0;32m    411\u001b[0m \u001b[43m    \u001b[49m\u001b[43m)\u001b[49m\n\u001b[0;32m    412\u001b[0m \u001b[38;5;28;01mexcept\u001b[39;00m GatedRepoError \u001b[38;5;28;01mas\u001b[39;00m e:\n\u001b[0;32m    413\u001b[0m     resolved_file \u001b[38;5;241m=\u001b[39m _get_cache_file_to_return(path_or_repo_id, full_filename, cache_dir, revision)\n",
      "File \u001b[1;32mg:\\My Drive\\FIT3162\\FYP-FIT3162\\myenv\\Lib\\site-packages\\huggingface_hub\\utils\\_validators.py:118\u001b[0m, in \u001b[0;36mvalidate_hf_hub_args.<locals>._inner_fn\u001b[1;34m(*args, **kwargs)\u001b[0m\n\u001b[0;32m    115\u001b[0m \u001b[38;5;28;01mif\u001b[39;00m check_use_auth_token:\n\u001b[0;32m    116\u001b[0m     kwargs \u001b[38;5;241m=\u001b[39m smoothly_deprecate_use_auth_token(fn_name\u001b[38;5;241m=\u001b[39mfn\u001b[38;5;241m.\u001b[39m\u001b[38;5;18m__name__\u001b[39m, has_token\u001b[38;5;241m=\u001b[39mhas_token, kwargs\u001b[38;5;241m=\u001b[39mkwargs)\n\u001b[1;32m--> 118\u001b[0m \u001b[38;5;28;01mreturn\u001b[39;00m \u001b[43mfn\u001b[49m\u001b[43m(\u001b[49m\u001b[38;5;241;43m*\u001b[39;49m\u001b[43margs\u001b[49m\u001b[43m,\u001b[49m\u001b[43m \u001b[49m\u001b[38;5;241;43m*\u001b[39;49m\u001b[38;5;241;43m*\u001b[39;49m\u001b[43mkwargs\u001b[49m\u001b[43m)\u001b[49m\n",
      "File \u001b[1;32mg:\\My Drive\\FIT3162\\FYP-FIT3162\\myenv\\Lib\\site-packages\\huggingface_hub\\file_download.py:1492\u001b[0m, in \u001b[0;36mhf_hub_download\u001b[1;34m(repo_id, filename, subfolder, repo_type, revision, library_name, library_version, cache_dir, local_dir, local_dir_use_symlinks, user_agent, force_download, force_filename, proxies, etag_timeout, resume_download, token, local_files_only, legacy_cache_layout, endpoint)\u001b[0m\n\u001b[0;32m   1489\u001b[0m         \u001b[38;5;28;01mif\u001b[39;00m local_dir \u001b[38;5;129;01mis\u001b[39;00m \u001b[38;5;129;01mnot\u001b[39;00m \u001b[38;5;28;01mNone\u001b[39;00m:\n\u001b[0;32m   1490\u001b[0m             _check_disk_space(expected_size, local_dir)\n\u001b[1;32m-> 1492\u001b[0m     \u001b[43mhttp_get\u001b[49m\u001b[43m(\u001b[49m\n\u001b[0;32m   1493\u001b[0m \u001b[43m        \u001b[49m\u001b[43murl_to_download\u001b[49m\u001b[43m,\u001b[49m\n\u001b[0;32m   1494\u001b[0m \u001b[43m        \u001b[49m\u001b[43mtemp_file\u001b[49m\u001b[43m,\u001b[49m\n\u001b[0;32m   1495\u001b[0m \u001b[43m        \u001b[49m\u001b[43mproxies\u001b[49m\u001b[38;5;241;43m=\u001b[39;49m\u001b[43mproxies\u001b[49m\u001b[43m,\u001b[49m\n\u001b[0;32m   1496\u001b[0m \u001b[43m        \u001b[49m\u001b[43mresume_size\u001b[49m\u001b[38;5;241;43m=\u001b[39;49m\u001b[43mresume_size\u001b[49m\u001b[43m,\u001b[49m\n\u001b[0;32m   1497\u001b[0m \u001b[43m        \u001b[49m\u001b[43mheaders\u001b[49m\u001b[38;5;241;43m=\u001b[39;49m\u001b[43mheaders\u001b[49m\u001b[43m,\u001b[49m\n\u001b[0;32m   1498\u001b[0m \u001b[43m        \u001b[49m\u001b[43mexpected_size\u001b[49m\u001b[38;5;241;43m=\u001b[39;49m\u001b[43mexpected_size\u001b[49m\u001b[43m,\u001b[49m\n\u001b[0;32m   1499\u001b[0m \u001b[43m        \u001b[49m\u001b[43mdisplayed_filename\u001b[49m\u001b[38;5;241;43m=\u001b[39;49m\u001b[43mfilename\u001b[49m\u001b[43m,\u001b[49m\n\u001b[0;32m   1500\u001b[0m \u001b[43m    \u001b[49m\u001b[43m)\u001b[49m\n\u001b[0;32m   1502\u001b[0m \u001b[38;5;28;01mif\u001b[39;00m local_dir \u001b[38;5;129;01mis\u001b[39;00m \u001b[38;5;28;01mNone\u001b[39;00m:\n\u001b[0;32m   1503\u001b[0m     logger\u001b[38;5;241m.\u001b[39mdebug(\u001b[38;5;124mf\u001b[39m\u001b[38;5;124m\"\u001b[39m\u001b[38;5;124mStoring \u001b[39m\u001b[38;5;132;01m{\u001b[39;00murl\u001b[38;5;132;01m}\u001b[39;00m\u001b[38;5;124m in cache at \u001b[39m\u001b[38;5;132;01m{\u001b[39;00mblob_path\u001b[38;5;132;01m}\u001b[39;00m\u001b[38;5;124m\"\u001b[39m)\n",
      "File \u001b[1;32mg:\\My Drive\\FIT3162\\FYP-FIT3162\\myenv\\Lib\\site-packages\\huggingface_hub\\file_download.py:547\u001b[0m, in \u001b[0;36mhttp_get\u001b[1;34m(url, temp_file, proxies, resume_size, headers, expected_size, displayed_filename, _nb_retries)\u001b[0m\n\u001b[0;32m    545\u001b[0m new_resume_size \u001b[38;5;241m=\u001b[39m resume_size\n\u001b[0;32m    546\u001b[0m \u001b[38;5;28;01mtry\u001b[39;00m:\n\u001b[1;32m--> 547\u001b[0m \u001b[43m    \u001b[49m\u001b[38;5;28;43;01mfor\u001b[39;49;00m\u001b[43m \u001b[49m\u001b[43mchunk\u001b[49m\u001b[43m \u001b[49m\u001b[38;5;129;43;01min\u001b[39;49;00m\u001b[43m \u001b[49m\u001b[43mr\u001b[49m\u001b[38;5;241;43m.\u001b[39;49m\u001b[43miter_content\u001b[49m\u001b[43m(\u001b[49m\u001b[43mchunk_size\u001b[49m\u001b[38;5;241;43m=\u001b[39;49m\u001b[43mDOWNLOAD_CHUNK_SIZE\u001b[49m\u001b[43m)\u001b[49m\u001b[43m:\u001b[49m\n\u001b[0;32m    548\u001b[0m \u001b[43m        \u001b[49m\u001b[38;5;28;43;01mif\u001b[39;49;00m\u001b[43m \u001b[49m\u001b[43mchunk\u001b[49m\u001b[43m:\u001b[49m\u001b[43m  \u001b[49m\u001b[38;5;66;43;03m# filter out keep-alive new chunks\u001b[39;49;00m\n\u001b[0;32m    549\u001b[0m \u001b[43m            \u001b[49m\u001b[43mprogress\u001b[49m\u001b[38;5;241;43m.\u001b[39;49m\u001b[43mupdate\u001b[49m\u001b[43m(\u001b[49m\u001b[38;5;28;43mlen\u001b[39;49m\u001b[43m(\u001b[49m\u001b[43mchunk\u001b[49m\u001b[43m)\u001b[49m\u001b[43m)\u001b[49m\n",
      "File \u001b[1;32mg:\\My Drive\\FIT3162\\FYP-FIT3162\\myenv\\Lib\\site-packages\\requests\\models.py:816\u001b[0m, in \u001b[0;36mResponse.iter_content.<locals>.generate\u001b[1;34m()\u001b[0m\n\u001b[0;32m    814\u001b[0m \u001b[38;5;28;01mif\u001b[39;00m \u001b[38;5;28mhasattr\u001b[39m(\u001b[38;5;28mself\u001b[39m\u001b[38;5;241m.\u001b[39mraw, \u001b[38;5;124m\"\u001b[39m\u001b[38;5;124mstream\u001b[39m\u001b[38;5;124m\"\u001b[39m):\n\u001b[0;32m    815\u001b[0m     \u001b[38;5;28;01mtry\u001b[39;00m:\n\u001b[1;32m--> 816\u001b[0m         \u001b[38;5;28;01myield from\u001b[39;00m \u001b[38;5;28mself\u001b[39m\u001b[38;5;241m.\u001b[39mraw\u001b[38;5;241m.\u001b[39mstream(chunk_size, decode_content\u001b[38;5;241m=\u001b[39m\u001b[38;5;28;01mTrue\u001b[39;00m)\n\u001b[0;32m    817\u001b[0m     \u001b[38;5;28;01mexcept\u001b[39;00m ProtocolError \u001b[38;5;28;01mas\u001b[39;00m e:\n\u001b[0;32m    818\u001b[0m         \u001b[38;5;28;01mraise\u001b[39;00m ChunkedEncodingError(e)\n",
      "File \u001b[1;32mg:\\My Drive\\FIT3162\\FYP-FIT3162\\myenv\\Lib\\site-packages\\urllib3\\response.py:1043\u001b[0m, in \u001b[0;36mHTTPResponse.stream\u001b[1;34m(self, amt, decode_content)\u001b[0m\n\u001b[0;32m   1041\u001b[0m \u001b[38;5;28;01melse\u001b[39;00m:\n\u001b[0;32m   1042\u001b[0m     \u001b[38;5;28;01mwhile\u001b[39;00m \u001b[38;5;129;01mnot\u001b[39;00m is_fp_closed(\u001b[38;5;28mself\u001b[39m\u001b[38;5;241m.\u001b[39m_fp) \u001b[38;5;129;01mor\u001b[39;00m \u001b[38;5;28mlen\u001b[39m(\u001b[38;5;28mself\u001b[39m\u001b[38;5;241m.\u001b[39m_decoded_buffer) \u001b[38;5;241m>\u001b[39m \u001b[38;5;241m0\u001b[39m:\n\u001b[1;32m-> 1043\u001b[0m         data \u001b[38;5;241m=\u001b[39m \u001b[38;5;28;43mself\u001b[39;49m\u001b[38;5;241;43m.\u001b[39;49m\u001b[43mread\u001b[49m\u001b[43m(\u001b[49m\u001b[43mamt\u001b[49m\u001b[38;5;241;43m=\u001b[39;49m\u001b[43mamt\u001b[49m\u001b[43m,\u001b[49m\u001b[43m \u001b[49m\u001b[43mdecode_content\u001b[49m\u001b[38;5;241;43m=\u001b[39;49m\u001b[43mdecode_content\u001b[49m\u001b[43m)\u001b[49m\n\u001b[0;32m   1045\u001b[0m         \u001b[38;5;28;01mif\u001b[39;00m data:\n\u001b[0;32m   1046\u001b[0m             \u001b[38;5;28;01myield\u001b[39;00m data\n",
      "File \u001b[1;32mg:\\My Drive\\FIT3162\\FYP-FIT3162\\myenv\\Lib\\site-packages\\urllib3\\response.py:935\u001b[0m, in \u001b[0;36mHTTPResponse.read\u001b[1;34m(self, amt, decode_content, cache_content)\u001b[0m\n\u001b[0;32m    932\u001b[0m     \u001b[38;5;28;01mif\u001b[39;00m \u001b[38;5;28mlen\u001b[39m(\u001b[38;5;28mself\u001b[39m\u001b[38;5;241m.\u001b[39m_decoded_buffer) \u001b[38;5;241m>\u001b[39m\u001b[38;5;241m=\u001b[39m amt:\n\u001b[0;32m    933\u001b[0m         \u001b[38;5;28;01mreturn\u001b[39;00m \u001b[38;5;28mself\u001b[39m\u001b[38;5;241m.\u001b[39m_decoded_buffer\u001b[38;5;241m.\u001b[39mget(amt)\n\u001b[1;32m--> 935\u001b[0m data \u001b[38;5;241m=\u001b[39m \u001b[38;5;28;43mself\u001b[39;49m\u001b[38;5;241;43m.\u001b[39;49m\u001b[43m_raw_read\u001b[49m\u001b[43m(\u001b[49m\u001b[43mamt\u001b[49m\u001b[43m)\u001b[49m\n\u001b[0;32m    937\u001b[0m flush_decoder \u001b[38;5;241m=\u001b[39m amt \u001b[38;5;129;01mis\u001b[39;00m \u001b[38;5;28;01mNone\u001b[39;00m \u001b[38;5;129;01mor\u001b[39;00m (amt \u001b[38;5;241m!=\u001b[39m \u001b[38;5;241m0\u001b[39m \u001b[38;5;129;01mand\u001b[39;00m \u001b[38;5;129;01mnot\u001b[39;00m data)\n\u001b[0;32m    939\u001b[0m \u001b[38;5;28;01mif\u001b[39;00m \u001b[38;5;129;01mnot\u001b[39;00m data \u001b[38;5;129;01mand\u001b[39;00m \u001b[38;5;28mlen\u001b[39m(\u001b[38;5;28mself\u001b[39m\u001b[38;5;241m.\u001b[39m_decoded_buffer) \u001b[38;5;241m==\u001b[39m \u001b[38;5;241m0\u001b[39m:\n",
      "File \u001b[1;32mg:\\My Drive\\FIT3162\\FYP-FIT3162\\myenv\\Lib\\site-packages\\urllib3\\response.py:862\u001b[0m, in \u001b[0;36mHTTPResponse._raw_read\u001b[1;34m(self, amt, read1)\u001b[0m\n\u001b[0;32m    859\u001b[0m fp_closed \u001b[38;5;241m=\u001b[39m \u001b[38;5;28mgetattr\u001b[39m(\u001b[38;5;28mself\u001b[39m\u001b[38;5;241m.\u001b[39m_fp, \u001b[38;5;124m\"\u001b[39m\u001b[38;5;124mclosed\u001b[39m\u001b[38;5;124m\"\u001b[39m, \u001b[38;5;28;01mFalse\u001b[39;00m)\n\u001b[0;32m    861\u001b[0m \u001b[38;5;28;01mwith\u001b[39;00m \u001b[38;5;28mself\u001b[39m\u001b[38;5;241m.\u001b[39m_error_catcher():\n\u001b[1;32m--> 862\u001b[0m     data \u001b[38;5;241m=\u001b[39m \u001b[38;5;28;43mself\u001b[39;49m\u001b[38;5;241;43m.\u001b[39;49m\u001b[43m_fp_read\u001b[49m\u001b[43m(\u001b[49m\u001b[43mamt\u001b[49m\u001b[43m,\u001b[49m\u001b[43m \u001b[49m\u001b[43mread1\u001b[49m\u001b[38;5;241;43m=\u001b[39;49m\u001b[43mread1\u001b[49m\u001b[43m)\u001b[49m \u001b[38;5;28;01mif\u001b[39;00m \u001b[38;5;129;01mnot\u001b[39;00m fp_closed \u001b[38;5;28;01melse\u001b[39;00m \u001b[38;5;124mb\u001b[39m\u001b[38;5;124m\"\u001b[39m\u001b[38;5;124m\"\u001b[39m\n\u001b[0;32m    863\u001b[0m     \u001b[38;5;28;01mif\u001b[39;00m amt \u001b[38;5;129;01mis\u001b[39;00m \u001b[38;5;129;01mnot\u001b[39;00m \u001b[38;5;28;01mNone\u001b[39;00m \u001b[38;5;129;01mand\u001b[39;00m amt \u001b[38;5;241m!=\u001b[39m \u001b[38;5;241m0\u001b[39m \u001b[38;5;129;01mand\u001b[39;00m \u001b[38;5;129;01mnot\u001b[39;00m data:\n\u001b[0;32m    864\u001b[0m         \u001b[38;5;66;03m# Platform-specific: Buggy versions of Python.\u001b[39;00m\n\u001b[0;32m    865\u001b[0m         \u001b[38;5;66;03m# Close the connection when no data is returned\u001b[39;00m\n\u001b[1;32m   (...)\u001b[0m\n\u001b[0;32m    870\u001b[0m         \u001b[38;5;66;03m# not properly close the connection in all cases. There is\u001b[39;00m\n\u001b[0;32m    871\u001b[0m         \u001b[38;5;66;03m# no harm in redundantly calling close.\u001b[39;00m\n\u001b[0;32m    872\u001b[0m         \u001b[38;5;28mself\u001b[39m\u001b[38;5;241m.\u001b[39m_fp\u001b[38;5;241m.\u001b[39mclose()\n",
      "File \u001b[1;32mg:\\My Drive\\FIT3162\\FYP-FIT3162\\myenv\\Lib\\site-packages\\urllib3\\response.py:845\u001b[0m, in \u001b[0;36mHTTPResponse._fp_read\u001b[1;34m(self, amt, read1)\u001b[0m\n\u001b[0;32m    842\u001b[0m     \u001b[38;5;28;01mreturn\u001b[39;00m \u001b[38;5;28mself\u001b[39m\u001b[38;5;241m.\u001b[39m_fp\u001b[38;5;241m.\u001b[39mread1(amt) \u001b[38;5;28;01mif\u001b[39;00m amt \u001b[38;5;129;01mis\u001b[39;00m \u001b[38;5;129;01mnot\u001b[39;00m \u001b[38;5;28;01mNone\u001b[39;00m \u001b[38;5;28;01melse\u001b[39;00m \u001b[38;5;28mself\u001b[39m\u001b[38;5;241m.\u001b[39m_fp\u001b[38;5;241m.\u001b[39mread1()\n\u001b[0;32m    843\u001b[0m \u001b[38;5;28;01melse\u001b[39;00m:\n\u001b[0;32m    844\u001b[0m     \u001b[38;5;66;03m# StringIO doesn't like amt=None\u001b[39;00m\n\u001b[1;32m--> 845\u001b[0m     \u001b[38;5;28;01mreturn\u001b[39;00m \u001b[38;5;28;43mself\u001b[39;49m\u001b[38;5;241;43m.\u001b[39;49m\u001b[43m_fp\u001b[49m\u001b[38;5;241;43m.\u001b[39;49m\u001b[43mread\u001b[49m\u001b[43m(\u001b[49m\u001b[43mamt\u001b[49m\u001b[43m)\u001b[49m \u001b[38;5;28;01mif\u001b[39;00m amt \u001b[38;5;129;01mis\u001b[39;00m \u001b[38;5;129;01mnot\u001b[39;00m \u001b[38;5;28;01mNone\u001b[39;00m \u001b[38;5;28;01melse\u001b[39;00m \u001b[38;5;28mself\u001b[39m\u001b[38;5;241m.\u001b[39m_fp\u001b[38;5;241m.\u001b[39mread()\n",
      "File \u001b[1;32m~\\AppData\\Local\\Programs\\Python\\Python311\\Lib\\http\\client.py:466\u001b[0m, in \u001b[0;36mHTTPResponse.read\u001b[1;34m(self, amt)\u001b[0m\n\u001b[0;32m    463\u001b[0m \u001b[38;5;28;01mif\u001b[39;00m \u001b[38;5;28mself\u001b[39m\u001b[38;5;241m.\u001b[39mlength \u001b[38;5;129;01mis\u001b[39;00m \u001b[38;5;129;01mnot\u001b[39;00m \u001b[38;5;28;01mNone\u001b[39;00m \u001b[38;5;129;01mand\u001b[39;00m amt \u001b[38;5;241m>\u001b[39m \u001b[38;5;28mself\u001b[39m\u001b[38;5;241m.\u001b[39mlength:\n\u001b[0;32m    464\u001b[0m     \u001b[38;5;66;03m# clip the read to the \"end of response\"\u001b[39;00m\n\u001b[0;32m    465\u001b[0m     amt \u001b[38;5;241m=\u001b[39m \u001b[38;5;28mself\u001b[39m\u001b[38;5;241m.\u001b[39mlength\n\u001b[1;32m--> 466\u001b[0m s \u001b[38;5;241m=\u001b[39m \u001b[38;5;28mself\u001b[39m\u001b[38;5;241m.\u001b[39mfp\u001b[38;5;241m.\u001b[39mread(amt)\n\u001b[0;32m    467\u001b[0m \u001b[38;5;28;01mif\u001b[39;00m \u001b[38;5;129;01mnot\u001b[39;00m s \u001b[38;5;129;01mand\u001b[39;00m amt:\n\u001b[0;32m    468\u001b[0m     \u001b[38;5;66;03m# Ideally, we would raise IncompleteRead if the content-length\u001b[39;00m\n\u001b[0;32m    469\u001b[0m     \u001b[38;5;66;03m# wasn't satisfied, but it might break compatibility.\u001b[39;00m\n\u001b[0;32m    470\u001b[0m     \u001b[38;5;28mself\u001b[39m\u001b[38;5;241m.\u001b[39m_close_conn()\n",
      "File \u001b[1;32m~\\AppData\\Local\\Programs\\Python\\Python311\\Lib\\socket.py:706\u001b[0m, in \u001b[0;36mSocketIO.readinto\u001b[1;34m(self, b)\u001b[0m\n\u001b[0;32m    704\u001b[0m \u001b[38;5;28;01mwhile\u001b[39;00m \u001b[38;5;28;01mTrue\u001b[39;00m:\n\u001b[0;32m    705\u001b[0m     \u001b[38;5;28;01mtry\u001b[39;00m:\n\u001b[1;32m--> 706\u001b[0m         \u001b[38;5;28;01mreturn\u001b[39;00m \u001b[38;5;28;43mself\u001b[39;49m\u001b[38;5;241;43m.\u001b[39;49m\u001b[43m_sock\u001b[49m\u001b[38;5;241;43m.\u001b[39;49m\u001b[43mrecv_into\u001b[49m\u001b[43m(\u001b[49m\u001b[43mb\u001b[49m\u001b[43m)\u001b[49m\n\u001b[0;32m    707\u001b[0m     \u001b[38;5;28;01mexcept\u001b[39;00m timeout:\n\u001b[0;32m    708\u001b[0m         \u001b[38;5;28mself\u001b[39m\u001b[38;5;241m.\u001b[39m_timeout_occurred \u001b[38;5;241m=\u001b[39m \u001b[38;5;28;01mTrue\u001b[39;00m\n",
      "File \u001b[1;32m~\\AppData\\Local\\Programs\\Python\\Python311\\Lib\\ssl.py:1278\u001b[0m, in \u001b[0;36mSSLSocket.recv_into\u001b[1;34m(self, buffer, nbytes, flags)\u001b[0m\n\u001b[0;32m   1274\u001b[0m     \u001b[38;5;28;01mif\u001b[39;00m flags \u001b[38;5;241m!=\u001b[39m \u001b[38;5;241m0\u001b[39m:\n\u001b[0;32m   1275\u001b[0m         \u001b[38;5;28;01mraise\u001b[39;00m \u001b[38;5;167;01mValueError\u001b[39;00m(\n\u001b[0;32m   1276\u001b[0m           \u001b[38;5;124m\"\u001b[39m\u001b[38;5;124mnon-zero flags not allowed in calls to recv_into() on \u001b[39m\u001b[38;5;132;01m%s\u001b[39;00m\u001b[38;5;124m\"\u001b[39m \u001b[38;5;241m%\u001b[39m\n\u001b[0;32m   1277\u001b[0m           \u001b[38;5;28mself\u001b[39m\u001b[38;5;241m.\u001b[39m\u001b[38;5;18m__class__\u001b[39m)\n\u001b[1;32m-> 1278\u001b[0m     \u001b[38;5;28;01mreturn\u001b[39;00m \u001b[38;5;28;43mself\u001b[39;49m\u001b[38;5;241;43m.\u001b[39;49m\u001b[43mread\u001b[49m\u001b[43m(\u001b[49m\u001b[43mnbytes\u001b[49m\u001b[43m,\u001b[49m\u001b[43m \u001b[49m\u001b[43mbuffer\u001b[49m\u001b[43m)\u001b[49m\n\u001b[0;32m   1279\u001b[0m \u001b[38;5;28;01melse\u001b[39;00m:\n\u001b[0;32m   1280\u001b[0m     \u001b[38;5;28;01mreturn\u001b[39;00m \u001b[38;5;28msuper\u001b[39m()\u001b[38;5;241m.\u001b[39mrecv_into(buffer, nbytes, flags)\n",
      "File \u001b[1;32m~\\AppData\\Local\\Programs\\Python\\Python311\\Lib\\ssl.py:1134\u001b[0m, in \u001b[0;36mSSLSocket.read\u001b[1;34m(self, len, buffer)\u001b[0m\n\u001b[0;32m   1132\u001b[0m \u001b[38;5;28;01mtry\u001b[39;00m:\n\u001b[0;32m   1133\u001b[0m     \u001b[38;5;28;01mif\u001b[39;00m buffer \u001b[38;5;129;01mis\u001b[39;00m \u001b[38;5;129;01mnot\u001b[39;00m \u001b[38;5;28;01mNone\u001b[39;00m:\n\u001b[1;32m-> 1134\u001b[0m         \u001b[38;5;28;01mreturn\u001b[39;00m \u001b[38;5;28;43mself\u001b[39;49m\u001b[38;5;241;43m.\u001b[39;49m\u001b[43m_sslobj\u001b[49m\u001b[38;5;241;43m.\u001b[39;49m\u001b[43mread\u001b[49m\u001b[43m(\u001b[49m\u001b[38;5;28;43mlen\u001b[39;49m\u001b[43m,\u001b[49m\u001b[43m \u001b[49m\u001b[43mbuffer\u001b[49m\u001b[43m)\u001b[49m\n\u001b[0;32m   1135\u001b[0m     \u001b[38;5;28;01melse\u001b[39;00m:\n\u001b[0;32m   1136\u001b[0m         \u001b[38;5;28;01mreturn\u001b[39;00m \u001b[38;5;28mself\u001b[39m\u001b[38;5;241m.\u001b[39m_sslobj\u001b[38;5;241m.\u001b[39mread(\u001b[38;5;28mlen\u001b[39m)\n",
      "\u001b[1;31mKeyboardInterrupt\u001b[0m: "
     ]
    }
   ],
   "source": [
    "# -*- coding: utf-8 -*-\n",
    "# file: train.py\n",
    "# time: 11:30 2023/3/13\n",
    "# author: YANG, HENG <hy345@exeter.ac.uk> (杨恒)\n",
    "# github: https://github.com/yangheng95\n",
    "# huggingface: https://huggingface.co/yangheng\n",
    "# google scholar: https://scholar.google.com/citations?user=NPq5a_0AAAAJ&hl=en\n",
    "# Copyright (C) 2019-2023. All Rights Reserved.\n",
    "import os\n",
    "import warnings\n",
    "\n",
    "import findfile\n",
    "from pyabsa import ABSAInstruction as absa_instruction\n",
    "\n",
    "warnings.filterwarnings(\"ignore\")\n",
    "import pandas as pd\n",
    "\n",
    "\n",
    "task_name = \"multitask\"\n",
    "experiment_name = \"ABSA quadruple extraction instruction\"\n",
    "# model_checkpoint = 'allenai/tk-instruct-base-def-pos'\n",
    "model_checkpoint = \"kevinscaria/ate_tk-instruct-base-def-pos-neg-neut-combined\"\n",
    "# model_checkpoint = 'allenai/tk-instruct-large-def-pos'\n",
    "# model_checkpoint = 'allenai/tk-instruct-3b-def-pos'\n",
    "# model_checkpoint = 'google/mt5-base'\n",
    "\n",
    "print(\"Experiment Name: \", experiment_name)\n",
    "model_out_path = \"checkpoints\"\n",
    "model_out_path = os.path.join(\n",
    "    model_out_path, task_name, f\"{model_checkpoint.replace('/', '')}-{experiment_name}\"\n",
    ")\n",
    "print(\"Model output path: \", model_out_path)\n",
    "\n",
    "# Load the data\n",
    "# id_train_file_path = './integrated_datasets'\n",
    "# id_test_file_path = './integrated_datasets'\n",
    "# id_train_file_path = \"./integrated_datasets/acos_datasets/\"\n",
    "# id_test_file_path = \"./integrated_datasets/acos_datasets\"\n",
    "# id_train_file_path = \"./integrated_datasets/acos_datasets/501.Laptop14\"\n",
    "# id_test_file_path = \"./integrated_datasets/acos_datasets/501.Laptop14\"\n",
    "id_train_file_path = './integrated_datasets/acos_datasets/504.Restaurant16'\n",
    "id_test_file_path = './integrated_datasets/acos_datasets/504.Restaurant16'\n",
    "\n",
    "\n",
    "id_tr_df = absa_instruction.data_utils.read_json(id_train_file_path, \"train\")\n",
    "id_te_df = absa_instruction.data_utils.read_json(id_test_file_path, \"test\")\n",
    "\n",
    "id_tr_df = pd.DataFrame(id_tr_df)\n",
    "id_te_df = pd.DataFrame(id_te_df)\n",
    "\n",
    "loader = absa_instruction.data_utils.InstructDatasetLoader(id_tr_df, id_te_df)\n",
    "\n",
    "if loader.train_df_id is not None:\n",
    "    loader.train_df_id = loader.prepare_instruction_dataloader(loader.train_df_id)\n",
    "if loader.test_df_id is not None:\n",
    "    loader.test_df_id = loader.prepare_instruction_dataloader(loader.test_df_id)\n",
    "if loader.train_df_ood is not None:\n",
    "    loader.train_df_ood = loader.prepare_instruction_dataloader(loader.train_df_ood)\n",
    "if loader.test_df_ood is not None:\n",
    "    loader.test_df_ood = loader.prepare_instruction_dataloader(loader.test_df_ood)\n",
    "\n",
    "# Create T5 utils object\n",
    "t5_exp = absa_instruction.model.T5Generator(model_checkpoint)\n",
    "\n",
    "# Tokenize Dataset\n",
    "id_ds, id_tokenized_ds, ood_ds, ood_tokenzed_ds = loader.create_datasets(\n",
    "    t5_exp.tokenize_function_inputs\n",
    ")\n",
    "\n",
    "# Training arguments\n",
    "training_args = {\n",
    "    \"output_dir\": model_out_path,\n",
    "    \"evaluation_strategy\": \"epoch\",\n",
    "    \"save_strategy\": \"epoch\",\n",
    "    \"learning_rate\": 5e-5,\n",
    "    \"per_device_train_batch_size\": 4,\n",
    "    \"per_device_eval_batch_size\": 16,\n",
    "    \"num_train_epochs\": 2,\n",
    "    \"weight_decay\": 0.01,\n",
    "    \"warmup_ratio\": 0.1,\n",
    "    \"load_best_model_at_end\": True,\n",
    "    \"push_to_hub\": False,\n",
    "    \"eval_accumulation_steps\": 1,\n",
    "    \"predict_with_generate\": True,\n",
    "    \"logging_steps\": 1000000000,\n",
    "    \"use_mps_device\": False,\n",
    "    # 'fp16': True,\n",
    "    \"fp16\": False,\n",
    "}\n",
    "\n",
    "# Train model\n",
    "model_trainer = t5_exp.train(id_tokenized_ds, **training_args)\n",
    "\n",
    "\n",
    "# Get prediction labels - Training set\n",
    "id_tr_pred_labels = t5_exp.get_labels(\n",
    "    predictor=model_trainer,\n",
    "    tokenized_dataset=id_tokenized_ds,\n",
    "    sample_set=\"train\",\n",
    "    batch_size=16,\n",
    ")\n",
    "id_tr_labels = [i.strip() for i in id_ds[\"train\"][\"labels\"]]\n",
    "\n",
    "# Get prediction labels - Testing set\n",
    "id_te_pred_labels = t5_exp.get_labels(\n",
    "    predictor=model_trainer,\n",
    "    tokenized_dataset=id_tokenized_ds,\n",
    "    sample_set=\"test\",\n",
    "    batch_size=16,\n",
    ")\n",
    "id_te_labels = [i.strip() for i in id_ds[\"test\"][\"labels\"]]\n",
    "\n",
    "# # Compute Metrics\n",
    "# metrics = t5_exp.get_metrics(id_tr_labels, id_tr_pred_labels)\n",
    "# print('----------------------- Training Set Metrics -----------------------')\n",
    "# print(metrics)\n",
    "#\n",
    "# metrics = t5_exp.get_metrics(id_te_labels, id_te_pred_labels)\n",
    "# print('----------------------- Testing Set Metrics -----------------------')\n",
    "# print(metrics)\n",
    "# Compute Metrics\n",
    "metrics = t5_exp.get_classic_metrics(id_tr_labels, id_tr_pred_labels)\n",
    "print(\"----------------------- Classic Training Set Metrics -----------------------\")\n",
    "print(metrics)\n",
    "\n",
    "metrics = t5_exp.get_classic_metrics(id_te_labels, id_te_pred_labels)\n",
    "print(\"----------------------- Classic Testing Set Metrics -----------------------\")\n",
    "print(metrics)"
   ]
  },
  {
   "cell_type": "markdown",
   "metadata": {},
   "source": [
    "### Triple Extraction Task\n",
    "\n",
    "#### Extracts Aspect term and sentiment polarity"
   ]
  },
  {
   "cell_type": "code",
   "execution_count": 4,
   "metadata": {},
   "outputs": [],
   "source": [
    "from pyabsa import AspectSentimentTripletExtraction as ASTE\n",
    "\n",
    "def aste_predict(text):\n",
    "  # Load the model\n",
    "  triplet_extractor = ASTE.AspectSentimentTripletExtractor(\"english\")\n",
    "  # triplet_extractor = ASTE.AspectSentimentTripletExtractor(\"multilingual\")\n",
    "\n",
    "  if text:\n",
    "    return triplet_extractor.predict(text)\n",
    "  # # Predict\n",
    "  examples = [\n",
    "      \"I would like to have volume buttons rather than the adjustment that is on the front .####[([5, 6], [2], 'NEG')]\",\n",
    "      \"It runs perfectly .####[([1], [2], 'POS')]\",\n",
    "      \"Sometimes the screen even goes black on this computer .####[([2], [5], 'NEG')]\",\n",
    "      \"Its fast and another thing I like is that it has three USB ports .####[([12, 13], [6], 'POS')]\",\n",
    "  ]\n",
    "  for example in examples:\n",
    "      triplet_extractor.predict(example)"
   ]
  },
  {
   "cell_type": "code",
   "execution_count": null,
   "metadata": {},
   "outputs": [],
   "source": [
    "aste_predict(\"Avoid this place!\")"
   ]
  },
  {
   "cell_type": "markdown",
   "metadata": {},
   "source": [
    "#### Using CUDA"
   ]
  },
  {
   "cell_type": "code",
   "execution_count": 2,
   "metadata": {},
   "outputs": [
    {
     "name": "stdout",
     "output_type": "stream",
     "text": [
      "[2024-03-21 01:41:49] (2.4.1.post1) \u001b[31mPyABSA(2.4.1.post1): If your code crashes on Colab, please use the GPU runtime. Then run \"pip install pyabsa[dev] -U\" and restart the kernel.\n",
      "Or if it does not work, you can use v1.x versions, e.g., pip install pyabsa<2.0 -U\n",
      "\n",
      "\n",
      "\n",
      "\n",
      "WARNING: When you fails to load a checkpoint, e.g., Unexpected key(s),\n",
      "Try to downgrade transformers<=4.29.0.\n",
      "\n",
      "\n",
      "\n",
      "\u001b[0m\n"
     ]
    },
    {
     "name": "stderr",
     "output_type": "stream",
     "text": [
      "C:\\Users\\regan\\AppData\\Local\\Programs\\Python\\Python311\\Lib\\multiprocessing\\pool.py:268: ResourceWarning: unclosed running multiprocessing pool <multiprocessing.pool.Pool state=RUN pool_size=1>\n",
      "  _warn(f\"unclosed running multiprocessing pool {self!r}\",\n",
      "ResourceWarning: Enable tracemalloc to get the object allocation traceback\n"
     ]
    },
    {
     "name": "stdout",
     "output_type": "stream",
     "text": [
      "[2024-03-21 01:42:00] (2.4.1.post1) Set Model Device: cuda:0\n",
      "[2024-03-21 01:42:00] (2.4.1.post1) Device Name: NVIDIA GeForce RTX 3060 Ti\n"
     ]
    },
    {
     "data": {
      "application/vnd.jupyter.widget-view+json": {
       "model_id": "562797a3e3144a31a86e78e372a3680a",
       "version_major": 2,
       "version_minor": 0
      },
      "text/plain": [
       "config.json:   0%|          | 0.00/579 [00:00<?, ?B/s]"
      ]
     },
     "metadata": {},
     "output_type": "display_data"
    },
    {
     "name": "stdout",
     "output_type": "stream",
     "text": [
      "2024-03-21 01:42:00,676 INFO: PyABSA version: 2.4.1.post1\n",
      "2024-03-21 01:42:00,676 INFO: Transformers version: 4.38.2\n",
      "2024-03-21 01:42:00,676 INFO: Torch version: 2.2.1+cu121+cuda12.1\n",
      "2024-03-21 01:42:00,676 INFO: Device: NVIDIA GeForce RTX 3060 Ti\n",
      "2024-03-21 01:42:00,699 INFO: Searching dataset semeval in local disk\n"
     ]
    },
    {
     "name": "stderr",
     "output_type": "stream",
     "text": [
      "c:\\Users\\regan\\Documents\\FYP-FIT3162\\myenv\\Lib\\site-packages\\huggingface_hub\\file_download.py:149: UserWarning: `huggingface_hub` cache-system uses symlinks by default to efficiently store duplicated files but your machine does not support them in C:\\Users\\regan\\.cache\\huggingface\\hub\\models--microsoft--mdeberta-v3-base. Caching files will still work but in a degraded version that might require more space on your disk. This warning can be disabled by setting the `HF_HUB_DISABLE_SYMLINKS_WARNING` environment variable. For more details, see https://huggingface.co/docs/huggingface_hub/how-to-cache#limitations.\n",
      "To support symlinks on Windows, you either need to activate Developer Mode or to run Python as an administrator. In order to see activate developer mode, see this article: https://docs.microsoft.com/en-us/windows/apps/get-started/enable-your-device-for-development\n",
      "  warnings.warn(message)\n"
     ]
    },
    {
     "name": "stdout",
     "output_type": "stream",
     "text": [
      "FindFile Warning --> multiple targets ['integrated_datasets\\\\aste_datasets\\\\400.SemEval', 'integrated_datasets\\\\aste_datasets\\\\400.SemEval\\\\401.Laptop14', 'integrated_datasets\\\\aste_datasets\\\\400.SemEval\\\\402.Restaurant14', 'integrated_datasets\\\\aste_datasets\\\\400.SemEval\\\\403.Restaurant15', 'integrated_datasets\\\\aste_datasets\\\\400.SemEval\\\\404.Restaurant16'] found, only return the shortest path: <\u001b[33mintegrated_datasets\\aste_datasets\\400.SemEval\u001b[0m>\n",
      "2024-03-21 01:42:00,936 INFO: You can set load_aug=True in a trainer to augment your dataset (English only yet) and improve performance.\n",
      "2024-03-21 01:42:00,936 INFO: Please use a new folder to perform new text augment if the former augment in integrated_datasets\\aste_datasets\\400.SemEval errored unexpectedly\n",
      "[2024-03-21 01:42:00] (2.4.1.post1) \u001b[33mUse torch.AMP for training! Please disable it if you encounter convergence problems.\u001b[0m\n"
     ]
    },
    {
     "data": {
      "application/vnd.jupyter.widget-view+json": {
       "model_id": "f172ff71072645b7b7e0775883c0ec12",
       "version_major": 2,
       "version_minor": 0
      },
      "text/plain": [
       "tokenizer_config.json:   0%|          | 0.00/52.0 [00:00<?, ?B/s]"
      ]
     },
     "metadata": {},
     "output_type": "display_data"
    },
    {
     "data": {
      "application/vnd.jupyter.widget-view+json": {
       "model_id": "8ef34fb04eed41788bcaa9c166ac3bb7",
       "version_major": 2,
       "version_minor": 0
      },
      "text/plain": [
       "spm.model:   0%|          | 0.00/4.31M [00:00<?, ?B/s]"
      ]
     },
     "metadata": {},
     "output_type": "display_data"
    },
    {
     "name": "stderr",
     "output_type": "stream",
     "text": [
      "c:\\Users\\regan\\Documents\\FYP-FIT3162\\myenv\\Lib\\site-packages\\transformers\\convert_slow_tokenizer.py:550: UserWarning: The sentencepiece tokenizer that you are converting to a fast tokenizer uses the byte fallback option which is not implemented in the fast tokenizers. In practice this means that the fast version of the tokenizer can produce unknown tokens whereas the sentencepiece version would have converted these unknown tokens into a sequence of byte tokens matching the original piece of text.\n",
      "  warnings.warn(\n"
     ]
    },
    {
     "name": "stdout",
     "output_type": "stream",
     "text": [
      "2024-03-21 01:42:08,493 INFO: Load dataset from integrated_datasets\\aste_datasets\\400.SemEval\\401.Laptop14\\train.txt\n",
      "2024-03-21 01:42:08,503 INFO: Load dataset from integrated_datasets\\aste_datasets\\400.SemEval\\403.Restaurant15\\train.txt\n",
      "2024-03-21 01:42:08,511 INFO: Load dataset from integrated_datasets\\aste_datasets\\400.SemEval\\402.Restaurant14\\train.txt\n",
      "2024-03-21 01:42:08,517 INFO: Load dataset from integrated_datasets\\aste_datasets\\400.SemEval\\404.Restaurant16\\train.txt\n"
     ]
    },
    {
     "name": "stderr",
     "output_type": "stream",
     "text": [
      "preparing dataloader: 100%|██████████| 3634/3634 [00:17<00:00, 206.62it/s]\n"
     ]
    },
    {
     "name": "stdout",
     "output_type": "stream",
     "text": [
      "2024-03-21 01:42:27,164 INFO: train data examples:\n",
      " [{'id': tensor(0), 'sentence': 'I charge it at night and skip taking the cord with me because of the good battery life .', 'postag': ['PRON', 'VERB', 'NOUN', 'ADP', 'PROPN', 'CCONJ', 'ADJ', 'ADJ', 'DET', 'NOUN', 'ADP', 'PRON', 'NOUN', 'ADP', 'DET', 'NOUN', 'ADV', 'VERB', 'PUNCT'], 'head': tensor([ 1,  1,  1,  4,  9,  9,  9,  9,  9,  1, 17, 12, 10, 15, 15, 17, 17,  1,\n",
      "         1]), 'deprel': ['nsubj', 'ROOT', 'dobj', 'case', 'conj', 'cc', 'acl', 'compound:nn', 'det', 'dobj', 'aux:ba', 'compound:nn', 'dep', 'case', 'det', 'nmod:prep', 'advmod', 'conj', 'punct'], 'triples': [{'uid': '0-0', 'target_tags': 'I\\\\O charge\\\\O it\\\\O at\\\\O night\\\\O and\\\\O skip\\\\O taking\\\\O the\\\\O cord\\\\O with\\\\O me\\\\O because\\\\O of\\\\O the\\\\O good\\\\O battery\\\\B life\\\\I .\\\\O', 'opinion_tags': 'I\\\\O charge\\\\O it\\\\O at\\\\O night\\\\O and\\\\O skip\\\\O taking\\\\O the\\\\O cord\\\\O with\\\\O me\\\\O because\\\\O of\\\\O the\\\\O good\\\\B battery\\\\O life\\\\O .\\\\O', 'sentiment': 'Positive'}]}, {'id': tensor(1), 'sentence': 'it is of high quality , has a killer GUI , is extremely stable , is highly expandable , is bundled with lots of very good applications , is easy to use , and is absolutely gorgeous .', 'postag': ['NOUN', 'NOUN', 'ADP', 'NOUN', 'VERB', 'PUNCT', 'PROPN', 'NUM', 'VERB', 'PROPN', 'PUNCT', 'VERB', 'NUM', 'NOUN', 'PUNCT', 'ADV', 'VERB', 'VERB', 'PUNCT', 'ADV', 'VERB', 'VERB', 'NOUN', 'ADP', 'NOUN', 'NOUN', 'NOUN', 'PUNCT', 'ADJ', 'NOUN', 'ADP', 'NOUN', 'PUNCT', 'ADV', 'NOUN', 'PROPN', 'VERB', 'PUNCT'], 'head': tensor([ 4,  0,  3,  4,  4,  4,  8,  8,  4,  8,  8, 13, 13,  8,  8, 16,  8, 16,\n",
      "         8, 20,  8, 20, 26, 24, 25, 26, 20, 20, 20, 28, 31, 20,  8,  8, 35,  8,\n",
      "         8,  4]), 'deprel': ['dep', 'dep', 'case', 'nmod:prep', 'ROOT', 'punct', 'nsubj', 'dep', 'conj', 'dobj', 'punct', 'advmod', 'dep', 'conj', 'punct', 'advmod', 'conj', 'conj', 'punct', 'advmod', 'conj', 'dep', 'dep', 'case', 'compound:nn', 'compound:nn', 'nmod:prep', 'punct', 'dep', 'dobj', 'dep', 'dep', 'punct', 'dep', 'compound:nn', 'dobj', 'conj', 'punct'], 'triples': [{'uid': '0-0', 'target_tags': 'it\\\\O is\\\\O of\\\\O high\\\\O quality\\\\B ,\\\\O has\\\\O a\\\\O killer\\\\O GUI\\\\O ,\\\\O is\\\\O extremely\\\\O stable\\\\O ,\\\\O is\\\\O highly\\\\O expandable\\\\O ,\\\\O is\\\\O bundled\\\\O with\\\\O lots\\\\O of\\\\O very\\\\O good\\\\O applications\\\\O ,\\\\O is\\\\O easy\\\\O to\\\\O use\\\\O ,\\\\O and\\\\O is\\\\O absolutely\\\\O gorgeous\\\\O .\\\\O', 'opinion_tags': 'it\\\\O is\\\\O of\\\\O high\\\\B quality\\\\O ,\\\\O has\\\\O a\\\\O killer\\\\O GUI\\\\O ,\\\\O is\\\\O extremely\\\\O stable\\\\O ,\\\\O is\\\\O highly\\\\O expandable\\\\O ,\\\\O is\\\\O bundled\\\\O with\\\\O lots\\\\O of\\\\O very\\\\O good\\\\O applications\\\\O ,\\\\O is\\\\O easy\\\\O to\\\\O use\\\\O ,\\\\O and\\\\O is\\\\O absolutely\\\\O gorgeous\\\\O .\\\\O', 'sentiment': 'Positive'}, {'uid': '0-1', 'target_tags': 'it\\\\O is\\\\O of\\\\O high\\\\O quality\\\\B ,\\\\O has\\\\O a\\\\O killer\\\\O GUI\\\\O ,\\\\O is\\\\O extremely\\\\O stable\\\\O ,\\\\O is\\\\O highly\\\\O expandable\\\\O ,\\\\O is\\\\O bundled\\\\O with\\\\O lots\\\\O of\\\\O very\\\\O good\\\\O applications\\\\O ,\\\\O is\\\\O easy\\\\O to\\\\O use\\\\O ,\\\\O and\\\\O is\\\\O absolutely\\\\O gorgeous\\\\O .\\\\O', 'opinion_tags': 'it\\\\O is\\\\O of\\\\O high\\\\O quality\\\\O ,\\\\O has\\\\O a\\\\O killer\\\\B GUI\\\\O ,\\\\O is\\\\O extremely\\\\O stable\\\\O ,\\\\O is\\\\O highly\\\\O expandable\\\\O ,\\\\O is\\\\O bundled\\\\O with\\\\O lots\\\\O of\\\\O very\\\\O good\\\\O applications\\\\O ,\\\\O is\\\\O easy\\\\O to\\\\O use\\\\O ,\\\\O and\\\\O is\\\\O absolutely\\\\O gorgeous\\\\O .\\\\O', 'sentiment': 'Positive'}, {'uid': '0-2', 'target_tags': 'it\\\\O is\\\\O of\\\\O high\\\\O quality\\\\B ,\\\\O has\\\\O a\\\\O killer\\\\O GUI\\\\O ,\\\\O is\\\\O extremely\\\\O stable\\\\O ,\\\\O is\\\\O highly\\\\O expandable\\\\O ,\\\\O is\\\\O bundled\\\\O with\\\\O lots\\\\O of\\\\O very\\\\O good\\\\O applications\\\\O ,\\\\O is\\\\O easy\\\\O to\\\\O use\\\\O ,\\\\O and\\\\O is\\\\O absolutely\\\\O gorgeous\\\\O .\\\\O', 'opinion_tags': 'it\\\\O is\\\\O of\\\\O high\\\\O quality\\\\O ,\\\\O has\\\\O a\\\\O killer\\\\O GUI\\\\O ,\\\\O is\\\\O extremely\\\\O stable\\\\O ,\\\\O is\\\\O highly\\\\O expandable\\\\O ,\\\\O is\\\\O bundled\\\\O with\\\\O lots\\\\O of\\\\O very\\\\O good\\\\B applications\\\\O ,\\\\O is\\\\O easy\\\\O to\\\\O use\\\\O ,\\\\O and\\\\O is\\\\O absolutely\\\\O gorgeous\\\\O .\\\\O', 'sentiment': 'Positive'}, {'uid': '0-3', 'target_tags': 'it\\\\O is\\\\O of\\\\O high\\\\O quality\\\\B ,\\\\O has\\\\O a\\\\O killer\\\\O GUI\\\\O ,\\\\O is\\\\O extremely\\\\O stable\\\\O ,\\\\O is\\\\O highly\\\\O expandable\\\\O ,\\\\O is\\\\O bundled\\\\O with\\\\O lots\\\\O of\\\\O very\\\\O good\\\\O applications\\\\O ,\\\\O is\\\\O easy\\\\O to\\\\O use\\\\O ,\\\\O and\\\\O is\\\\O absolutely\\\\O gorgeous\\\\O .\\\\O', 'opinion_tags': 'it\\\\O is\\\\O of\\\\O high\\\\O quality\\\\O ,\\\\O has\\\\O a\\\\O killer\\\\O GUI\\\\O ,\\\\O is\\\\O extremely\\\\O stable\\\\O ,\\\\O is\\\\O highly\\\\O expandable\\\\O ,\\\\O is\\\\O bundled\\\\O with\\\\O lots\\\\O of\\\\O very\\\\O good\\\\O applications\\\\O ,\\\\O is\\\\O easy\\\\B to\\\\O use\\\\O ,\\\\O and\\\\O is\\\\O absolutely\\\\O gorgeous\\\\O .\\\\O', 'sentiment': 'Positive'}, {'uid': '1-0', 'target_tags': 'it\\\\O is\\\\O of\\\\O high\\\\O quality\\\\O ,\\\\O has\\\\O a\\\\O killer\\\\O GUI\\\\B ,\\\\O is\\\\O extremely\\\\O stable\\\\O ,\\\\O is\\\\O highly\\\\O expandable\\\\O ,\\\\O is\\\\O bundled\\\\O with\\\\O lots\\\\O of\\\\O very\\\\O good\\\\O applications\\\\O ,\\\\O is\\\\O easy\\\\O to\\\\O use\\\\O ,\\\\O and\\\\O is\\\\O absolutely\\\\O gorgeous\\\\O .\\\\O', 'opinion_tags': 'it\\\\O is\\\\O of\\\\O high\\\\B quality\\\\O ,\\\\O has\\\\O a\\\\O killer\\\\O GUI\\\\O ,\\\\O is\\\\O extremely\\\\O stable\\\\O ,\\\\O is\\\\O highly\\\\O expandable\\\\O ,\\\\O is\\\\O bundled\\\\O with\\\\O lots\\\\O of\\\\O very\\\\O good\\\\O applications\\\\O ,\\\\O is\\\\O easy\\\\O to\\\\O use\\\\O ,\\\\O and\\\\O is\\\\O absolutely\\\\O gorgeous\\\\O .\\\\O', 'sentiment': 'Positive'}, {'uid': '1-1', 'target_tags': 'it\\\\O is\\\\O of\\\\O high\\\\O quality\\\\O ,\\\\O has\\\\O a\\\\O killer\\\\O GUI\\\\B ,\\\\O is\\\\O extremely\\\\O stable\\\\O ,\\\\O is\\\\O highly\\\\O expandable\\\\O ,\\\\O is\\\\O bundled\\\\O with\\\\O lots\\\\O of\\\\O very\\\\O good\\\\O applications\\\\O ,\\\\O is\\\\O easy\\\\O to\\\\O use\\\\O ,\\\\O and\\\\O is\\\\O absolutely\\\\O gorgeous\\\\O .\\\\O', 'opinion_tags': 'it\\\\O is\\\\O of\\\\O high\\\\O quality\\\\O ,\\\\O has\\\\O a\\\\O killer\\\\B GUI\\\\O ,\\\\O is\\\\O extremely\\\\O stable\\\\O ,\\\\O is\\\\O highly\\\\O expandable\\\\O ,\\\\O is\\\\O bundled\\\\O with\\\\O lots\\\\O of\\\\O very\\\\O good\\\\O applications\\\\O ,\\\\O is\\\\O easy\\\\O to\\\\O use\\\\O ,\\\\O and\\\\O is\\\\O absolutely\\\\O gorgeous\\\\O .\\\\O', 'sentiment': 'Positive'}, {'uid': '1-2', 'target_tags': 'it\\\\O is\\\\O of\\\\O high\\\\O quality\\\\O ,\\\\O has\\\\O a\\\\O killer\\\\O GUI\\\\B ,\\\\O is\\\\O extremely\\\\O stable\\\\O ,\\\\O is\\\\O highly\\\\O expandable\\\\O ,\\\\O is\\\\O bundled\\\\O with\\\\O lots\\\\O of\\\\O very\\\\O good\\\\O applications\\\\O ,\\\\O is\\\\O easy\\\\O to\\\\O use\\\\O ,\\\\O and\\\\O is\\\\O absolutely\\\\O gorgeous\\\\O .\\\\O', 'opinion_tags': 'it\\\\O is\\\\O of\\\\O high\\\\O quality\\\\O ,\\\\O has\\\\O a\\\\O killer\\\\O GUI\\\\O ,\\\\O is\\\\O extremely\\\\O stable\\\\O ,\\\\O is\\\\O highly\\\\O expandable\\\\O ,\\\\O is\\\\O bundled\\\\O with\\\\O lots\\\\O of\\\\O very\\\\O good\\\\B applications\\\\O ,\\\\O is\\\\O easy\\\\O to\\\\O use\\\\O ,\\\\O and\\\\O is\\\\O absolutely\\\\O gorgeous\\\\O .\\\\O', 'sentiment': 'Positive'}, {'uid': '1-3', 'target_tags': 'it\\\\O is\\\\O of\\\\O high\\\\O quality\\\\O ,\\\\O has\\\\O a\\\\O killer\\\\O GUI\\\\B ,\\\\O is\\\\O extremely\\\\O stable\\\\O ,\\\\O is\\\\O highly\\\\O expandable\\\\O ,\\\\O is\\\\O bundled\\\\O with\\\\O lots\\\\O of\\\\O very\\\\O good\\\\O applications\\\\O ,\\\\O is\\\\O easy\\\\O to\\\\O use\\\\O ,\\\\O and\\\\O is\\\\O absolutely\\\\O gorgeous\\\\O .\\\\O', 'opinion_tags': 'it\\\\O is\\\\O of\\\\O high\\\\O quality\\\\O ,\\\\O has\\\\O a\\\\O killer\\\\O GUI\\\\O ,\\\\O is\\\\O extremely\\\\O stable\\\\O ,\\\\O is\\\\O highly\\\\O expandable\\\\O ,\\\\O is\\\\O bundled\\\\O with\\\\O lots\\\\O of\\\\O very\\\\O good\\\\O applications\\\\O ,\\\\O is\\\\O easy\\\\B to\\\\O use\\\\O ,\\\\O and\\\\O is\\\\O absolutely\\\\O gorgeous\\\\O .\\\\O', 'sentiment': 'Positive'}, {'uid': '2-0', 'target_tags': 'it\\\\O is\\\\O of\\\\O high\\\\O quality\\\\O ,\\\\O has\\\\O a\\\\O killer\\\\O GUI\\\\O ,\\\\O is\\\\O extremely\\\\O stable\\\\O ,\\\\O is\\\\O highly\\\\O expandable\\\\O ,\\\\O is\\\\O bundled\\\\O with\\\\O lots\\\\O of\\\\O very\\\\O good\\\\O applications\\\\B ,\\\\O is\\\\O easy\\\\O to\\\\O use\\\\O ,\\\\O and\\\\O is\\\\O absolutely\\\\O gorgeous\\\\O .\\\\O', 'opinion_tags': 'it\\\\O is\\\\O of\\\\O high\\\\B quality\\\\O ,\\\\O has\\\\O a\\\\O killer\\\\O GUI\\\\O ,\\\\O is\\\\O extremely\\\\O stable\\\\O ,\\\\O is\\\\O highly\\\\O expandable\\\\O ,\\\\O is\\\\O bundled\\\\O with\\\\O lots\\\\O of\\\\O very\\\\O good\\\\O applications\\\\O ,\\\\O is\\\\O easy\\\\O to\\\\O use\\\\O ,\\\\O and\\\\O is\\\\O absolutely\\\\O gorgeous\\\\O .\\\\O', 'sentiment': 'Positive'}, {'uid': '2-1', 'target_tags': 'it\\\\O is\\\\O of\\\\O high\\\\O quality\\\\O ,\\\\O has\\\\O a\\\\O killer\\\\O GUI\\\\O ,\\\\O is\\\\O extremely\\\\O stable\\\\O ,\\\\O is\\\\O highly\\\\O expandable\\\\O ,\\\\O is\\\\O bundled\\\\O with\\\\O lots\\\\O of\\\\O very\\\\O good\\\\O applications\\\\B ,\\\\O is\\\\O easy\\\\O to\\\\O use\\\\O ,\\\\O and\\\\O is\\\\O absolutely\\\\O gorgeous\\\\O .\\\\O', 'opinion_tags': 'it\\\\O is\\\\O of\\\\O high\\\\O quality\\\\O ,\\\\O has\\\\O a\\\\O killer\\\\B GUI\\\\O ,\\\\O is\\\\O extremely\\\\O stable\\\\O ,\\\\O is\\\\O highly\\\\O expandable\\\\O ,\\\\O is\\\\O bundled\\\\O with\\\\O lots\\\\O of\\\\O very\\\\O good\\\\O applications\\\\O ,\\\\O is\\\\O easy\\\\O to\\\\O use\\\\O ,\\\\O and\\\\O is\\\\O absolutely\\\\O gorgeous\\\\O .\\\\O', 'sentiment': 'Positive'}, {'uid': '2-2', 'target_tags': 'it\\\\O is\\\\O of\\\\O high\\\\O quality\\\\O ,\\\\O has\\\\O a\\\\O killer\\\\O GUI\\\\O ,\\\\O is\\\\O extremely\\\\O stable\\\\O ,\\\\O is\\\\O highly\\\\O expandable\\\\O ,\\\\O is\\\\O bundled\\\\O with\\\\O lots\\\\O of\\\\O very\\\\O good\\\\O applications\\\\B ,\\\\O is\\\\O easy\\\\O to\\\\O use\\\\O ,\\\\O and\\\\O is\\\\O absolutely\\\\O gorgeous\\\\O .\\\\O', 'opinion_tags': 'it\\\\O is\\\\O of\\\\O high\\\\O quality\\\\O ,\\\\O has\\\\O a\\\\O killer\\\\O GUI\\\\O ,\\\\O is\\\\O extremely\\\\O stable\\\\O ,\\\\O is\\\\O highly\\\\O expandable\\\\O ,\\\\O is\\\\O bundled\\\\O with\\\\O lots\\\\O of\\\\O very\\\\O good\\\\B applications\\\\O ,\\\\O is\\\\O easy\\\\O to\\\\O use\\\\O ,\\\\O and\\\\O is\\\\O absolutely\\\\O gorgeous\\\\O .\\\\O', 'sentiment': 'Positive'}, {'uid': '2-3', 'target_tags': 'it\\\\O is\\\\O of\\\\O high\\\\O quality\\\\O ,\\\\O has\\\\O a\\\\O killer\\\\O GUI\\\\O ,\\\\O is\\\\O extremely\\\\O stable\\\\O ,\\\\O is\\\\O highly\\\\O expandable\\\\O ,\\\\O is\\\\O bundled\\\\O with\\\\O lots\\\\O of\\\\O very\\\\O good\\\\O applications\\\\B ,\\\\O is\\\\O easy\\\\O to\\\\O use\\\\O ,\\\\O and\\\\O is\\\\O absolutely\\\\O gorgeous\\\\O .\\\\O', 'opinion_tags': 'it\\\\O is\\\\O of\\\\O high\\\\O quality\\\\O ,\\\\O has\\\\O a\\\\O killer\\\\O GUI\\\\O ,\\\\O is\\\\O extremely\\\\O stable\\\\O ,\\\\O is\\\\O highly\\\\O expandable\\\\O ,\\\\O is\\\\O bundled\\\\O with\\\\O lots\\\\O of\\\\O very\\\\O good\\\\O applications\\\\O ,\\\\O is\\\\O easy\\\\B to\\\\O use\\\\O ,\\\\O and\\\\O is\\\\O absolutely\\\\O gorgeous\\\\O .\\\\O', 'sentiment': 'Positive'}, {'uid': '3-0', 'target_tags': 'it\\\\O is\\\\O of\\\\O high\\\\O quality\\\\O ,\\\\O has\\\\O a\\\\O killer\\\\O GUI\\\\O ,\\\\O is\\\\O extremely\\\\O stable\\\\O ,\\\\O is\\\\O highly\\\\O expandable\\\\O ,\\\\O is\\\\O bundled\\\\O with\\\\O lots\\\\O of\\\\O very\\\\O good\\\\O applications\\\\O ,\\\\O is\\\\O easy\\\\O to\\\\O use\\\\B ,\\\\O and\\\\O is\\\\O absolutely\\\\O gorgeous\\\\O .\\\\O', 'opinion_tags': 'it\\\\O is\\\\O of\\\\O high\\\\B quality\\\\O ,\\\\O has\\\\O a\\\\O killer\\\\O GUI\\\\O ,\\\\O is\\\\O extremely\\\\O stable\\\\O ,\\\\O is\\\\O highly\\\\O expandable\\\\O ,\\\\O is\\\\O bundled\\\\O with\\\\O lots\\\\O of\\\\O very\\\\O good\\\\O applications\\\\O ,\\\\O is\\\\O easy\\\\O to\\\\O use\\\\O ,\\\\O and\\\\O is\\\\O absolutely\\\\O gorgeous\\\\O .\\\\O', 'sentiment': 'Positive'}, {'uid': '3-1', 'target_tags': 'it\\\\O is\\\\O of\\\\O high\\\\O quality\\\\O ,\\\\O has\\\\O a\\\\O killer\\\\O GUI\\\\O ,\\\\O is\\\\O extremely\\\\O stable\\\\O ,\\\\O is\\\\O highly\\\\O expandable\\\\O ,\\\\O is\\\\O bundled\\\\O with\\\\O lots\\\\O of\\\\O very\\\\O good\\\\O applications\\\\O ,\\\\O is\\\\O easy\\\\O to\\\\O use\\\\B ,\\\\O and\\\\O is\\\\O absolutely\\\\O gorgeous\\\\O .\\\\O', 'opinion_tags': 'it\\\\O is\\\\O of\\\\O high\\\\O quality\\\\O ,\\\\O has\\\\O a\\\\O killer\\\\B GUI\\\\O ,\\\\O is\\\\O extremely\\\\O stable\\\\O ,\\\\O is\\\\O highly\\\\O expandable\\\\O ,\\\\O is\\\\O bundled\\\\O with\\\\O lots\\\\O of\\\\O very\\\\O good\\\\O applications\\\\O ,\\\\O is\\\\O easy\\\\O to\\\\O use\\\\O ,\\\\O and\\\\O is\\\\O absolutely\\\\O gorgeous\\\\O .\\\\O', 'sentiment': 'Positive'}, {'uid': '3-2', 'target_tags': 'it\\\\O is\\\\O of\\\\O high\\\\O quality\\\\O ,\\\\O has\\\\O a\\\\O killer\\\\O GUI\\\\O ,\\\\O is\\\\O extremely\\\\O stable\\\\O ,\\\\O is\\\\O highly\\\\O expandable\\\\O ,\\\\O is\\\\O bundled\\\\O with\\\\O lots\\\\O of\\\\O very\\\\O good\\\\O applications\\\\O ,\\\\O is\\\\O easy\\\\O to\\\\O use\\\\B ,\\\\O and\\\\O is\\\\O absolutely\\\\O gorgeous\\\\O .\\\\O', 'opinion_tags': 'it\\\\O is\\\\O of\\\\O high\\\\O quality\\\\O ,\\\\O has\\\\O a\\\\O killer\\\\O GUI\\\\O ,\\\\O is\\\\O extremely\\\\O stable\\\\O ,\\\\O is\\\\O highly\\\\O expandable\\\\O ,\\\\O is\\\\O bundled\\\\O with\\\\O lots\\\\O of\\\\O very\\\\O good\\\\B applications\\\\O ,\\\\O is\\\\O easy\\\\O to\\\\O use\\\\O ,\\\\O and\\\\O is\\\\O absolutely\\\\O gorgeous\\\\O .\\\\O', 'sentiment': 'Positive'}, {'uid': '3-3', 'target_tags': 'it\\\\O is\\\\O of\\\\O high\\\\O quality\\\\O ,\\\\O has\\\\O a\\\\O killer\\\\O GUI\\\\O ,\\\\O is\\\\O extremely\\\\O stable\\\\O ,\\\\O is\\\\O highly\\\\O expandable\\\\O ,\\\\O is\\\\O bundled\\\\O with\\\\O lots\\\\O of\\\\O very\\\\O good\\\\O applications\\\\O ,\\\\O is\\\\O easy\\\\O to\\\\O use\\\\B ,\\\\O and\\\\O is\\\\O absolutely\\\\O gorgeous\\\\O .\\\\O', 'opinion_tags': 'it\\\\O is\\\\O of\\\\O high\\\\O quality\\\\O ,\\\\O has\\\\O a\\\\O killer\\\\O GUI\\\\O ,\\\\O is\\\\O extremely\\\\O stable\\\\O ,\\\\O is\\\\O highly\\\\O expandable\\\\O ,\\\\O is\\\\O bundled\\\\O with\\\\O lots\\\\O of\\\\O very\\\\O good\\\\O applications\\\\O ,\\\\O is\\\\O easy\\\\B to\\\\O use\\\\O ,\\\\O and\\\\O is\\\\O absolutely\\\\O gorgeous\\\\O .\\\\O', 'sentiment': 'Positive'}]}]\n",
      "2024-03-21 01:42:27,927 INFO: Load dataset from integrated_datasets\\aste_datasets\\400.SemEval\\402.Restaurant14\\test.txt\n",
      "2024-03-21 01:42:27,943 INFO: Load dataset from integrated_datasets\\aste_datasets\\400.SemEval\\404.Restaurant16\\test.txt\n",
      "2024-03-21 01:42:27,943 INFO: Load dataset from integrated_datasets\\aste_datasets\\400.SemEval\\403.Restaurant15\\test.txt\n",
      "2024-03-21 01:42:27,961 INFO: Load dataset from integrated_datasets\\aste_datasets\\400.SemEval\\401.Laptop14\\test.txt\n"
     ]
    },
    {
     "name": "stderr",
     "output_type": "stream",
     "text": [
      "preparing dataloader:  19%|█▉        | 285/1468 [00:01<00:05, 222.53it/s]"
     ]
    },
    {
     "name": "stdout",
     "output_type": "stream",
     "text": [
      "They have homemade pastas of all kinds    I recommend the gnocchi    yum !\n",
      "They have homemade pastas of all kinds -- I recommend the gnocchi -- yum !####[([11], [9], 'POS'), ([11], [13], 'POS')]\n",
      "[([11], [9], 'POS'), ([11], [13], 'POS')]\n"
     ]
    },
    {
     "name": "stderr",
     "output_type": "stream",
     "text": [
      "preparing dataloader: 100%|██████████| 1468/1468 [00:06<00:00, 222.61it/s]\n"
     ]
    },
    {
     "name": "stdout",
     "output_type": "stream",
     "text": [
      "2024-03-21 01:42:34,959 INFO: test data examples:\n",
      " [{'id': tensor(0), 'sentence': 'The bread is top notch as well .', 'postag': ['DET', 'PROPN', 'PROPN', 'NOUN', 'PROPN', 'VERB', 'ADV', 'PUNCT'], 'head': tensor([3, 3, 3, 4, 5, 5, 5, 5]), 'deprel': ['compound:nn', 'compound:nn', 'compound:nn', 'appos', 'nsubj', 'ROOT', 'dobj', 'punct'], 'triples': [{'uid': '0-0', 'target_tags': 'The\\\\O bread\\\\B is\\\\O top\\\\O notch\\\\O as\\\\O well\\\\O .\\\\O', 'opinion_tags': 'The\\\\O bread\\\\O is\\\\O top\\\\B notch\\\\I as\\\\O well\\\\O .\\\\O', 'sentiment': 'Positive'}]}, {'id': tensor(1), 'sentence': 'I have to say they have one of the fastest delivery times in the city .', 'postag': ['PRON', 'VERB', 'ADP', 'NOUN', 'VERB', 'PROPN', 'NOUN', 'ADP', 'DET', 'NOUN', 'NOUN', 'NOUN', 'ADP', 'DET', 'NOUN', 'PUNCT'], 'head': tensor([ 1,  1,  3,  4,  1,  6,  4,  9,  9, 14, 11,  9, 14, 14,  4,  1]), 'deprel': ['nsubj', 'ROOT', 'case', 'nmod:prep', 'conj', 'compound:nn', 'dobj', 'case', 'det', 'nmod:prep', 'compound:nn', 'parataxis:prnmod', 'case', 'det', 'dobj', 'punct'], 'triples': [{'uid': '0-0', 'target_tags': 'I\\\\O have\\\\O to\\\\O say\\\\O they\\\\O have\\\\O one\\\\O of\\\\O the\\\\O fastest\\\\O delivery\\\\B times\\\\I in\\\\O the\\\\O city\\\\O .\\\\O', 'opinion_tags': 'I\\\\O have\\\\O to\\\\O say\\\\O they\\\\O have\\\\O one\\\\O of\\\\O the\\\\O fastest\\\\B delivery\\\\O times\\\\O in\\\\O the\\\\O city\\\\O .\\\\O', 'sentiment': 'Positive'}]}]\n",
      "2024-03-21 01:42:35,739 INFO: Load dataset from integrated_datasets\\aste_datasets\\400.SemEval\\403.Restaurant15\\dev.txt\n",
      "2024-03-21 01:42:35,739 INFO: Load dataset from integrated_datasets\\aste_datasets\\400.SemEval\\402.Restaurant14\\dev.txt\n",
      "2024-03-21 01:42:35,757 INFO: Load dataset from integrated_datasets\\aste_datasets\\400.SemEval\\401.Laptop14\\dev.txt\n",
      "2024-03-21 01:42:35,763 INFO: Load dataset from integrated_datasets\\aste_datasets\\400.SemEval\\404.Restaurant16\\dev.txt\n"
     ]
    },
    {
     "name": "stderr",
     "output_type": "stream",
     "text": [
      "preparing dataloader:  73%|███████▎  | 650/887 [00:03<00:01, 201.03it/s]"
     ]
    },
    {
     "name": "stdout",
     "output_type": "stream",
     "text": [
      "Great value , fast delivery    Computer works as if brand new , no problems , very pleased\n",
      "Great value , fast delivery -- Computer works as if brand new , no problems , very pleased####[([4], [3], 'POS'), ([4], [17], 'POS'), ([1], [0], 'POS'), ([1], [17], 'POS')]\n",
      "[([4], [3], 'POS'), ([4], [17], 'POS'), ([1], [0], 'POS'), ([1], [17], 'POS')]\n",
      "Overall : Poor , Features : Average , Performance : Poor , Battery Life : Excellent , Price    Value : Poor\n",
      "Overall : Poor , Features : Average , Performance : Poor , Battery Life : Excellent , Price -- Value : Poor####[([4], [6], 'NEU'), ([8], [10], 'NEG'), ([12, 13], [15], 'POS'), ([17], [21], 'NEG'), ([19], [21], 'NEG')]\n",
      "[([4], [6], 'NEU'), ([8], [10], 'NEG'), ([12, 13], [15], 'POS'), ([17], [21], 'NEG'), ([19], [21], 'NEG')]\n"
     ]
    },
    {
     "name": "stderr",
     "output_type": "stream",
     "text": [
      "preparing dataloader: 100%|██████████| 887/887 [00:04<00:00, 217.30it/s]\n"
     ]
    },
    {
     "name": "stdout",
     "output_type": "stream",
     "text": [
      "2024-03-21 01:42:40,105 INFO: valid data examples:\n",
      " [{'id': tensor(0), 'sentence': 'The food is very average ... the Thai fusion stuff is a bit too sweet , every thing they serve is too sweet here .', 'postag': ['DET', 'NOUN', 'NOUN', 'NOUN', 'VERB', 'ADV', 'DET', 'PROPN', 'NOUN', 'NOUN', 'VERB', 'NUM', 'NOUN', 'ADV', 'VERB', 'PUNCT', 'VERB', 'VERB', 'VERB', 'NOUN', 'VERB', 'ADV', 'VERB', 'PRON', 'PUNCT'], 'head': tensor([ 1,  4,  3,  4,  4,  4,  4,  8,  9, 14, 14, 12, 14, 14,  4, 14, 14, 14,\n",
      "        17, 18, 14, 22, 20, 22,  4]), 'deprel': ['det', 'nsubj', 'compound:nn', 'nsubj', 'ROOT', 'conj', 'conj', 'nmod:assmod', 'nmod:assmod', 'nsubj', 'cop', 'dep', 'nsubj', 'advmod', 'conj', 'punct', 'conj', 'conj', 'ccomp', 'dobj', 'conj', 'advmod', 'ccomp', 'dobj', 'punct'], 'triples': [{'uid': '0-0', 'target_tags': 'The\\\\O food\\\\B is\\\\O very\\\\O average\\\\O ...\\\\O the\\\\O Thai\\\\O fusion\\\\O stuff\\\\O is\\\\O a\\\\O bit\\\\O too\\\\O sweet\\\\O ,\\\\O every\\\\O thing\\\\O they\\\\O serve\\\\O is\\\\O too\\\\O sweet\\\\O here\\\\O .\\\\O', 'opinion_tags': 'The\\\\O food\\\\O is\\\\O very\\\\O average\\\\B ...\\\\O the\\\\O Thai\\\\O fusion\\\\O stuff\\\\O is\\\\O a\\\\O bit\\\\O too\\\\O sweet\\\\O ,\\\\O every\\\\O thing\\\\O they\\\\O serve\\\\O is\\\\O too\\\\O sweet\\\\O here\\\\O .\\\\O', 'sentiment': 'Negative'}, {'uid': '0-1', 'target_tags': 'The\\\\O food\\\\B is\\\\O very\\\\O average\\\\O ...\\\\O the\\\\O Thai\\\\O fusion\\\\O stuff\\\\O is\\\\O a\\\\O bit\\\\O too\\\\O sweet\\\\O ,\\\\O every\\\\O thing\\\\O they\\\\O serve\\\\O is\\\\O too\\\\O sweet\\\\O here\\\\O .\\\\O', 'opinion_tags': 'The\\\\O food\\\\O is\\\\O very\\\\O average\\\\O ...\\\\O the\\\\O Thai\\\\O fusion\\\\O stuff\\\\O is\\\\O a\\\\O bit\\\\O too\\\\B sweet\\\\I ,\\\\O every\\\\O thing\\\\O they\\\\O serve\\\\O is\\\\O too\\\\O sweet\\\\O here\\\\O .\\\\O', 'sentiment': 'Negative'}, {'uid': '1-0', 'target_tags': 'The\\\\O food\\\\O is\\\\O very\\\\O average\\\\O ...\\\\O the\\\\O Thai\\\\B fusion\\\\I stuff\\\\I is\\\\O a\\\\O bit\\\\O too\\\\O sweet\\\\O ,\\\\O every\\\\O thing\\\\O they\\\\O serve\\\\O is\\\\O too\\\\O sweet\\\\O here\\\\O .\\\\O', 'opinion_tags': 'The\\\\O food\\\\O is\\\\O very\\\\O average\\\\B ...\\\\O the\\\\O Thai\\\\O fusion\\\\O stuff\\\\O is\\\\O a\\\\O bit\\\\O too\\\\O sweet\\\\O ,\\\\O every\\\\O thing\\\\O they\\\\O serve\\\\O is\\\\O too\\\\O sweet\\\\O here\\\\O .\\\\O', 'sentiment': 'Negative'}, {'uid': '1-1', 'target_tags': 'The\\\\O food\\\\O is\\\\O very\\\\O average\\\\O ...\\\\O the\\\\O Thai\\\\B fusion\\\\I stuff\\\\I is\\\\O a\\\\O bit\\\\O too\\\\O sweet\\\\O ,\\\\O every\\\\O thing\\\\O they\\\\O serve\\\\O is\\\\O too\\\\O sweet\\\\O here\\\\O .\\\\O', 'opinion_tags': 'The\\\\O food\\\\O is\\\\O very\\\\O average\\\\O ...\\\\O the\\\\O Thai\\\\O fusion\\\\O stuff\\\\O is\\\\O a\\\\O bit\\\\O too\\\\B sweet\\\\I ,\\\\O every\\\\O thing\\\\O they\\\\O serve\\\\O is\\\\O too\\\\O sweet\\\\O here\\\\O .\\\\O', 'sentiment': 'Negative'}]}, {'id': tensor(1), 'sentence': 'The decor is night tho ... but they REALLY need to clean that vent in the ceiling ... its quite un appetizing , and kills your effort to make this place look sleek and modern .', 'postag': ['DET', 'NOUN', 'NOUN', 'PROPN', 'PROPN', 'VERB', 'ADV', 'VERB', 'PROPN', 'VERB', 'ADP', 'NOUN', 'ADJ', 'NOUN', 'ADP', 'DET', 'NOUN', 'NOUN', 'PROPN', 'NOUN', 'VERB', 'VERB', 'PUNCT', 'ADV', 'VERB', 'PRON', 'NOUN', 'ADP', 'NOUN', 'DET', 'PROPN', 'NOUN', 'NOUN', 'CCONJ', 'NOUN', 'PUNCT'], 'head': tensor([ 1,  4,  3,  4,  5,  5,  5,  5,  9,  7, 11, 17, 13, 17, 16, 16, 17,  9,\n",
      "        19, 17, 21,  7,  5, 24, 26, 24,  5, 34, 29, 34, 29, 34, 34, 34, 26,  5]), 'deprel': ['det', 'compound:nn', 'compound:nn', 'amod', 'nsubj', 'ROOT', 'cc', 'conj', 'nsubj', 'ccomp', 'case', 'nmod:prep', 'amod', 'nmod:prep', 'case', 'det', 'nmod:prep', 'dobj', 'compound:nn', 'dobj', 'advmod', 'dep', 'punct', 'advmod', 'dep', 'dobj', 'conj', 'case', 'dep', 'dep', 'dep', 'compound:nn', 'conj', 'cc', 'nmod:prep', 'punct'], 'triples': [{'uid': '0-0', 'target_tags': 'The\\\\O decor\\\\O is\\\\O night\\\\O tho\\\\O ...\\\\O but\\\\O they\\\\O REALLY\\\\O need\\\\O to\\\\O clean\\\\O that\\\\O vent\\\\O in\\\\O the\\\\O ceiling\\\\O ...\\\\O its\\\\O quite\\\\O un\\\\O appetizing\\\\O ,\\\\O and\\\\O kills\\\\O your\\\\O effort\\\\O to\\\\O make\\\\O this\\\\B place\\\\O look\\\\O sleek\\\\O and\\\\O modern\\\\O .\\\\O', 'opinion_tags': 'The\\\\O decor\\\\O is\\\\O night\\\\O tho\\\\O ...\\\\O but\\\\O they\\\\O REALLY\\\\O need\\\\O to\\\\O clean\\\\O that\\\\O vent\\\\O in\\\\O the\\\\O ceiling\\\\O ...\\\\O its\\\\O quite\\\\O un\\\\O appetizing\\\\O ,\\\\O and\\\\O kills\\\\O your\\\\O effort\\\\O to\\\\O make\\\\O this\\\\O place\\\\O look\\\\B sleek\\\\O and\\\\O modern\\\\O .\\\\O', 'sentiment': 'Negative'}, {'uid': '0-1', 'target_tags': 'The\\\\O decor\\\\O is\\\\O night\\\\O tho\\\\O ...\\\\O but\\\\O they\\\\O REALLY\\\\O need\\\\O to\\\\O clean\\\\O that\\\\O vent\\\\O in\\\\O the\\\\O ceiling\\\\O ...\\\\O its\\\\O quite\\\\O un\\\\O appetizing\\\\O ,\\\\O and\\\\O kills\\\\O your\\\\O effort\\\\O to\\\\O make\\\\O this\\\\B place\\\\O look\\\\O sleek\\\\O and\\\\O modern\\\\O .\\\\O', 'opinion_tags': 'The\\\\O decor\\\\O is\\\\O night\\\\O tho\\\\O ...\\\\O but\\\\O they\\\\O REALLY\\\\O need\\\\O to\\\\O clean\\\\O that\\\\O vent\\\\O in\\\\O the\\\\O ceiling\\\\O ...\\\\O its\\\\O quite\\\\O un\\\\O appetizing\\\\O ,\\\\O and\\\\O kills\\\\O your\\\\O effort\\\\O to\\\\O make\\\\O this\\\\O place\\\\O look\\\\O sleek\\\\O and\\\\B modern\\\\O .\\\\O', 'sentiment': 'Negative'}, {'uid': '0-2', 'target_tags': 'The\\\\O decor\\\\O is\\\\O night\\\\O tho\\\\O ...\\\\O but\\\\O they\\\\O REALLY\\\\O need\\\\O to\\\\O clean\\\\O that\\\\O vent\\\\O in\\\\O the\\\\O ceiling\\\\O ...\\\\O its\\\\O quite\\\\O un\\\\O appetizing\\\\O ,\\\\O and\\\\O kills\\\\O your\\\\O effort\\\\O to\\\\O make\\\\O this\\\\B place\\\\O look\\\\O sleek\\\\O and\\\\O modern\\\\O .\\\\O', 'opinion_tags': 'The\\\\O decor\\\\O is\\\\O night\\\\B tho\\\\O ...\\\\O but\\\\O they\\\\O REALLY\\\\O need\\\\O to\\\\O clean\\\\O that\\\\O vent\\\\O in\\\\O the\\\\O ceiling\\\\O ...\\\\O its\\\\O quite\\\\O un\\\\O appetizing\\\\O ,\\\\O and\\\\O kills\\\\O your\\\\O effort\\\\O to\\\\O make\\\\O this\\\\O place\\\\O look\\\\O sleek\\\\O and\\\\O modern\\\\O .\\\\O', 'sentiment': 'Positive'}, {'uid': '0-3', 'target_tags': 'The\\\\O decor\\\\O is\\\\O night\\\\O tho\\\\O ...\\\\O but\\\\O they\\\\O REALLY\\\\O need\\\\O to\\\\O clean\\\\O that\\\\O vent\\\\O in\\\\O the\\\\O ceiling\\\\O ...\\\\O its\\\\O quite\\\\O un\\\\O appetizing\\\\O ,\\\\O and\\\\O kills\\\\O your\\\\O effort\\\\O to\\\\O make\\\\O this\\\\B place\\\\O look\\\\O sleek\\\\O and\\\\O modern\\\\O .\\\\O', 'opinion_tags': 'The\\\\O decor\\\\O is\\\\O night\\\\O tho\\\\O ...\\\\O but\\\\O they\\\\O REALLY\\\\O need\\\\O to\\\\O clean\\\\O that\\\\O vent\\\\O in\\\\O the\\\\O ceiling\\\\O ...\\\\O its\\\\O quite\\\\O un\\\\B appetizing\\\\O ,\\\\O and\\\\O kills\\\\O your\\\\O effort\\\\O to\\\\O make\\\\O this\\\\O place\\\\O look\\\\O sleek\\\\O and\\\\O modern\\\\O .\\\\O', 'sentiment': 'Negative'}, {'uid': '1-0', 'target_tags': 'The\\\\O decor\\\\O is\\\\O night\\\\O tho\\\\O ...\\\\O but\\\\O they\\\\O REALLY\\\\O need\\\\O to\\\\O clean\\\\O that\\\\O vent\\\\O in\\\\O the\\\\O ceiling\\\\O ...\\\\O its\\\\O quite\\\\O un\\\\O appetizing\\\\O ,\\\\O and\\\\O kills\\\\O your\\\\O effort\\\\O to\\\\O make\\\\O this\\\\B place\\\\O look\\\\O sleek\\\\O and\\\\O modern\\\\O .\\\\O', 'opinion_tags': 'The\\\\O decor\\\\O is\\\\O night\\\\O tho\\\\O ...\\\\O but\\\\O they\\\\O REALLY\\\\O need\\\\O to\\\\O clean\\\\O that\\\\O vent\\\\O in\\\\O the\\\\O ceiling\\\\O ...\\\\O its\\\\O quite\\\\O un\\\\O appetizing\\\\O ,\\\\O and\\\\O kills\\\\O your\\\\O effort\\\\O to\\\\O make\\\\O this\\\\O place\\\\O look\\\\B sleek\\\\O and\\\\O modern\\\\O .\\\\O', 'sentiment': 'Negative'}, {'uid': '1-1', 'target_tags': 'The\\\\O decor\\\\O is\\\\O night\\\\O tho\\\\O ...\\\\O but\\\\O they\\\\O REALLY\\\\O need\\\\O to\\\\O clean\\\\O that\\\\O vent\\\\O in\\\\O the\\\\O ceiling\\\\O ...\\\\O its\\\\O quite\\\\O un\\\\O appetizing\\\\O ,\\\\O and\\\\O kills\\\\O your\\\\O effort\\\\O to\\\\O make\\\\O this\\\\B place\\\\O look\\\\O sleek\\\\O and\\\\O modern\\\\O .\\\\O', 'opinion_tags': 'The\\\\O decor\\\\O is\\\\O night\\\\O tho\\\\O ...\\\\O but\\\\O they\\\\O REALLY\\\\O need\\\\O to\\\\O clean\\\\O that\\\\O vent\\\\O in\\\\O the\\\\O ceiling\\\\O ...\\\\O its\\\\O quite\\\\O un\\\\O appetizing\\\\O ,\\\\O and\\\\O kills\\\\O your\\\\O effort\\\\O to\\\\O make\\\\O this\\\\O place\\\\O look\\\\O sleek\\\\O and\\\\B modern\\\\O .\\\\O', 'sentiment': 'Negative'}, {'uid': '1-2', 'target_tags': 'The\\\\O decor\\\\O is\\\\O night\\\\O tho\\\\O ...\\\\O but\\\\O they\\\\O REALLY\\\\O need\\\\O to\\\\O clean\\\\O that\\\\O vent\\\\O in\\\\O the\\\\O ceiling\\\\O ...\\\\O its\\\\O quite\\\\O un\\\\O appetizing\\\\O ,\\\\O and\\\\O kills\\\\O your\\\\O effort\\\\O to\\\\O make\\\\O this\\\\B place\\\\O look\\\\O sleek\\\\O and\\\\O modern\\\\O .\\\\O', 'opinion_tags': 'The\\\\O decor\\\\O is\\\\O night\\\\B tho\\\\O ...\\\\O but\\\\O they\\\\O REALLY\\\\O need\\\\O to\\\\O clean\\\\O that\\\\O vent\\\\O in\\\\O the\\\\O ceiling\\\\O ...\\\\O its\\\\O quite\\\\O un\\\\O appetizing\\\\O ,\\\\O and\\\\O kills\\\\O your\\\\O effort\\\\O to\\\\O make\\\\O this\\\\O place\\\\O look\\\\O sleek\\\\O and\\\\O modern\\\\O .\\\\O', 'sentiment': 'Positive'}, {'uid': '1-3', 'target_tags': 'The\\\\O decor\\\\O is\\\\O night\\\\O tho\\\\O ...\\\\O but\\\\O they\\\\O REALLY\\\\O need\\\\O to\\\\O clean\\\\O that\\\\O vent\\\\O in\\\\O the\\\\O ceiling\\\\O ...\\\\O its\\\\O quite\\\\O un\\\\O appetizing\\\\O ,\\\\O and\\\\O kills\\\\O your\\\\O effort\\\\O to\\\\O make\\\\O this\\\\B place\\\\O look\\\\O sleek\\\\O and\\\\O modern\\\\O .\\\\O', 'opinion_tags': 'The\\\\O decor\\\\O is\\\\O night\\\\O tho\\\\O ...\\\\O but\\\\O they\\\\O REALLY\\\\O need\\\\O to\\\\O clean\\\\O that\\\\O vent\\\\O in\\\\O the\\\\O ceiling\\\\O ...\\\\O its\\\\O quite\\\\O un\\\\B appetizing\\\\O ,\\\\O and\\\\O kills\\\\O your\\\\O effort\\\\O to\\\\O make\\\\O this\\\\O place\\\\O look\\\\O sleek\\\\O and\\\\O modern\\\\O .\\\\O', 'sentiment': 'Negative'}, {'uid': '2-0', 'target_tags': 'The\\\\O decor\\\\B is\\\\O night\\\\O tho\\\\O ...\\\\O but\\\\O they\\\\O REALLY\\\\O need\\\\O to\\\\O clean\\\\O that\\\\O vent\\\\O in\\\\O the\\\\O ceiling\\\\O ...\\\\O its\\\\O quite\\\\O un\\\\O appetizing\\\\O ,\\\\O and\\\\O kills\\\\O your\\\\O effort\\\\O to\\\\O make\\\\O this\\\\O place\\\\O look\\\\O sleek\\\\O and\\\\O modern\\\\O .\\\\O', 'opinion_tags': 'The\\\\O decor\\\\O is\\\\O night\\\\O tho\\\\O ...\\\\O but\\\\O they\\\\O REALLY\\\\O need\\\\O to\\\\O clean\\\\O that\\\\O vent\\\\O in\\\\O the\\\\O ceiling\\\\O ...\\\\O its\\\\O quite\\\\O un\\\\O appetizing\\\\O ,\\\\O and\\\\O kills\\\\O your\\\\O effort\\\\O to\\\\O make\\\\O this\\\\O place\\\\O look\\\\B sleek\\\\O and\\\\O modern\\\\O .\\\\O', 'sentiment': 'Negative'}, {'uid': '2-1', 'target_tags': 'The\\\\O decor\\\\B is\\\\O night\\\\O tho\\\\O ...\\\\O but\\\\O they\\\\O REALLY\\\\O need\\\\O to\\\\O clean\\\\O that\\\\O vent\\\\O in\\\\O the\\\\O ceiling\\\\O ...\\\\O its\\\\O quite\\\\O un\\\\O appetizing\\\\O ,\\\\O and\\\\O kills\\\\O your\\\\O effort\\\\O to\\\\O make\\\\O this\\\\O place\\\\O look\\\\O sleek\\\\O and\\\\O modern\\\\O .\\\\O', 'opinion_tags': 'The\\\\O decor\\\\O is\\\\O night\\\\O tho\\\\O ...\\\\O but\\\\O they\\\\O REALLY\\\\O need\\\\O to\\\\O clean\\\\O that\\\\O vent\\\\O in\\\\O the\\\\O ceiling\\\\O ...\\\\O its\\\\O quite\\\\O un\\\\O appetizing\\\\O ,\\\\O and\\\\O kills\\\\O your\\\\O effort\\\\O to\\\\O make\\\\O this\\\\O place\\\\O look\\\\O sleek\\\\O and\\\\B modern\\\\O .\\\\O', 'sentiment': 'Negative'}, {'uid': '2-2', 'target_tags': 'The\\\\O decor\\\\B is\\\\O night\\\\O tho\\\\O ...\\\\O but\\\\O they\\\\O REALLY\\\\O need\\\\O to\\\\O clean\\\\O that\\\\O vent\\\\O in\\\\O the\\\\O ceiling\\\\O ...\\\\O its\\\\O quite\\\\O un\\\\O appetizing\\\\O ,\\\\O and\\\\O kills\\\\O your\\\\O effort\\\\O to\\\\O make\\\\O this\\\\O place\\\\O look\\\\O sleek\\\\O and\\\\O modern\\\\O .\\\\O', 'opinion_tags': 'The\\\\O decor\\\\O is\\\\O night\\\\B tho\\\\O ...\\\\O but\\\\O they\\\\O REALLY\\\\O need\\\\O to\\\\O clean\\\\O that\\\\O vent\\\\O in\\\\O the\\\\O ceiling\\\\O ...\\\\O its\\\\O quite\\\\O un\\\\O appetizing\\\\O ,\\\\O and\\\\O kills\\\\O your\\\\O effort\\\\O to\\\\O make\\\\O this\\\\O place\\\\O look\\\\O sleek\\\\O and\\\\O modern\\\\O .\\\\O', 'sentiment': 'Positive'}, {'uid': '2-3', 'target_tags': 'The\\\\O decor\\\\B is\\\\O night\\\\O tho\\\\O ...\\\\O but\\\\O they\\\\O REALLY\\\\O need\\\\O to\\\\O clean\\\\O that\\\\O vent\\\\O in\\\\O the\\\\O ceiling\\\\O ...\\\\O its\\\\O quite\\\\O un\\\\O appetizing\\\\O ,\\\\O and\\\\O kills\\\\O your\\\\O effort\\\\O to\\\\O make\\\\O this\\\\O place\\\\O look\\\\O sleek\\\\O and\\\\O modern\\\\O .\\\\O', 'opinion_tags': 'The\\\\O decor\\\\O is\\\\O night\\\\O tho\\\\O ...\\\\O but\\\\O they\\\\O REALLY\\\\O need\\\\O to\\\\O clean\\\\O that\\\\O vent\\\\O in\\\\O the\\\\O ceiling\\\\O ...\\\\O its\\\\O quite\\\\O un\\\\B appetizing\\\\O ,\\\\O and\\\\O kills\\\\O your\\\\O effort\\\\O to\\\\O make\\\\O this\\\\O place\\\\O look\\\\O sleek\\\\O and\\\\O modern\\\\O .\\\\O', 'sentiment': 'Negative'}, {'uid': '3-0', 'target_tags': 'The\\\\O decor\\\\O is\\\\O night\\\\O tho\\\\O ...\\\\O but\\\\O they\\\\O REALLY\\\\O need\\\\O to\\\\O clean\\\\O that\\\\O vent\\\\B in\\\\O the\\\\O ceiling\\\\O ...\\\\O its\\\\O quite\\\\O un\\\\O appetizing\\\\O ,\\\\O and\\\\O kills\\\\O your\\\\O effort\\\\O to\\\\O make\\\\O this\\\\O place\\\\O look\\\\O sleek\\\\O and\\\\O modern\\\\O .\\\\O', 'opinion_tags': 'The\\\\O decor\\\\O is\\\\O night\\\\O tho\\\\O ...\\\\O but\\\\O they\\\\O REALLY\\\\O need\\\\O to\\\\O clean\\\\O that\\\\O vent\\\\O in\\\\O the\\\\O ceiling\\\\O ...\\\\O its\\\\O quite\\\\O un\\\\O appetizing\\\\O ,\\\\O and\\\\O kills\\\\O your\\\\O effort\\\\O to\\\\O make\\\\O this\\\\O place\\\\O look\\\\B sleek\\\\O and\\\\O modern\\\\O .\\\\O', 'sentiment': 'Negative'}, {'uid': '3-1', 'target_tags': 'The\\\\O decor\\\\O is\\\\O night\\\\O tho\\\\O ...\\\\O but\\\\O they\\\\O REALLY\\\\O need\\\\O to\\\\O clean\\\\O that\\\\O vent\\\\B in\\\\O the\\\\O ceiling\\\\O ...\\\\O its\\\\O quite\\\\O un\\\\O appetizing\\\\O ,\\\\O and\\\\O kills\\\\O your\\\\O effort\\\\O to\\\\O make\\\\O this\\\\O place\\\\O look\\\\O sleek\\\\O and\\\\O modern\\\\O .\\\\O', 'opinion_tags': 'The\\\\O decor\\\\O is\\\\O night\\\\O tho\\\\O ...\\\\O but\\\\O they\\\\O REALLY\\\\O need\\\\O to\\\\O clean\\\\O that\\\\O vent\\\\O in\\\\O the\\\\O ceiling\\\\O ...\\\\O its\\\\O quite\\\\O un\\\\O appetizing\\\\O ,\\\\O and\\\\O kills\\\\O your\\\\O effort\\\\O to\\\\O make\\\\O this\\\\O place\\\\O look\\\\O sleek\\\\O and\\\\B modern\\\\O .\\\\O', 'sentiment': 'Negative'}, {'uid': '3-2', 'target_tags': 'The\\\\O decor\\\\O is\\\\O night\\\\O tho\\\\O ...\\\\O but\\\\O they\\\\O REALLY\\\\O need\\\\O to\\\\O clean\\\\O that\\\\O vent\\\\B in\\\\O the\\\\O ceiling\\\\O ...\\\\O its\\\\O quite\\\\O un\\\\O appetizing\\\\O ,\\\\O and\\\\O kills\\\\O your\\\\O effort\\\\O to\\\\O make\\\\O this\\\\O place\\\\O look\\\\O sleek\\\\O and\\\\O modern\\\\O .\\\\O', 'opinion_tags': 'The\\\\O decor\\\\O is\\\\O night\\\\B tho\\\\O ...\\\\O but\\\\O they\\\\O REALLY\\\\O need\\\\O to\\\\O clean\\\\O that\\\\O vent\\\\O in\\\\O the\\\\O ceiling\\\\O ...\\\\O its\\\\O quite\\\\O un\\\\O appetizing\\\\O ,\\\\O and\\\\O kills\\\\O your\\\\O effort\\\\O to\\\\O make\\\\O this\\\\O place\\\\O look\\\\O sleek\\\\O and\\\\O modern\\\\O .\\\\O', 'sentiment': 'Positive'}, {'uid': '3-3', 'target_tags': 'The\\\\O decor\\\\O is\\\\O night\\\\O tho\\\\O ...\\\\O but\\\\O they\\\\O REALLY\\\\O need\\\\O to\\\\O clean\\\\O that\\\\O vent\\\\B in\\\\O the\\\\O ceiling\\\\O ...\\\\O its\\\\O quite\\\\O un\\\\O appetizing\\\\O ,\\\\O and\\\\O kills\\\\O your\\\\O effort\\\\O to\\\\O make\\\\O this\\\\O place\\\\O look\\\\O sleek\\\\O and\\\\O modern\\\\O .\\\\O', 'opinion_tags': 'The\\\\O decor\\\\O is\\\\O night\\\\O tho\\\\O ...\\\\O but\\\\O they\\\\O REALLY\\\\O need\\\\O to\\\\O clean\\\\O that\\\\O vent\\\\O in\\\\O the\\\\O ceiling\\\\O ...\\\\O its\\\\O quite\\\\O un\\\\B appetizing\\\\O ,\\\\O and\\\\O kills\\\\O your\\\\O effort\\\\O to\\\\O make\\\\O this\\\\O place\\\\O look\\\\O sleek\\\\O and\\\\O modern\\\\O .\\\\O', 'sentiment': 'Negative'}]}]\n",
      "building vocab...\n"
     ]
    },
    {
     "name": "stderr",
     "output_type": "stream",
     "text": [
      "converting data to features:   1%|          | 25/3634 [00:00<01:12, 49.61it/s]"
     ]
    },
    {
     "name": "stdout",
     "output_type": "stream",
     "text": [
      "[2024-03-21 01:42:40] (2.4.1.post1) Processing error for: YOU WILL NOT BE ABLE TO TALK TO AN AMERICAN WARRANTY SERVICE IS OUT OF COUNTRY .. Exception: list index out of range\n"
     ]
    },
    {
     "name": "stderr",
     "output_type": "stream",
     "text": [
      "converting data to features:   3%|▎         | 103/3634 [00:02<01:24, 41.83it/s]"
     ]
    },
    {
     "name": "stdout",
     "output_type": "stream",
     "text": [
      "[2024-03-21 01:42:43] (2.4.1.post1) Processing error for: While Apple 's saving grace is the fact that they at least stand behind their products , and their support is great , it would be nice if their products were more reliable to justify the premium .. Exception: list index out of range\n"
     ]
    },
    {
     "name": "stderr",
     "output_type": "stream",
     "text": [
      "converting data to features:   5%|▌         | 187/3634 [00:05<01:05, 52.76it/s]"
     ]
    },
    {
     "name": "stdout",
     "output_type": "stream",
     "text": [
      "[2024-03-21 01:42:45] (2.4.1.post1) Processing error for: DO NOT BUY GATEWAY COMPUTERS THEY ARE JUNK AND THE WARRANTY COMPANY IS HORRIBLE .. Exception: list index out of range\n"
     ]
    },
    {
     "name": "stderr",
     "output_type": "stream",
     "text": [
      "converting data to features:   6%|▋         | 233/3634 [00:06<01:24, 40.47it/s]"
     ]
    },
    {
     "name": "stdout",
     "output_type": "stream",
     "text": [
      "[2024-03-21 01:42:46] (2.4.1.post1) Processing error for: MacBook Notebooks quickly die out because of their short battery life , as well as the many background programs that run without the user 's knowlede .. Exception: list index out of range\n"
     ]
    },
    {
     "name": "stderr",
     "output_type": "stream",
     "text": [
      "converting data to features:   7%|▋         | 266/3634 [00:07<01:09, 48.77it/s]"
     ]
    },
    {
     "name": "stdout",
     "output_type": "stream",
     "text": [
      "[2024-03-21 01:42:47] (2.4.1.post1) Processing error for: WHEN TYPING , LETTERS AND SPACES ARE FREQUENTLY OMITTED REQUIRING THE USER TO REDO MANY WORDS AND SENTENCES .. Exception: list index out of range\n"
     ]
    },
    {
     "name": "stderr",
     "output_type": "stream",
     "text": [
      "converting data to features:   8%|▊         | 293/3634 [00:07<01:22, 40.32it/s]"
     ]
    },
    {
     "name": "stdout",
     "output_type": "stream",
     "text": [
      "[2024-03-21 01:42:48] (2.4.1.post1) Processing error for: A SECOND PROBLEM INVOLVES THE BATTERY WHICH IS ADVERTISED AS HAVING A STORAGE LIFE OF 11 HOURS BUT WHEN FULLY CHARGED SHOWS ONLY 7 HOURS OF SERVICE .. Exception: list index out of range\n"
     ]
    },
    {
     "name": "stderr",
     "output_type": "stream",
     "text": [
      "converting data to features:   9%|▉         | 339/3634 [00:08<01:04, 50.70it/s]"
     ]
    },
    {
     "name": "stdout",
     "output_type": "stream",
     "text": [
      "[2024-03-21 01:42:49] (2.4.1.post1) Processing error for: The Mac version of Microsoft Office is cheaper than buying the actual and works just as well .. Exception: list index out of range\n"
     ]
    },
    {
     "name": "stderr",
     "output_type": "stream",
     "text": [
      "converting data to features:  10%|▉         | 351/3634 [00:09<01:00, 54.03it/s]"
     ]
    },
    {
     "name": "stdout",
     "output_type": "stream",
     "text": [
      "[2024-03-21 01:42:49] (2.4.1.post1) Processing error for: It did fairly well , other than it 's poor performance , overheating and occational blue screen .. Exception: list index out of range\n"
     ]
    },
    {
     "name": "stderr",
     "output_type": "stream",
     "text": [
      "converting data to features:  10%|▉         | 363/3634 [00:09<01:08, 47.93it/s]"
     ]
    },
    {
     "name": "stdout",
     "output_type": "stream",
     "text": [
      "[2024-03-21 01:42:49] (2.4.1.post1) Processing error for: MY ONLY PROBLEM IS I CAN NOT REG . THE PRODUCT KEY .. Exception: list index out of range\n"
     ]
    },
    {
     "name": "stderr",
     "output_type": "stream",
     "text": [
      "converting data to features:  12%|█▏        | 427/3634 [00:11<01:04, 49.38it/s]"
     ]
    },
    {
     "name": "stdout",
     "output_type": "stream",
     "text": [
      "[2024-03-21 01:42:51] (2.4.1.post1) Processing error for: Registration/1st use is easy .. Exception: list index out of range\n"
     ]
    },
    {
     "name": "stderr",
     "output_type": "stream",
     "text": [
      "converting data to features:  17%|█▋        | 606/3634 [00:15<01:06, 45.22it/s]"
     ]
    },
    {
     "name": "stdout",
     "output_type": "stream",
     "text": [
      "[2024-03-21 01:42:55] (2.4.1.post1) Processing error for: Iphoto is great for adding pictures right to facebook and other social networking sites .. Exception: list index out of range\n"
     ]
    },
    {
     "name": "stderr",
     "output_type": "stream",
     "text": [
      "converting data to features:  18%|█▊        | 651/3634 [00:16<01:06, 45.13it/s]"
     ]
    },
    {
     "name": "stdout",
     "output_type": "stream",
     "text": [
      "[2024-03-21 01:42:57] (2.4.1.post1) Processing error for: THE FIRST PROBLEM IS THAT THE KEYBOARD FUNCTION IS SIMPLY UNSATISFACTORY .. Exception: list index out of range\n"
     ]
    },
    {
     "name": "stderr",
     "output_type": "stream",
     "text": [
      "converting data to features:  18%|█▊        | 669/3634 [00:17<01:09, 42.47it/s]"
     ]
    },
    {
     "name": "stdout",
     "output_type": "stream",
     "text": [
      "[2024-03-21 01:42:57] (2.4.1.post1) Processing error for: GET THIS COMPUTER FOR PORTABILITY AND FAST PROCESSING ! ! !. Exception: list index out of range\n"
     ]
    },
    {
     "name": "stderr",
     "output_type": "stream",
     "text": [
      "converting data to features:  22%|██▏       | 808/3634 [00:21<01:19, 35.42it/s]"
     ]
    },
    {
     "name": "stdout",
     "output_type": "stream",
     "text": [
      "[2024-03-21 01:43:01] (2.4.1.post1) Processing error for: EITHER WAY , THE KEYBOARD IS UNSATISFACTORY .. Exception: list index out of range\n"
     ]
    },
    {
     "name": "stderr",
     "output_type": "stream",
     "text": [
      "converting data to features:  22%|██▏       | 813/3634 [00:21<01:17, 36.32it/s]"
     ]
    },
    {
     "name": "stdout",
     "output_type": "stream",
     "text": [
      "[2024-03-21 01:43:01] (2.4.1.post1) Processing error for: Of course , I inspected the other netbooks and clearly their hinges are tighter and I even demonstrate the difference between my netbook and others .. Exception: list index out of range\n"
     ]
    },
    {
     "name": "stderr",
     "output_type": "stream",
     "text": [
      "converting data to features:  24%|██▎       | 855/3634 [00:23<01:45, 26.43it/s]"
     ]
    },
    {
     "name": "stdout",
     "output_type": "stream",
     "text": [
      "[2024-03-21 01:43:03] (2.4.1.post1) Processing error for: The fact that the screen reacts to the lighting around you is an added luxury  when you are working around others in dark areas and want privacy or do n't want to bother them with bright lighting , it is very convenient to have a darker , softer lit screen .. Exception: list index out of range\n"
     ]
    },
    {
     "name": "stderr",
     "output_type": "stream",
     "text": [
      "converting data to features:  25%|██▍       | 905/3634 [00:24<00:55, 49.24it/s]"
     ]
    },
    {
     "name": "stdout",
     "output_type": "stream",
     "text": [
      "[2024-03-21 01:43:04] (2.4.1.post1) Processing error for: previous laptops were pc 's , still have them , but the mac osx is a clean and smooth operating system .. Exception: list index out of range\n"
     ]
    },
    {
     "name": "stderr",
     "output_type": "stream",
     "text": [
      "converting data to features:  27%|██▋       | 964/3634 [00:25<00:46, 57.43it/s]"
     ]
    },
    {
     "name": "stdout",
     "output_type": "stream",
     "text": [
      "[2024-03-21 01:43:05] (2.4.1.post1) Processing error for: The signs , the specials menus , food , and even all the waitstaff are ALL TOTALLY Japanese .. Exception: list index out of range\n"
     ]
    },
    {
     "name": "stderr",
     "output_type": "stream",
     "text": [
      "converting data to features:  33%|███▎      | 1216/3634 [00:29<00:31, 77.77it/s]"
     ]
    },
    {
     "name": "stdout",
     "output_type": "stream",
     "text": [
      "[2024-03-21 01:43:09] (2.4.1.post1) Processing error for: Love YUKA .. Exception: list index out of range\n"
     ]
    },
    {
     "name": "stderr",
     "output_type": "stream",
     "text": [
      "converting data to features:  36%|███▌      | 1309/3634 [00:30<00:39, 58.52it/s]"
     ]
    },
    {
     "name": "stdout",
     "output_type": "stream",
     "text": [
      "[2024-03-21 01:43:11] (2.4.1.post1) Processing error for: Their calzones are horrific , bad , vomit inducing , YUCK .. Exception: list index out of range\n"
     ]
    },
    {
     "name": "stderr",
     "output_type": "stream",
     "text": [
      "converting data to features:  39%|███▉      | 1409/3634 [00:32<00:38, 58.18it/s]"
     ]
    },
    {
     "name": "stdout",
     "output_type": "stream",
     "text": [
      "[2024-03-21 01:43:12] (2.4.1.post1) Processing error for: I have been doing all of the above at the Heartland Brewery for over 5 years now and I HAVE NEVER BEEN DISAPPOINTED !. Exception: list index out of range\n"
     ]
    },
    {
     "name": "stderr",
     "output_type": "stream",
     "text": [
      "converting data to features:  41%|████      | 1474/3634 [00:33<00:29, 72.01it/s]"
     ]
    },
    {
     "name": "stdout",
     "output_type": "stream",
     "text": [
      "[2024-03-21 01:43:14] (2.4.1.post1) Processing error for: Fabulous decor - makes you feel like you 're in a trendy Manhattan restaurant , very very good food , cheaply priced , generally friendly staff , and if you 're a Manhattanite , or spend most of your time in Manhattan , Rice Avenue will make you feel at home ... ..very Soho/Village/Upper West Side minus the expensive prices and pretentious clientele ... ..all on Roosevelt Avenue !. Exception: list index out of range\n"
     ]
    },
    {
     "name": "stderr",
     "output_type": "stream",
     "text": [
      "converting data to features:  49%|████▉     | 1786/3634 [00:41<00:38, 48.08it/s]"
     ]
    },
    {
     "name": "stdout",
     "output_type": "stream",
     "text": [
      "[2024-03-21 01:43:21] (2.4.1.post1) Processing error for: Their calzones are horrific , bad , vomit inducing , YUCK .. Exception: list index out of range\n"
     ]
    },
    {
     "name": "stderr",
     "output_type": "stream",
     "text": [
      "converting data to features:  51%|█████     | 1862/3634 [00:43<00:44, 40.00it/s]"
     ]
    },
    {
     "name": "stdout",
     "output_type": "stream",
     "text": [
      "[2024-03-21 01:43:23] (2.4.1.post1) Processing error for: Besides having the table we had been promised given to other restaurant patrons twice before we were actually seated , we were served dishes we had n't ordered three times , received one of our orders 20 minutes after the rest of the table had been served ( and that order was undercooked ) , and charged $ 45 more than we should have been on our bill .. Exception: list index out of range\n"
     ]
    },
    {
     "name": "stderr",
     "output_type": "stream",
     "text": [
      "converting data to features:  54%|█████▍    | 1957/3634 [00:45<00:28, 58.26it/s]"
     ]
    },
    {
     "name": "stdout",
     "output_type": "stream",
     "text": [
      "[2024-03-21 01:43:25] (2.4.1.post1) Processing error for: They pray to their Food Gods to make them into a good pizza like VT 's .. Exception: list index out of range\n"
     ]
    },
    {
     "name": "stderr",
     "output_type": "stream",
     "text": [
      "converting data to features:  57%|█████▋    | 2079/3634 [00:48<00:25, 59.93it/s]"
     ]
    },
    {
     "name": "stdout",
     "output_type": "stream",
     "text": [
      "[2024-03-21 01:43:28] (2.4.1.post1) Processing error for: BUt their best dish is thh Thai spiced curry noodles with shrimp - a dish that would cost $ 23.95 is most places , but it is $ 16 here .. Exception: list index out of range\n"
     ]
    },
    {
     "name": "stderr",
     "output_type": "stream",
     "text": [
      "converting data to features:  71%|███████   | 2586/3634 [01:00<00:20, 50.23it/s]"
     ]
    },
    {
     "name": "stdout",
     "output_type": "stream",
     "text": [
      "[2024-03-21 01:43:40] (2.4.1.post1) Processing error for: They had scrapped the bottom of the vessel in which they make the rice  RESULT - WE HAD LARGE CHUNKS OF BURNT RICE IN OUR SERVING BOWL .. Exception: list index out of range\n"
     ]
    },
    {
     "name": "stderr",
     "output_type": "stream",
     "text": [
      "converting data to features:  72%|███████▏  | 2624/3634 [01:01<00:18, 53.31it/s]"
     ]
    },
    {
     "name": "stdout",
     "output_type": "stream",
     "text": [
      "[2024-03-21 01:43:41] (2.4.1.post1) Processing error for: My wife and I also enjoyed the spinach , the Shanghai low mein , and other attractions .. Exception: list index out of range\n"
     ]
    },
    {
     "name": "stderr",
     "output_type": "stream",
     "text": [
      "converting data to features:  78%|███████▊  | 2829/3634 [01:06<00:15, 53.14it/s]"
     ]
    },
    {
     "name": "stdout",
     "output_type": "stream",
     "text": [
      "[2024-03-21 01:43:46] (2.4.1.post1) Processing error for: The signs , the specials menus , food , and even all the waitstaff are ALL TOTALLY Japanese .. Exception: list index out of range\n"
     ]
    },
    {
     "name": "stderr",
     "output_type": "stream",
     "text": [
      "converting data to features:  88%|████████▊ | 3180/3634 [01:12<00:07, 60.48it/s]"
     ]
    },
    {
     "name": "stdout",
     "output_type": "stream",
     "text": [
      "[2024-03-21 01:43:52] (2.4.1.post1) Processing error for: Their calzones are horrific , bad , vomit inducing , YUCK .. Exception: list index out of range\n"
     ]
    },
    {
     "name": "stderr",
     "output_type": "stream",
     "text": [
      "converting data to features:  90%|█████████ | 3279/3634 [01:14<00:06, 55.45it/s]"
     ]
    },
    {
     "name": "stdout",
     "output_type": "stream",
     "text": [
      "[2024-03-21 01:43:54] (2.4.1.post1) Processing error for: I have been doing all of the above at the Heartland Brewery for over 5 years now and I HAVE NEVER BEEN DISAPPOINTED !. Exception: list index out of range\n"
     ]
    },
    {
     "name": "stderr",
     "output_type": "stream",
     "text": [
      "converting data to features:  92%|█████████▏| 3360/3634 [01:15<00:04, 56.21it/s]"
     ]
    },
    {
     "name": "stdout",
     "output_type": "stream",
     "text": [
      "[2024-03-21 01:43:55] (2.4.1.post1) Processing error for: Fabulous decor - makes you feel like you 're in a trendy Manhattan restaurant , very very good food , cheaply priced , generally friendly staff , and if you 're a Manhattanite , or spend most of your time in Manhattan , Rice Avenue will make you feel at home ... ..very Soho/Village/Upper West Side minus the expensive prices and pretentious clientele ... ..all on Roosevelt Avenue !. Exception: list index out of range\n",
      "[2024-03-21 01:43:56] (2.4.1.post1) Processing error for: Never have I had such dramatic delivery guys ( a lot of huffing and panting and muttering under breath b/c I live in a walkup ) who always seem disappointed with their tips .. Exception: list index out of range\n"
     ]
    },
    {
     "name": "stderr",
     "output_type": "stream",
     "text": [
      "converting data to features:  99%|█████████▊| 3582/3634 [01:20<00:01, 35.86it/s]"
     ]
    },
    {
     "name": "stdout",
     "output_type": "stream",
     "text": [
      "[2024-03-21 01:44:00] (2.4.1.post1) Processing error for: This place has totally weird decor , stairs going up with mirrored walls - I am surprised how no one yet broke their head or fall off the stairs - mirrored walls make you dizzy and delusional .... Exception: list index out of range\n",
      "[2024-03-21 01:44:00] (2.4.1.post1) Processing error for: The servers at Flatbush Farm appear to have perfected that ghastly technique of making you feel guilty and ashamed for deigning to attract their attention .. Exception: list index out of range\n"
     ]
    },
    {
     "name": "stderr",
     "output_type": "stream",
     "text": [
      "converting data to features:  99%|█████████▉| 3613/3634 [01:21<00:00, 27.83it/s]"
     ]
    },
    {
     "name": "stdout",
     "output_type": "stream",
     "text": [
      "[2024-03-21 01:44:01] (2.4.1.post1) Processing error for: There 's another girl who I ca n't describe , she is about 5'6 '' with brown hair , who eavesdrops on your conversation and chimes in - except she only hears the last part of what you said , so her uninvited opinions are often out of context and nothing to do with what you 're *really* talking about .. Exception: list index out of range\n"
     ]
    },
    {
     "name": "stderr",
     "output_type": "stream",
     "text": [
      "converting data to features: 100%|██████████| 3634/3634 [01:22<00:00, 44.30it/s]\n",
      "converting data to features:  15%|█▌        | 223/1467 [00:03<00:20, 59.97it/s]"
     ]
    },
    {
     "name": "stdout",
     "output_type": "stream",
     "text": [
      "[2024-03-21 01:44:05] (2.4.1.post1) Processing error for: THE SERVICE IS PERFECT TOO NOTHING WRONG IN THIS ITALIAN/FRENCH RESTAURANT. Exception: list index out of range\n"
     ]
    },
    {
     "name": "stderr",
     "output_type": "stream",
     "text": [
      "converting data to features:  17%|█▋        | 245/1467 [00:04<00:20, 60.31it/s]"
     ]
    },
    {
     "name": "stdout",
     "output_type": "stream",
     "text": [
      "[2024-03-21 01:44:06] (2.4.1.post1) Processing error for: but their mac cheese was YUMMY !. Exception: list index out of range\n",
      "[2024-03-21 01:44:06] (2.4.1.post1) Processing error for: THE BANANA PUDDING THEY SERVE HAS NEVER SEEN AN OVEN , THE CRABCAKES ARE WAY OVER SALTED AND DO N'T GET ME STARTED ON THE VERY GREASY MAC AND CHEESE .. Exception: list index out of range\n"
     ]
    },
    {
     "name": "stderr",
     "output_type": "stream",
     "text": [
      "converting data to features:  30%|███       | 441/1467 [00:09<00:27, 37.78it/s]"
     ]
    },
    {
     "name": "stdout",
     "output_type": "stream",
     "text": [
      "[2024-03-21 01:44:11] (2.4.1.post1) Processing error for: The service , however , is a peg or two below the quality of food ( horrible bartenders ) , and the clientele , for the most part , are rowdy , loud mouthed commuters ( this could explain the bad attitudes from the staff ) getting loaded for an AC/DC concert or a Knicks game .. Exception: list index out of range\n"
     ]
    },
    {
     "name": "stderr",
     "output_type": "stream",
     "text": [
      "converting data to features:  43%|████▎     | 626/1467 [00:13<00:13, 63.69it/s]"
     ]
    },
    {
     "name": "stdout",
     "output_type": "stream",
     "text": [
      "[2024-03-21 01:44:15] (2.4.1.post1) Processing error for: WHAT ELSE CAN YOU SAY NICE PEOPLE AMAZING FOOD WOW. Exception: list index out of range\n"
     ]
    },
    {
     "name": "stderr",
     "output_type": "stream",
     "text": [
      "converting data to features:  46%|████▌     | 670/1467 [00:13<00:12, 64.87it/s]"
     ]
    },
    {
     "name": "stdout",
     "output_type": "stream",
     "text": [
      "[2024-03-21 01:44:16] (2.4.1.post1) Processing error for: Your a sushi fan , you love expertly cut fish , great sake , a killer SOHO location , and of course : Salmon , Tuna , Fluke , Yellow Tail , Cod , Mackeral , Jellyfish , Sea Urchin , Shrimp , Lobster , Sea Bream , Trout , Milk Fish , Blue Fin Tuna , Eel , Crab , Sardine , Monk Fish , Roe , Scallop , Oysters , and a varity of Toro .. Exception: length error\n",
      "[2024-03-21 01:44:16] (2.4.1.post1) Processing error for: Bring your cell phone cause you may have to wait to get into the best sushi restaurant in the world : BLUE RIBBON SUSHI .. Exception: list index out of range\n"
     ]
    },
    {
     "name": "stderr",
     "output_type": "stream",
     "text": [
      "converting data to features:  50%|████▉     | 730/1467 [00:15<00:13, 56.59it/s]"
     ]
    },
    {
     "name": "stdout",
     "output_type": "stream",
     "text": [
      "[2024-03-21 01:44:17] (2.4.1.post1) Processing error for: In Grammercy/Union Square/East Village this is my neighbors and my favorite spot .. Exception: list index out of range\n"
     ]
    },
    {
     "name": "stderr",
     "output_type": "stream",
     "text": [
      "converting data to features:  60%|█████▉    | 873/1467 [00:17<00:08, 66.23it/s]"
     ]
    },
    {
     "name": "stdout",
     "output_type": "stream",
     "text": [
      "[2024-03-21 01:44:20] (2.4.1.post1) Processing error for: WORST PLACE ON SMITH STREET IN BROOKLYN. Exception: list index out of range\n"
     ]
    },
    {
     "name": "stderr",
     "output_type": "stream",
     "text": [
      "converting data to features:  60%|██████    | 882/1467 [00:18<00:08, 69.39it/s]"
     ]
    },
    {
     "name": "stdout",
     "output_type": "stream",
     "text": [
      "[2024-03-21 01:44:20] (2.4.1.post1) Processing error for: I CAN EAT HERE EVERY DAY OF THE WEEK REALLY LOL LOVE THIS PLACE ... ). Exception: list index out of range\n"
     ]
    },
    {
     "name": "stderr",
     "output_type": "stream",
     "text": [
      "converting data to features:  74%|███████▎  | 1080/1467 [00:22<00:09, 41.76it/s]"
     ]
    },
    {
     "name": "stdout",
     "output_type": "stream",
     "text": [
      "[2024-03-21 01:44:24] (2.4.1.post1) Processing error for: This place has totally weird decor , stairs going up with mirrored walls - I am surprised how no one yet broke their head or fall off the stairs - mirrored walls make you dizzy and delusional .... Exception: list index out of range\n",
      "[2024-03-21 01:44:24] (2.4.1.post1) Processing error for: The servers at Flatbush Farm appear to have perfected that ghastly technique of making you feel guilty and ashamed for deigning to attract their attention .. Exception: list index out of range\n"
     ]
    },
    {
     "name": "stderr",
     "output_type": "stream",
     "text": [
      "converting data to features:  76%|███████▌  | 1110/1467 [00:23<00:16, 21.81it/s]"
     ]
    },
    {
     "name": "stdout",
     "output_type": "stream",
     "text": [
      "[2024-03-21 01:44:26] (2.4.1.post1) Processing error for: There 's another girl who I ca n't describe , she is about 5'6 '' with brown hair , who eavesdrops on your conversation and chimes in - except she only hears the last part of what you said , so her uninvited opinions are often out of context and nothing to do with what you 're *really* talking about .. Exception: list index out of range\n"
     ]
    },
    {
     "name": "stderr",
     "output_type": "stream",
     "text": [
      "converting data to features:  86%|████████▌ | 1259/1467 [00:26<00:03, 64.81it/s]"
     ]
    },
    {
     "name": "stdout",
     "output_type": "stream",
     "text": [
      "[2024-03-21 01:44:28] (2.4.1.post1) Processing error for: The on/off switch is a bit obscure in the rear corner .. Exception: list index out of range\n"
     ]
    },
    {
     "name": "stderr",
     "output_type": "stream",
     "text": [
      "converting data to features:  88%|████████▊ | 1298/1467 [00:26<00:02, 65.30it/s]"
     ]
    },
    {
     "name": "stdout",
     "output_type": "stream",
     "text": [
      "[2024-03-21 01:44:28] (2.4.1.post1) Processing error for: MY TRACKPAD IS NOT WORKING .. Exception: list index out of range\n"
     ]
    },
    {
     "name": "stderr",
     "output_type": "stream",
     "text": [
      "converting data to features: 100%|██████████| 1467/1467 [00:30<00:00, 48.04it/s]\n",
      "converting data to features:   2%|▏         | 16/885 [00:00<00:18, 46.85it/s]"
     ]
    },
    {
     "name": "stdout",
     "output_type": "stream",
     "text": [
      "[2024-03-21 01:44:33] (2.4.1.post1) Processing error for: i happen to have a policy that goes along with a little bit of self respect , which includes not letting a waiter intimidate me , i.e . make me feel bad asking for trivialities like water , or the check .. Exception: list index out of range\n"
     ]
    },
    {
     "name": "stderr",
     "output_type": "stream",
     "text": [
      "converting data to features:  18%|█▊        | 158/885 [00:02<00:09, 74.20it/s]"
     ]
    },
    {
     "name": "stdout",
     "output_type": "stream",
     "text": [
      "[2024-03-21 01:44:35] (2.4.1.post1) Processing error for: Never have I had such dramatic delivery guys ( a lot of huffing and panting and muttering under breath b/c I live in a walkup ) who always seem disappointed with their tips .. Exception: list index out of range\n"
     ]
    },
    {
     "name": "stderr",
     "output_type": "stream",
     "text": [
      "converting data to features:  48%|████▊     | 424/885 [00:07<00:07, 60.59it/s]"
     ]
    },
    {
     "name": "stdout",
     "output_type": "stream",
     "text": [
      "[2024-03-21 01:44:40] (2.4.1.post1) Processing error for: If it is n't for the food ( A+++ ) , it must be the service or the ambience .. Exception: list index out of range\n"
     ]
    },
    {
     "name": "stderr",
     "output_type": "stream",
     "text": [
      "converting data to features:  51%|█████     | 450/885 [00:08<00:08, 52.63it/s]"
     ]
    },
    {
     "name": "stdout",
     "output_type": "stream",
     "text": [
      "[2024-03-21 01:44:41] (2.4.1.post1) Processing error for: INCREDIBLY POOR SERVICE AN FOOD QUALITY AT EXORBITANT PRICES .. Exception: list index out of range\n"
     ]
    },
    {
     "name": "stderr",
     "output_type": "stream",
     "text": [
      "converting data to features:  61%|██████    | 538/885 [00:10<00:07, 46.07it/s]"
     ]
    },
    {
     "name": "stdout",
     "output_type": "stream",
     "text": [
      "[2024-03-21 01:44:43] (2.4.1.post1) Processing error for: I BOUGHT THIS LAP TOP AND THE CHARGE TIME DOSE N'T LAST AS LONG AS THEY SAY IT WILL MORE LIKE 2 HOURS. Exception: list index out of range\n"
     ]
    },
    {
     "name": "stderr",
     "output_type": "stream",
     "text": [
      "converting data to features:  67%|██████▋   | 597/885 [00:11<00:06, 45.91it/s]"
     ]
    },
    {
     "name": "stdout",
     "output_type": "stream",
     "text": [
      "[2024-03-21 01:44:44] (2.4.1.post1) Processing error for: I agree with the previous comment that ASUS TECH SUPPORT IS HORRIBLE WHICH IS A CON IN MY OPINION .. Exception: list index out of range\n"
     ]
    },
    {
     "name": "stderr",
     "output_type": "stream",
     "text": [
      "converting data to features:  69%|██████▊   | 608/885 [00:12<00:07, 35.32it/s]"
     ]
    },
    {
     "name": "stdout",
     "output_type": "stream",
     "text": [
      "[2024-03-21 01:44:44] (2.4.1.post1) Processing error for: iLife is easily compatible with Microsoft Office so you can send and receive files from a PC .. Exception: list index out of range\n"
     ]
    },
    {
     "name": "stderr",
     "output_type": "stream",
     "text": [
      "converting data to features:  70%|██████▉   | 618/885 [00:12<00:07, 36.64it/s]"
     ]
    },
    {
     "name": "stdout",
     "output_type": "stream",
     "text": [
      "[2024-03-21 01:44:45] (2.4.1.post1) Processing error for: The Macbook starts fast , does n't crash , has a fantastic display , is small and light ( I have the 13.3 '' model ) , and is n't always complaining about updates , lost connections , errors , blue screens , etc .. Exception: list index out of range\n"
     ]
    },
    {
     "name": "stderr",
     "output_type": "stream",
     "text": [
      "converting data to features:  71%|███████▏  | 631/885 [00:12<00:07, 32.71it/s]"
     ]
    },
    {
     "name": "stdout",
     "output_type": "stream",
     "text": [
      "[2024-03-21 01:44:45] (2.4.1.post1) Processing error for: The Mac Snow Leopard O/S is extremely easy to use , although very different than Win XP , Visa or Win7 .. Exception: list index out of range\n"
     ]
    },
    {
     "name": "stderr",
     "output_type": "stream",
     "text": [
      "converting data to features:  74%|███████▍  | 655/885 [00:13<00:06, 38.17it/s]"
     ]
    },
    {
     "name": "stdout",
     "output_type": "stream",
     "text": [
      "[2024-03-21 01:44:46] (2.4.1.post1) Processing error for: The layout of the MacBook is horrible and confusing ;. Exception: list index out of range\n"
     ]
    },
    {
     "name": "stderr",
     "output_type": "stream",
     "text": [
      "converting data to features:  75%|███████▍  | 660/885 [00:13<00:09, 22.63it/s]"
     ]
    },
    {
     "name": "stdout",
     "output_type": "stream",
     "text": [
      "[2024-03-21 01:44:46] (2.4.1.post1) Processing error for: In November my computer messed up entirely and would n't power on after intalling a Windows update , I had to have my HD flashed and lost EVERYTHING on it , including my school assignments and irriplaceable pictures that were only in digital format and several other things , when this update was installed for some reason I was unable to roll back the drivers and everything to an earlier working condition because when the update was installed it deleted my history .. Exception: list index out of range\n"
     ]
    },
    {
     "name": "stderr",
     "output_type": "stream",
     "text": [
      "converting data to features:  78%|███████▊  | 688/885 [00:14<00:04, 42.58it/s]"
     ]
    },
    {
     "name": "stdout",
     "output_type": "stream",
     "text": [
      "[2024-03-21 01:44:47] (2.4.1.post1) Processing error for: i happen to have a policy that goes along with a little bit of self respect , which includes not letting a waiter intimidate me , i.e . make me feel bad asking for trivialities like water , or the check .. Exception: list index out of range\n"
     ]
    },
    {
     "name": "stderr",
     "output_type": "stream",
     "text": [
      "converting data to features:  86%|████████▌ | 757/885 [00:15<00:01, 90.24it/s]"
     ]
    },
    {
     "name": "stdout",
     "output_type": "stream",
     "text": [
      "[2024-03-21 01:44:48] (2.4.1.post1) Processing error for: Love YUKA .. Exception: list index out of range\n"
     ]
    },
    {
     "name": "stderr",
     "output_type": "stream",
     "text": [
      "converting data to features:  96%|█████████▌| 847/885 [00:16<00:00, 65.14it/s]"
     ]
    },
    {
     "name": "stdout",
     "output_type": "stream",
     "text": [
      "[2024-03-21 01:44:49] (2.4.1.post1) Processing error for: WORST PLACE ON SMITH STREET IN BROOKLYN. Exception: list index out of range\n",
      "[2024-03-21 01:44:49] (2.4.1.post1) Processing error for: I CAN EAT HERE EVERY DAY OF THE WEEK REALLY LOL LOVE THIS PLACE ... ). Exception: list index out of range\n"
     ]
    },
    {
     "name": "stderr",
     "output_type": "stream",
     "text": [
      "converting data to features: 100%|██████████| 885/885 [00:17<00:00, 49.94it/s]"
     ]
    },
    {
     "name": "stdout",
     "output_type": "stream",
     "text": [
      "2024-03-21 01:44:50,579 INFO: Save cache dataset to emcgcn.custom_dataset.dataset.b2de54544b3f6bc061c54ecf69841a2a6e668d8771a3b27232389168ace6e72b.cache\n"
     ]
    },
    {
     "name": "stderr",
     "output_type": "stream",
     "text": [
      "\n"
     ]
    },
    {
     "data": {
      "application/vnd.jupyter.widget-view+json": {
       "model_id": "dc8bde2b4bd24a53b2396ab743e1b224",
       "version_major": 2,
       "version_minor": 0
      },
      "text/plain": [
       "pytorch_model.bin:   0%|          | 0.00/1.33G [00:00<?, ?B/s]"
      ]
     },
     "metadata": {},
     "output_type": "display_data"
    },
    {
     "name": "stdout",
     "output_type": "stream",
     "text": [
      "[2024-03-21 01:47:03] (2.4.1.post1) ABSADatasetsVersion:None\t-->\tCalling Count:0\n",
      "[2024-03-21 01:47:03] (2.4.1.post1) MV:<metric_visualizer.metric_visualizer.MetricVisualizer object at 0x000001DEC3615E50>\t-->\tCalling Count:0\n",
      "[2024-03-21 01:47:03] (2.4.1.post1) PyABSAVersion:2.4.1.post1\t-->\tCalling Count:1\n",
      "[2024-03-21 01:47:03] (2.4.1.post1) SRD:3\t-->\tCalling Count:0\n",
      "[2024-03-21 01:47:03] (2.4.1.post1) TorchVersion:2.2.1+cu121+cuda12.1\t-->\tCalling Count:1\n",
      "[2024-03-21 01:47:03] (2.4.1.post1) TransformersVersion:4.38.2\t-->\tCalling Count:1\n",
      "[2024-03-21 01:47:03] (2.4.1.post1) adam_epsilon:1e-08\t-->\tCalling Count:1\n",
      "[2024-03-21 01:47:03] (2.4.1.post1) auto_device:True\t-->\tCalling Count:2\n",
      "[2024-03-21 01:47:03] (2.4.1.post1) batch_size:16\t-->\tCalling Count:0\n",
      "[2024-03-21 01:47:03] (2.4.1.post1) cache_dataset:True\t-->\tCalling Count:1\n",
      "[2024-03-21 01:47:03] (2.4.1.post1) checkpoint_save_mode:1\t-->\tCalling Count:4\n",
      "[2024-03-21 01:47:03] (2.4.1.post1) cross_validate_fold:-1\t-->\tCalling Count:0\n",
      "[2024-03-21 01:47:03] (2.4.1.post1) dataset_file:{'train': ['integrated_datasets\\\\aste_datasets\\\\400.SemEval\\\\401.Laptop14\\\\train.txt', 'integrated_datasets\\\\aste_datasets\\\\400.SemEval\\\\403.Restaurant15\\\\train.txt', 'integrated_datasets\\\\aste_datasets\\\\400.SemEval\\\\402.Restaurant14\\\\train.txt', 'integrated_datasets\\\\aste_datasets\\\\400.SemEval\\\\404.Restaurant16\\\\train.txt'], 'test': ['integrated_datasets\\\\aste_datasets\\\\400.SemEval\\\\402.Restaurant14\\\\test.txt', 'integrated_datasets\\\\aste_datasets\\\\400.SemEval\\\\404.Restaurant16\\\\test.txt', 'integrated_datasets\\\\aste_datasets\\\\400.SemEval\\\\403.Restaurant15\\\\test.txt', 'integrated_datasets\\\\aste_datasets\\\\400.SemEval\\\\401.Laptop14\\\\test.txt'], 'valid': ['integrated_datasets\\\\aste_datasets\\\\400.SemEval\\\\403.Restaurant15\\\\dev.txt', 'integrated_datasets\\\\aste_datasets\\\\400.SemEval\\\\402.Restaurant14\\\\dev.txt', 'integrated_datasets\\\\aste_datasets\\\\400.SemEval\\\\401.Laptop14\\\\dev.txt', 'integrated_datasets\\\\aste_datasets\\\\400.SemEval\\\\404.Restaurant16\\\\dev.txt']}\t-->\tCalling Count:17\n",
      "[2024-03-21 01:47:03] (2.4.1.post1) dataset_name:custom_dataset\t-->\tCalling Count:3\n",
      "[2024-03-21 01:47:03] (2.4.1.post1) dca_layer:3\t-->\tCalling Count:0\n",
      "[2024-03-21 01:47:03] (2.4.1.post1) dca_p:1\t-->\tCalling Count:0\n",
      "[2024-03-21 01:47:03] (2.4.1.post1) deep_ensemble:False\t-->\tCalling Count:0\n",
      "[2024-03-21 01:47:03] (2.4.1.post1) deprel_size:44\t-->\tCalling Count:1\n",
      "[2024-03-21 01:47:03] (2.4.1.post1) deprel_vocab:<pyabsa.tasks.AspectSentimentTripletExtraction.dataset_utils.aste_utils.VocabHelp object at 0x000001DED67D8B90>\t-->\tCalling Count:5986\n",
      "[2024-03-21 01:47:03] (2.4.1.post1) device:cuda:0\t-->\tCalling Count:2\n",
      "[2024-03-21 01:47:03] (2.4.1.post1) device_name:NVIDIA GeForce RTX 3060 Ti\t-->\tCalling Count:1\n",
      "[2024-03-21 01:47:03] (2.4.1.post1) dlcf_a:2\t-->\tCalling Count:0\n",
      "[2024-03-21 01:47:03] (2.4.1.post1) dropout:0.5\t-->\tCalling Count:0\n",
      "[2024-03-21 01:47:03] (2.4.1.post1) dynamic_truncate:True\t-->\tCalling Count:0\n",
      "[2024-03-21 01:47:03] (2.4.1.post1) emb_dropout:0.5\t-->\tCalling Count:1\n",
      "[2024-03-21 01:47:03] (2.4.1.post1) embed_dim:768\t-->\tCalling Count:0\n",
      "[2024-03-21 01:47:03] (2.4.1.post1) epochs:100\t-->\tCalling Count:0\n",
      "[2024-03-21 01:47:03] (2.4.1.post1) eta:1\t-->\tCalling Count:0\n",
      "[2024-03-21 01:47:03] (2.4.1.post1) eta_lr:0.1\t-->\tCalling Count:0\n",
      "[2024-03-21 01:47:03] (2.4.1.post1) evaluate_begin:0\t-->\tCalling Count:0\n",
      "[2024-03-21 01:47:03] (2.4.1.post1) from_checkpoint:None\t-->\tCalling Count:0\n",
      "[2024-03-21 01:47:03] (2.4.1.post1) gcn_dim:300\t-->\tCalling Count:6\n",
      "[2024-03-21 01:47:03] (2.4.1.post1) hidden_dim:768\t-->\tCalling Count:4\n",
      "[2024-03-21 01:47:03] (2.4.1.post1) index_to_label:OrderedDict([(0, 'N'), (1, 'B-A'), (2, 'I-A'), (3, 'A'), (4, 'B-O'), (5, 'I-O'), (6, 'O'), (7, 'Negative'), (8, 'Neutral'), (9, 'Positive')])\t-->\tCalling Count:0\n",
      "[2024-03-21 01:47:03] (2.4.1.post1) inference_model:None\t-->\tCalling Count:0\n",
      "[2024-03-21 01:47:03] (2.4.1.post1) initializer:xavier_uniform_\t-->\tCalling Count:0\n",
      "[2024-03-21 01:47:03] (2.4.1.post1) l2reg:1e-06\t-->\tCalling Count:3\n",
      "[2024-03-21 01:47:03] (2.4.1.post1) label_to_index:OrderedDict([('N', 0), ('B-A', 1), ('I-A', 2), ('A', 3), ('B-O', 4), ('I-O', 5), ('O', 6), ('Negative', 7), ('Neutral', 8), ('Positive', 9)])\t-->\tCalling Count:0\n",
      "[2024-03-21 01:47:03] (2.4.1.post1) lcf:cdw\t-->\tCalling Count:0\n",
      "[2024-03-21 01:47:03] (2.4.1.post1) learning_rate:2e-05\t-->\tCalling Count:3\n",
      "[2024-03-21 01:47:03] (2.4.1.post1) load_aug:False\t-->\tCalling Count:1\n",
      "[2024-03-21 01:47:03] (2.4.1.post1) log_step:-1\t-->\tCalling Count:0\n",
      "[2024-03-21 01:47:03] (2.4.1.post1) logger:<Logger emcgcn (INFO)>\t-->\tCalling Count:13\n",
      "[2024-03-21 01:47:03] (2.4.1.post1) lsa:False\t-->\tCalling Count:0\n",
      "[2024-03-21 01:47:03] (2.4.1.post1) max_seq_len:120\t-->\tCalling Count:200169\n",
      "[2024-03-21 01:47:03] (2.4.1.post1) model:<class 'pyabsa.tasks.AspectSentimentTripletExtraction.models.model.EMCGCN'>\t-->\tCalling Count:5\n",
      "[2024-03-21 01:47:03] (2.4.1.post1) model_name:emcgcn\t-->\tCalling Count:2\n",
      "[2024-03-21 01:47:03] (2.4.1.post1) model_path_to_save:checkpoints\t-->\tCalling Count:0\n",
      "[2024-03-21 01:47:03] (2.4.1.post1) num_epoch:16\t-->\tCalling Count:0\n",
      "[2024-03-21 01:47:03] (2.4.1.post1) num_layers:1\t-->\tCalling Count:1\n",
      "[2024-03-21 01:47:03] (2.4.1.post1) optimizer:adamw\t-->\tCalling Count:1\n",
      "[2024-03-21 01:47:03] (2.4.1.post1) output_dim:10\t-->\tCalling Count:7\n",
      "[2024-03-21 01:47:03] (2.4.1.post1) overwrite_cache:False\t-->\tCalling Count:0\n",
      "[2024-03-21 01:47:03] (2.4.1.post1) path_to_save:None\t-->\tCalling Count:1\n",
      "[2024-03-21 01:47:03] (2.4.1.post1) patience:99999\t-->\tCalling Count:0\n",
      "[2024-03-21 01:47:03] (2.4.1.post1) pooling:avg\t-->\tCalling Count:1\n",
      "[2024-03-21 01:47:03] (2.4.1.post1) post_size:85\t-->\tCalling Count:1\n",
      "[2024-03-21 01:47:03] (2.4.1.post1) post_vocab:<pyabsa.tasks.AspectSentimentTripletExtraction.dataset_utils.aste_utils.VocabHelp object at 0x000001DEEBCC2A10>\t-->\tCalling Count:5986\n",
      "[2024-03-21 01:47:03] (2.4.1.post1) postag_size:118\t-->\tCalling Count:1\n",
      "[2024-03-21 01:47:03] (2.4.1.post1) postag_vocab:<pyabsa.tasks.AspectSentimentTripletExtraction.dataset_utils.aste_utils.VocabHelp object at 0x000001DEEBEABE10>\t-->\tCalling Count:5986\n",
      "[2024-03-21 01:47:03] (2.4.1.post1) pretrained_bert:microsoft/mdeberta-v3-base\t-->\tCalling Count:5\n",
      "[2024-03-21 01:47:03] (2.4.1.post1) relation_constraint:True\t-->\tCalling Count:0\n",
      "[2024-03-21 01:47:03] (2.4.1.post1) save_mode:1\t-->\tCalling Count:0\n",
      "[2024-03-21 01:47:03] (2.4.1.post1) seed:52\t-->\tCalling Count:7\n",
      "[2024-03-21 01:47:03] (2.4.1.post1) sigma:0.3\t-->\tCalling Count:0\n",
      "[2024-03-21 01:47:03] (2.4.1.post1) similarity_threshold:1\t-->\tCalling Count:0\n",
      "[2024-03-21 01:47:03] (2.4.1.post1) spacy_model:zh_core_web_sm\t-->\tCalling Count:6\n",
      "[2024-03-21 01:47:03] (2.4.1.post1) srd_alignment:True\t-->\tCalling Count:0\n",
      "[2024-03-21 01:47:03] (2.4.1.post1) symmetry_decoding:False\t-->\tCalling Count:0\n",
      "[2024-03-21 01:47:03] (2.4.1.post1) syn_post_vocab:<pyabsa.tasks.AspectSentimentTripletExtraction.dataset_utils.aste_utils.VocabHelp object at 0x000001DF0A0912D0>\t-->\tCalling Count:5988\n",
      "[2024-03-21 01:47:03] (2.4.1.post1) synpost_size:7\t-->\tCalling Count:1\n",
      "[2024-03-21 01:47:03] (2.4.1.post1) task:triplet\t-->\tCalling Count:78542\n",
      "[2024-03-21 01:47:03] (2.4.1.post1) task_code:ASTE\t-->\tCalling Count:2\n",
      "[2024-03-21 01:47:03] (2.4.1.post1) task_name:Aspect Sentiment Triple Extraction\t-->\tCalling Count:0\n",
      "[2024-03-21 01:47:03] (2.4.1.post1) token_vocab:<pyabsa.tasks.AspectSentimentTripletExtraction.dataset_utils.aste_utils.VocabHelp object at 0x000001DEF0543E50>\t-->\tCalling Count:0\n",
      "[2024-03-21 01:47:03] (2.4.1.post1) tokenizer:<pyabsa.framework.tokenizer_class.tokenizer_class.PretrainedTokenizer object at 0x000001DEC35D17D0>\t-->\tCalling Count:0\n",
      "[2024-03-21 01:47:03] (2.4.1.post1) use_amp:True\t-->\tCalling Count:1\n",
      "[2024-03-21 01:47:03] (2.4.1.post1) use_bert_spc:True\t-->\tCalling Count:0\n",
      "[2024-03-21 01:47:03] (2.4.1.post1) use_syntax_based_SRD:False\t-->\tCalling Count:0\n",
      "[2024-03-21 01:47:03] (2.4.1.post1) warmup_step:-1\t-->\tCalling Count:0\n",
      "[2024-03-21 01:47:03] (2.4.1.post1) weight_decay:0.0\t-->\tCalling Count:0\n",
      "[2024-03-21 01:47:03] (2.4.1.post1) window:lr\t-->\tCalling Count:0\n",
      "2024-03-21 01:47:03,688 INFO: ***** Running training for Aspect Sentiment Triple Extraction *****\n",
      "2024-03-21 01:47:03,689 INFO: Training set examples = 3598\n",
      "2024-03-21 01:47:03,690 INFO: Valid set examples = 870\n",
      "2024-03-21 01:47:03,690 INFO: Test set examples = 1452\n",
      "2024-03-21 01:47:03,690 INFO: Total params = 279919348, Trainable params = 279919348, Non-trainable params = 0\n",
      "2024-03-21 01:47:03,691 INFO: Batch size = 16\n",
      "2024-03-21 01:47:03,692 INFO: Num steps = 3600\n"
     ]
    },
    {
     "name": "stderr",
     "output_type": "stream",
     "text": [
      "Epoch:  0 | Smooth Loss: 0.3007: 100%|██████████| 225/225 [12:04<00:00,  3.22s/it, Dev F1:37.41(max:37.41)]\n",
      "Epoch:  1 | Smooth Loss: 0.2409: 100%|██████████| 225/225 [05:47<00:00,  1.55s/it, Dev F1:58.60(max:58.60)]\n",
      "Epoch:  2 | Smooth Loss: 0.2111: 100%|██████████| 225/225 [04:11<00:00,  1.12s/it, Dev F1:60.05(max:60.05)]\n",
      "Epoch:  3 | Smooth Loss: 0.1911: 100%|██████████| 225/225 [03:58<00:00,  1.06s/it, Dev F1:63.35(max:63.35)]\n",
      "Epoch:  4 | Smooth Loss: 0.1763: 100%|██████████| 225/225 [03:58<00:00,  1.06s/it, Dev F1:64.05(max:64.05)]\n",
      "Epoch:  5 | Smooth Loss: 0.1645: 100%|██████████| 225/225 [03:58<00:00,  1.06s/it, Dev F1:64.33(max:64.33)]\n",
      "Epoch:  6 | Smooth Loss: 0.1545: 100%|██████████| 225/225 [03:56<00:00,  1.05s/it, Dev F1:63.44(max:64.33)]\n",
      "Epoch:  7 | Smooth Loss: 0.1460: 100%|██████████| 225/225 [03:58<00:00,  1.06s/it, Dev F1:67.51(max:67.51)]\n",
      "Epoch:  8 | Smooth Loss: 0.1384: 100%|██████████| 225/225 [03:56<00:00,  1.05s/it, Dev F1:66.63(max:67.51)]\n",
      "Epoch:  9 | Smooth Loss: 0.1317: 100%|██████████| 225/225 [03:59<00:00,  1.06s/it, Dev F1:68.20(max:68.20)]\n",
      "Epoch: 10 | Smooth Loss: 0.1258: 100%|██████████| 225/225 [03:57<00:00,  1.06s/it, Dev F1:69.08(max:69.08)]\n",
      "Epoch: 11 | Smooth Loss: 0.1205: 100%|██████████| 225/225 [03:59<00:00,  1.06s/it, Dev F1:69.39(max:69.39)]\n",
      "Epoch: 12 | Smooth Loss: 0.1158: 100%|██████████| 225/225 [03:57<00:00,  1.05s/it, Dev F1:69.74(max:69.74)]\n",
      "Epoch: 13 | Smooth Loss: 0.1116: 100%|██████████| 225/225 [03:59<00:00,  1.06s/it, Dev F1:68.96(max:69.74)]\n",
      "Epoch: 14 | Smooth Loss: 0.1078: 100%|██████████| 225/225 [03:56<00:00,  1.05s/it, Dev F1:69.06(max:69.74)]\n",
      "Epoch: 15 | Smooth Loss: 0.1044: 100%|██████████| 225/225 [03:56<00:00,  1.05s/it, Dev F1:68.57(max:69.74)]\n"
     ]
    },
    {
     "name": "stdout",
     "output_type": "stream",
     "text": [
      "[2024-03-21 03:00:41] (2.4.1.post1) Loading best model: checkpoints/emcgcn_custom_dataset_f1_69.74/ and evaluating on test set \n",
      "2024-03-21 03:00:51,461 INFO: \n",
      "--------------------------------------------------------------- Raw Metric Records ---------------------------------------------------------------\n",
      "╒═════════════╤══════════════════════════════════════════════════╤═════════════════════╤═══════════╤══════════╤═══════╤═══════╤═════════╤═════════╕\n",
      "│ Metric      │ Trial                                            │ Values              │  Average  │  Median  │  Std  │  IQR  │   Min   │   Max   │\n",
      "╞═════════════╪══════════════════════════════════════════════════╪═════════════════════╪═══════════╪══════════╪═══════╪═══════╪═════════╪═════════╡\n",
      "│ Max-Test-F1 │ emcgcn-custom_dataset-microsoft/mdeberta-v3-base │ [69.74240676662822] │  69.7424  │ 69.7424  │   0   │   0   │ 69.7424 │ 69.7424 │\n",
      "╘═════════════╧══════════════════════════════════════════════════╧═════════════════════╧═══════════╧══════════╧═══════╧═══════╧═════════╧═════════╛\n",
      "------------------------------------------------- https://github.com/yangheng95/metric_visualizer -------------------------------------------------\n",
      "\n"
     ]
    },
    {
     "name": "stderr",
     "output_type": "stream",
     "text": [
      "c:\\Users\\regan\\Documents\\FYP-FIT3162\\myenv\\Lib\\site-packages\\metric_visualizer\\utils.py:31: RuntimeWarning: Precision loss occurred in moment calculation due to catastrophic cancellation. This occurs when the data are nearly identical. Results may be unreliable.\n",
      "  self.skewness = stats.skew(self.data, keepdims=True)\n",
      "c:\\Users\\regan\\Documents\\FYP-FIT3162\\myenv\\Lib\\site-packages\\pyabsa\\framework\\trainer_class\\trainer_template.py:250: ResourceWarning: unclosed file <_io.TextIOWrapper name='c:\\\\Users\\\\regan\\\\Documents\\\\FYP-FIT3162\\\\Pyabsa\\\\absa_model\\\\logs\\\\emcgcn_20240321 014144\\\\trainer.log' mode='a' encoding='utf8'>\n",
      "  self.config.logger.removeHandler(self.config.logger.handlers[0])\n",
      "ResourceWarning: Enable tracemalloc to get the object allocation traceback\n"
     ]
    },
    {
     "name": "stdout",
     "output_type": "stream",
     "text": [
      "[2024-03-21 03:00:56] (2.4.1.post1) Load sentiment classifier from checkpoints/emcgcn_custom_dataset_f1_69.74/\n",
      "[2024-03-21 03:00:56] (2.4.1.post1) config: checkpoints/emcgcn_custom_dataset_f1_69.74/emcgcn.config\n",
      "[2024-03-21 03:00:56] (2.4.1.post1) state_dict: checkpoints/emcgcn_custom_dataset_f1_69.74/emcgcn.state_dict\n",
      "[2024-03-21 03:00:56] (2.4.1.post1) model: None\n",
      "[2024-03-21 03:00:56] (2.4.1.post1) tokenizer: checkpoints/emcgcn_custom_dataset_f1_69.74/emcgcn.tokenizer\n",
      "[2024-03-21 03:00:56] (2.4.1.post1) Set Model Device: cuda:0\n",
      "[2024-03-21 03:00:56] (2.4.1.post1) Device Name: NVIDIA GeForce RTX 3060 Ti\n"
     ]
    },
    {
     "name": "stderr",
     "output_type": "stream",
     "text": [
      "c:\\Users\\regan\\Documents\\FYP-FIT3162\\myenv\\Lib\\site-packages\\transformers\\convert_slow_tokenizer.py:550: UserWarning: The sentencepiece tokenizer that you are converting to a fast tokenizer uses the byte fallback option which is not implemented in the fast tokenizers. In practice this means that the fast version of the tokenizer can produce unknown tokens whereas the sentencepiece version would have converted these unknown tokens into a sequence of byte tokens matching the original piece of text.\n",
      "  warnings.warn(\n"
     ]
    },
    {
     "name": "stdout",
     "output_type": "stream",
     "text": [
      "[2024-03-21 03:01:03] (2.4.1.post1) Batch: 0 {'sentence_id': 0, 'sentence': 'The chicken rice is good but the service is lacking.', 'Triplets': [{'Aspect': 'chicken rice', 'Opinion': 'good', 'Polarity': 'Positive'}, {'Aspect': 'chicken rice', 'Opinion': 'lacking.', 'Polarity': 'Negative'}, {'Aspect': 'service', 'Opinion': 'good', 'Polarity': 'Positive'}, {'Aspect': 'service', 'Opinion': 'lacking.', 'Polarity': 'Negative'}], 'True Triplets': []}\n",
      "[2024-03-21 03:01:03] (2.4.1.post1) Batch: 0 {'sentence_id': 0, 'sentence': 'The chicken rice is good but the service is lacking.', 'Triplets': [{'Aspect': 'chicken rice', 'Opinion': 'good', 'Polarity': 'Positive'}, {'Aspect': 'chicken rice', 'Opinion': 'lacking.', 'Polarity': 'Negative'}, {'Aspect': 'service', 'Opinion': 'good', 'Polarity': 'Positive'}, {'Aspect': 'service', 'Opinion': 'lacking.', 'Polarity': 'Negative'}], 'True Triplets': []}\n"
     ]
    }
   ],
   "source": [
    "# -*- coding: utf-8 -*-\n",
    "# file: trainer.py\n",
    "# time: 2021/5/26 0026\n",
    "# author: YANG, HENG <hy345@exeter.ac.uk> (杨恒)\n",
    "# github: https://github.com/yangheng95\n",
    "# Copyright (C) 2021. All Rights Reserved.\n",
    "\n",
    "########################################################################################################################\n",
    "#                    train and evaluate on your own apc_datasets (need train and test apc_datasets)                    #\n",
    "########################################################################################################################\n",
    "\n",
    "from pyabsa import (\n",
    "    ModelSaveOption,\n",
    "    DeviceTypeOption,\n",
    "    DatasetItem,\n",
    ")\n",
    "\n",
    "from pyabsa import AspectSentimentTripletExtraction as ASTE\n",
    "\n",
    "\n",
    "if __name__ == \"__main__\":\n",
    "    config = ASTE.ASTEConfigManager.get_aste_config_english()\n",
    "    config.max_seq_len = 120\n",
    "    config.log_step = -1\n",
    "    config.pretrained_bert = \"microsoft/mdeberta-v3-base\"\n",
    "    # config.pretrained_bert = \"microsoft/deberta-v3-base\"\n",
    "    # config.pretrained_bert = \"bert-base-chinese\"\n",
    "    config.num_epoch = 16\n",
    "    config.learning_rate = 2e-5\n",
    "    # config.cache_dataset = False\n",
    "    config.use_amp = True\n",
    "    config.cache_dataset = True\n",
    "    config.spacy_model = \"zh_core_web_sm\"\n",
    "\n",
    "    # dataset = \"Laptop14\"\n",
    "    # dataset = \"aste\"\n",
    "    dataset = \"semeval\"\n",
    "    # dataset = \"chinese\"\n",
    "    trainer = ASTE.ASTETrainer(\n",
    "        config=config,\n",
    "        dataset=dataset,\n",
    "        # from_checkpoint='english',\n",
    "        checkpoint_save_mode=ModelSaveOption.SAVE_MODEL_STATE_DICT,\n",
    "        # checkpoint_save_mode=ModelSaveOption.DO_NOT_SAVE_MODEL,\n",
    "        auto_device=True,\n",
    "    )\n",
    "    triplet_extractor = trainer.load_trained_model()\n",
    "\n",
    "    triplet_extractor.predict(\"The chicken rice is good but the service is lacking.\")"
   ]
  },
  {
   "cell_type": "code",
   "execution_count": null,
   "metadata": {},
   "outputs": [],
   "source": [
    "config.MV.box_plot(no_overlap=False)\n",
    "config.MV.scatter_plot()"
   ]
  }
 ],
 "metadata": {
  "kernelspec": {
   "display_name": "myenv",
   "language": "python",
   "name": "python3"
  },
  "language_info": {
   "codemirror_mode": {
    "name": "ipython",
    "version": 3
   },
   "file_extension": ".py",
   "mimetype": "text/x-python",
   "name": "python",
   "nbconvert_exporter": "python",
   "pygments_lexer": "ipython3",
   "version": "3.11.3"
  }
 },
 "nbformat": 4,
 "nbformat_minor": 2
}
