{
 "cells": [
  {
   "cell_type": "markdown",
   "metadata": {},
   "source": [
    "### Get unique set of aspect categories"
   ]
  },
  {
   "cell_type": "code",
   "execution_count": null,
   "metadata": {},
   "outputs": [],
   "source": [
    "import csv\n",
    "\n",
    "# Initialize a set to store unique categories\n",
    "unique_categories = set()\n",
    "\n",
    "# Read from existing CSV file\n",
    "with open('absa_results.csv', 'r', newline='', encoding='utf-8') as csvfile:\n",
    "    reader = csv.DictReader(csvfile)\n",
    "    for row in reader:\n",
    "        category = row['Category']\n",
    "        unique_categories.add(category)\n",
    "\n",
    "# Write unique categories to CSV\n",
    "with open('unique_categories.csv', 'w', newline='', encoding='utf-8') as csvfile:\n",
    "    writer = csv.writer(csvfile)\n",
    "    writer.writerow(['Category'])\n",
    "    for category in unique_categories:\n",
    "        writer.writerow([category])"
   ]
  },
  {
   "cell_type": "markdown",
   "metadata": {},
   "source": [
    "### Carry out testing on chatGPT generated sentences"
   ]
  },
  {
   "cell_type": "code",
   "execution_count": null,
   "metadata": {},
   "outputs": [
    {
     "name": "stdout",
     "output_type": "stream",
     "text": [
      "{'text': 'The food at that restaurant was delicious, especially the pasta.', 'Quadruples': [{'aspect': 'food', 'polarity': 'positive', 'opinion': 'delicious', 'category': 'FOOD#QUALITY'}, {'aspect': 'pasta', 'polarity': 'positive', 'opinion': 'delicious', 'category': 'FOOD#QUALITY'}]}\n",
      "{'text': 'The customer service was exceptional; the staff was very helpful and attentive.', 'Quadruples': [{'aspect': 'customer service', 'polarity': 'positive', 'opinion': 'exceptional', 'category': 'SUPPORT#GENERAL'}, {'aspect': 'staff', 'polarity': 'positive', 'opinion': 'helpful', 'category': 'SERVICE#GENERAL'}]}\n",
      "{'text': 'I loved the ambiance of the cafe; it had a cozy atmosphere with soothing music.', 'Quadruples': [{'aspect': 'ambiance', 'polarity': 'positive', 'opinion': 'loved', 'category': 'AMBIENCE#GENERAL'}, {'aspect': 'atmosphere', 'polarity': 'positive', 'opinion': 'cozy', 'category': 'AMBIENCE#GENERAL'}, {'aspect': 'music', 'polarity': 'positive', 'opinion': 'soothing', 'category': 'AMBIENCE#GENERAL'}]}\n",
      "{'text': 'The prices at the grocery store are reasonable, but the selection is limited.', 'Quadruples': [{'aspect': 'prices', 'polarity': 'positive', 'opinion': 'reasonable', 'category': 'PRICES#GENERAL'}, {'aspect': 'selection', 'polarity': 'negative', 'opinion': 'limited', 'category': 'STYLE_OPTIONS'}]}\n",
      "{'text': 'The location of the hotel is convenient, close to public transportation and tourist attractions.', 'Quadruples': [{'aspect': 'location', 'polarity': 'positive', 'opinion': 'convenient', 'category': 'RESTAURANT#MISCELLANEOUS'}]}\n",
      "{'text': 'The cleanliness of the restroom was appalling; it definitely needs improvement.', 'Quadruples': [{'aspect': 'cleanliness of the restroom', 'polarity': 'negative', 'opinion': 'appalling', 'category': 'AMBIENCE#GENERAL'}]}\n",
      "{'text': 'The design of the website is user-friendly and intuitive, making navigation effortless.', 'Quadruples': [{'aspect': 'design', 'polarity': 'positive', 'opinion': 'user-friendly', 'category': 'LAPTOP#DESIGN_FEATURES'}, {'aspect': 'navigation', 'polarity': 'positive', 'opinion': 'intuitive', 'category': 'LAPTOP#DESIGN_FEATURES'}]}\n",
      "{'text': 'The sound quality of the speakers is excellent, providing a rich audio experience.', 'Quadruples': [{'aspect': 'sound quality', 'polarity': 'positive', 'opinion': 'excellent', 'category': 'MULTIMEDIA_DEVICES#QUALITY'}, {'aspect': 'speakers', 'polarity': 'positive', 'opinion': 'rich audio experience', 'category': 'MULTIMEDIA_DEVICES#QUALITY'}]}\n",
      "{'text': 'The portion size of the dishes served was generous, ensuring no one left hungry.', 'Quadruples': [{'aspect': 'portion size', 'polarity': 'positive', 'opinion': 'generous', 'category': 'FOOD#STYLE_OPTIONS'}]}\n",
      "{'text': 'The delivery service was punctual, and my order arrived right on time.', 'Quadruples': [{'aspect': 'delivery service', 'polarity': 'positive', 'opinion': 'punctual', 'category': 'SERVICE#GENERAL'}, {'aspect': 'order', 'polarity': 'positive', 'opinion': 'arrived right on time', 'category': 'FOOD#QUALITY'}]}\n",
      "{'text': 'The decor of the restaurant was elegant and tasteful, creating a pleasant dining atmosphere.', 'Quadruples': [{'aspect': 'decor', 'polarity': 'positive', 'opinion': 'elegant and tasteful', 'category': 'AMBIENCE#GENERAL'}, {'aspect': 'dining atmosphere', 'polarity': 'positive', 'opinion': 'pleasant', 'category': 'AMBIENCE#GENERAL'}]}\n",
      "{'text': 'The internet speed at the hotel was fast, allowing for smooth browsing and streaming.', 'Quadruples': [{'aspect': 'internet speed', 'polarity': 'positive', 'opinion': 'fast', 'category': 'PORTS#OPERATION_PERFORMANCE'}]}\n",
      "{'text': 'The variety of dishes on the menu was impressive, catering to different tastes and preferences.', 'Quadruples': [{'aspect': 'variety of dishes', 'polarity': 'positive', 'opinion': 'impressive', 'category': 'FOOD#QUALITY'}]}\n",
      "{'text': 'The comfort of the seating arrangement was satisfactory, but the chairs could be more cushioned.', 'Quadruples': [{'aspect': 'seating arrangement', 'polarity': 'positive', 'opinion': 'comfortable', 'category': 'AMBIENCE#GENERAL'}, {'aspect': 'chairs', 'polarity': 'neutral', 'opinion': 'could be more cushioned', 'category': 'AMBIENCE#GENERAL'}]}\n",
      "{'text': 'The checkout process at the store was quick and efficient, with no long queues.', 'Quadruples': [{'aspect': 'checkout process', 'polarity': 'positive', 'opinion': 'quick', 'category': 'SUPPORT#OPERATION_PERFORMANCE'}]}\n",
      "{'text': 'The temperature of the room was too cold; they should adjust the thermostat.', 'Quadruples': [{'aspect': 'temperature of the room', 'polarity': 'negative', 'opinion': 'too cold', 'category': 'AMBIENCE#GENERAL'}]}\n",
      "{'text': 'The professionalism of the staff members was commendable, they handled all inquiries with courtesy.', 'Quadruples': [{'aspect': 'staff members', 'polarity': 'positive', 'opinion': 'professionalism', 'category': 'SERVICE#GENERAL'}]}\n",
      "{'text': 'The menu options for vegetarians were limited, they should add more plant-based choices.', 'Quadruples': [{'aspect': 'menu options', 'polarity': 'negative', 'opinion': 'limited', 'category': 'FOOD#STYLE_OPTIONS'}, {'aspect': 'plant-based choices', 'polarity': 'positive', 'opinion': 'add', 'category': 'FOOD#STYLE_OPTIONS'}]}\n",
      "{'text': 'The packaging of the product was secure, preventing any damage during transit.', 'Quadruples': [{'aspect': 'packaging', 'polarity': 'positive', 'opinion': 'secure', 'category': 'LAPTOP#DESIGN_FEATURES'}]}\n",
      "{'text': 'The lighting in the room was dim, making it difficult to read.', 'Quadruples': [{'aspect': 'lighting', 'polarity': 'negative', 'opinion': 'difficult to read', 'category': 'AMBIENCE#GENERAL'}]}\n",
      "{'text': 'The taste of the coffee was bitter, they need to improve the quality of their beans.', 'Quadruples': [{'aspect': 'coffee', 'polarity': 'negative', 'opinion': 'bitter', 'category': 'DRINKS#QUALITY'}, {'aspect': 'beans', 'polarity': 'negative', 'opinion': 'quality', 'category': 'FOOD#QUALITY'}]}\n",
      "{'text': 'The facilities at the gym were well-maintained, with modern equipment available.', 'Quadruples': [{'aspect': 'facilities', 'polarity': 'positive', 'opinion': 'well-maintained', 'category': 'AMBIENCE#GENERAL'}, {'aspect': 'equipment', 'polarity': 'positive', 'opinion': 'modern', 'category': 'LAPTOP#GENERAL'}]}\n",
      "{'text': 'The checkout process on the website was confusing, I had trouble completing my purchase.', 'Quadruples': [{'aspect': 'checkout process', 'polarity': 'negative', 'opinion': 'confusing', 'category': 'SUPPORT#GENERAL'}]}\n",
      "{'text': 'The speed of the internet connection was inconsistent, leading to frequent disruptions.', 'Quadruples': [{'aspect': 'internet connection', 'polarity': 'negative', 'opinion': 'inconsistent', 'category': 'PORTS#OPERATION_PERFORMANCE'}]}\n",
      "{'text': 'The cleanliness of the swimming pool was questionable, there were leaves floating in the water.', 'Quadruples': [{'aspect': 'cleanliness of the swimming pool', 'polarity': 'negative', 'opinion': 'questionable', 'category': 'AMBIENCE#GENERAL'}]}\n",
      "{'text': 'The portion size of the appetizers was small, considering the price.', 'Quadruples': [{'aspect': 'portion size of the appetizers', 'polarity': 'negative', 'opinion': 'small', 'category': 'FOOD#STYLE_OPTIONS'}]}\n",
      "{'text': 'The check-in process at the hotel was smooth, and the staff were welcoming.', 'Quadruples': [{'aspect': 'check-in process', 'polarity': 'positive', 'opinion': 'smooth', 'category': 'LAPTOP#GENERAL'}, {'aspect': 'staff', 'polarity': 'positive', 'opinion': 'welcoming', 'category': 'SERVICE#GENERAL'}]}\n",
      "{'text': 'The view from the balcony was breathtaking, overlooking the city skyline.', 'Quadruples': [{'aspect': 'balcony', 'polarity': 'positive', 'opinion': 'breathtaking', 'category': 'AMBIENCE#GENERAL'}]}\n",
      "{'text': 'The menu prices were affordable, making it a budget-friendly dining option.', 'Quadruples': [{'aspect': 'menu prices', 'polarity': 'positive', 'opinion': 'affordable', 'category': 'FOOD#PRICES'}]}\n",
      "{'text': 'The quality of the ingredients used in the dishes was evident, everything tasted fresh.', 'Quadruples': [{'aspect': 'ingredients', 'polarity': 'positive', 'opinion': 'fresh', 'category': 'FOOD#QUALITY'}]}\n",
      "{'text': 'The temperature of the food was lukewarm, it could have been hotter.', 'Quadruples': [{'aspect': 'temperature of the food', 'polarity': 'negative', 'opinion': 'lukewarm', 'category': 'FOOD#QUALITY'}]}\n",
      "{'text': 'The selection of wines at the bar was extensive, with options from various regions.', 'Quadruples': [{'aspect': 'selection of wines', 'polarity': 'positive', 'opinion': 'extensive', 'category': 'DRINKS#STYLE_OPTIONS'}]}\n",
      "{'text': 'The hotel room was spacious and well-furnished, providing a comfortable stay.', 'Quadruples': [{'aspect': 'hotel room', 'polarity': 'positive', 'opinion': 'spacious', 'category': 'AMBIENCE#GENERAL'}]}\n",
      "{'text': 'The presentation of the dishes was artistic, almost too beautiful to eat.', 'Quadruples': [{'aspect': 'presentation of the dishes', 'polarity': 'positive', 'opinion': 'artistic', 'category': 'FOOD#QUALITY'}]}\n",
      "{'text': 'The sound insulation in the room was poor, I could hear noise from the neighboring rooms.', 'Quadruples': [{'aspect': 'sound insulation', 'polarity': 'negative', 'opinion': 'poor', 'category': 'AMBIENCE#GENERAL'}]}\n",
      "{'text': 'The staff members were knowledgeable about the menu, offering helpful recommendations.', 'Quadruples': [{'aspect': 'staff members', 'polarity': 'positive', 'opinion': 'knowledgeable', 'category': 'SERVICE#GENERAL'}]}\n",
      "{'text': 'The check-out process was hassle-free, and I received my invoice promptly.', 'Quadruples': [{'aspect': 'check-out process', 'polarity': 'positive', 'opinion': 'hover-free', 'category': 'SUPPORT#GENERAL'}, {'aspect': 'invoice', 'polarity': 'positive', 'opinion': 'promptly', 'category': 'SUPPORT#GENERAL'}]}\n",
      "{'text': 'The decor of the cafe was charming, with vintage furniture and cozy lighting.', 'Quadruples': [{'aspect': 'decor', 'polarity': 'positive', 'opinion': 'charming', 'category': 'AMBIENCE#GENERAL'}, {'aspect': 'furnishings', 'polarity': 'positive', 'opinion': 'cozy', 'category': 'AMBIENCE#GENERAL'}]}\n",
      "{'text': 'The internet connection was unreliable, constantly dropping out.', 'Quadruples': [{'aspect': 'internet connection', 'polarity': 'negative', 'opinion': 'unreliable', 'category': 'PORTS#OPERATION_PERFORMANCE'}]}\n",
      "{'text': \"The cleanliness of the restaurant's kitchen was impeccable, reflecting high hygiene standards.\", 'Quadruples': [{'aspect': \"cleanliness of the restaurant's kitchen\", 'polarity': 'positive', 'opinion': 'impeccable', 'category': 'AMBIENCE#GENERAL'}]}\n",
      "{'text': 'The taste of the dessert was heavenly, a perfect ending to the meal.', 'Quadruples': [{'aspect': 'dessert', 'polarity': 'positive', 'opinion': 'heavenly', 'category': 'FOOD#QUALITY'}]}\n",
      "{'text': 'The hotel amenities included a fitness center and spa, providing guests with relaxation options.', 'Quadruples': [{'aspect': 'fitness center', 'polarity': 'positive', 'opinion': 'inclusive', 'category': 'AMBIENCE#GENERAL'}, {'aspect': 'spa', 'polarity': 'positive', 'opinion': 'relaxation options', 'category': 'AMBIENCE#GENERAL'}]}\n",
      "{'text': 'The responsiveness of the customer support team was impressive, they addressed my concerns promptly.', 'Quadruples': [{'aspect': 'customer support team', 'polarity': 'positive', 'opinion': 'responsiveness', 'category': 'SUPPORT#GENERAL'}]}\n",
      "{'text': 'The location of the office building was convenient, close to public transportation hubs.', 'Quadruples': [{'aspect': 'location of the office building', 'polarity': 'positive', 'opinion': 'convenient', 'category': 'LOCATION#GENERAL'}]}\n",
      "{'text': 'The food presentation was lacking, it looked unappetizing.', 'Quadruples': [{'aspect': 'food presentation', 'polarity': 'negative', 'opinion': 'lacking', 'category': 'FOOD#QUALITY'}]}\n",
      "{'text': 'The variety of toppings available for the pizza was extensive, allowing for customization.', 'Quadruples': [{'aspect': 'variety of toppings', 'polarity': 'positive', 'opinion': 'extensive', 'category': 'FOOD#QUALITY'}]}\n",
      "{'text': 'The temperature in the conference room was too warm, they should adjust the air conditioning.', 'Quadruples': [{'aspect': 'temperature', 'polarity': 'negative', 'opinion': 'too warm', 'category': 'AMBIENCE#GENERAL'}, {'aspect': 'air conditioning', 'polarity': 'negative', 'opinion': 'adjust', 'category': 'AMBIENCE#GENERAL'}]}\n",
      "{'text': 'The staff attitude was rude and unprofessional, it negatively impacted my experience.', 'Quadruples': [{'aspect': 'staff attitude', 'polarity': 'negative', 'opinion': 'rude and unprofessional', 'category': 'SERVICE#GENERAL'}]}\n",
      "{'text': 'The selection of teas at the tea house was vast, with options from different regions.', 'Quadruples': [{'aspect': 'teas', 'polarity': 'positive', 'opinion': 'vast', 'category': 'DRINKS#STYLE_OPTIONS'}]}\n",
      "{'text': 'The hotel room was clean and well-maintained, with modern amenities provided.', 'Quadruples': [{'aspect': 'hotel room', 'polarity': 'positive', 'opinion': 'clean', 'category': 'AMBIENCE#GENERAL'}, {'aspect': 'amenities', 'polarity': 'positive', 'opinion': 'well-maintained', 'category': 'AMBIENCE#GENERAL'}]}\n",
      "{'text': 'The responsiveness of the website was slow, it took ages to load.', 'Quadruples': [{'aspect': 'responsiveness', 'polarity': 'negative', 'opinion': 'slow', 'category': 'SOFTWARE#OPERATION_PERFORMANCE'}]}\n",
      "{'text': \"The menu descriptions were informative, providing details about each dish's ingredients.\", 'Quadruples': [{'aspect': 'menu descriptions', 'polarity': 'positive', 'opinion': 'informative', 'category': 'FOOD#QUALITY'}]}\n",
      "{'text': 'The decor of the bar was trendy, with modern furnishings and ambient lighting.', 'Quadruples': [{'aspect': 'decor', 'polarity': 'positive', 'opinion': 'trendy', 'category': 'AMBIENCE#GENERAL'}, {'aspect': 'furnishings', 'polarity': 'positive', 'opinion': 'modern', 'category': 'AMBIENCE#GENERAL'}, {'aspect': 'ambient lighting', 'polarity': 'positive', 'opinion': 'modern', 'category': 'AMBIENCE#GENERAL'}]}\n",
      "{'text': 'The internet speed was blazing fast, allowing for seamless browsing.', 'Quadruples': [{'aspect': 'internet speed', 'polarity': 'positive', 'opinion': 'blazing fast', 'category': 'PORTS#OPERATION_PERFORMANCE'}]}\n",
      "{'text': 'The portion sizes of the entrees were small, leaving me unsatisfied.', 'Quadruples': [{'aspect': 'portion sizes', 'polarity': 'negative', 'opinion': 'small', 'category': 'FOOD#STYLE_OPTIONS'}]}\n",
      "{'text': 'The taste of the cocktail was refreshing, perfectly balanced flavors.', 'Quadruples': [{'aspect': 'cocktail', 'polarity': 'positive', 'opinion': 'refreshing', 'category': 'DRINKS#QUALITY'}]}\n",
      "{'text': 'The hotel staff were courteous and helpful, attending to all my needs.', 'Quadruples': [{'aspect': 'hotel staff', 'polarity': 'positive', 'opinion': 'courteous', 'category': 'SERVICE#GENERAL'}]}\n",
      "{'text': 'The atmosphere in the restaurant was lively, with background music and chatter.', 'Quadruples': [{'aspect': 'atmosphere', 'polarity': 'positive', 'opinion': 'lively', 'category': 'AMBIENCE#GENERAL'}]}\n",
      "{'text': 'The cleanliness of the hotel room was subpar, there were stains on the carpet.', 'Quadruples': [{'aspect': 'cleanliness of the hotel room', 'polarity': 'negative', 'opinion': 'subpar', 'category': 'AMBIENCE#GENERAL'}, {'aspect': 'stains on the carpet', 'polarity': 'negative', 'opinion': 'subpar', 'category': 'AMBIENCE#GENERAL'}]}\n",
      "{'text': 'The quality of the customer service was exceptional, they went above and beyond to assist me.', 'Quadruples': [{'aspect': 'customer service', 'polarity': 'positive', 'opinion': 'exceptional', 'category': 'SUPPORT#QUALITY'}]}\n",
      "{'text': 'The location of the store was convenient, with parking available nearby.', 'Quadruples': [{'aspect': 'location', 'polarity': 'positive', 'opinion': 'convenient', 'category': 'LOCATION#GENERAL'}, {'aspect': 'parking', 'polarity': 'positive', 'opinion': 'available nearby', 'category': 'AMBIENCE#GENERAL'}]}\n",
      "{'text': 'The food presentation was impressive, each dish looked like a work of art.', 'Quadruples': [{'aspect': 'food presentation', 'polarity': 'positive', 'opinion': 'impressive', 'category': 'FOOD#QUALITY'}, {'aspect': 'dish', 'polarity': 'positive', 'opinion': 'work of art', 'category': 'FOOD#QUALITY'}]}\n",
      "{'text': 'The variety of beers on tap was impressive, with options for every palate.', 'Quadruples': [{'aspect': 'beers on tap', 'polarity': 'positive', 'opinion': 'impressive', 'category': 'DRINKS#STYLE_OPTIONS'}]}\n",
      "{'text': 'The temperature of the coffee was scalding hot, they need to let it cool down.', 'Quadruples': [{'aspect': 'coffee', 'polarity': 'negative', 'opinion': 'scalding hot', 'category': 'DRINKS#QUALITY'}]}\n",
      "{'text': 'The responsiveness of the website design was poor, it was not mobile-friendly.', 'Quadruples': [{'aspect': 'responsiveness', 'polarity': 'negative', 'opinion': 'poor', 'category': 'SOFTWARE#OPERATION_PERFORMANCE'}, {'aspect': 'website design', 'polarity': 'negative', 'opinion': 'not mobile-friendly', 'category': 'SOFTWARE#OPERATION_PERFORMANCE'}]}\n",
      "{'text': 'The selection of pastries at the bakery was extensive, with both sweet and savory options.', 'Quadruples': [{'aspect': 'pastries', 'polarity': 'positive', 'opinion': 'extensive', 'category': 'FOOD#STYLE_OPTIONS'}]}\n",
      "{'text': 'The decor of the hotel lobby was elegant, with marble floors and chandeliers.', 'Quadruples': [{'aspect': 'decor of the hotel lobby', 'polarity': 'positive', 'opinion': 'elegant', 'category': 'AMBIENCE#GENERAL'}]}\n",
      "{'text': 'The internet connection was spotty, I kept losing connection.', 'Quadruples': [{'aspect': 'internet connection', 'polarity': 'negative', 'opinion': 'spotty', 'category': 'PORTS#OPERATION_PERFORMANCE'}]}\n",
      "{'text': 'The taste of the sushi was exquisite, with fresh fish and perfectly seasoned rice.', 'Quadruples': [{'aspect': 'sushi', 'polarity': 'positive', 'opinion': 'exquisite', 'category': 'FOOD#QUALITY'}, {'aspect': 'fish', 'polarity': 'positive', 'opinion': 'fresh', 'category': 'FOOD#QUALITY'}, {'aspect': 'rice', 'polarity': 'positive', 'opinion': 'perfectly seasoned', 'category': 'FOOD#QUALITY'}]}\n",
      "{'text': 'The hotel amenities included a swimming pool and sauna, providing relaxation options for guests.', 'Quadruples': [{'aspect': 'swimming pool', 'polarity': 'positive', 'opinion': 'inclusive', 'category': 'AMBIENCE#GENERAL'}, {'aspect': 'sauna', 'polarity': 'positive', 'opinion': 'relaxation options', 'category': 'AMBIENCE#GENERAL'}]}\n",
      "{'text': 'The responsiveness of the staff was lacking, I had to wait a long time for assistance.', 'Quadruples': [{'aspect': 'staff', 'polarity': 'negative', 'opinion': 'responsiveness', 'category': 'SERVICE#GENERAL'}]}\n",
      "{'text': 'The location of the restaurant was picturesque, overlooking the ocean.', 'Quadruples': [{'aspect': 'location', 'polarity': 'positive', 'opinion': 'pictorial', 'category': 'RESTAURANT#GENERAL'}]}\n",
      "{'text': 'The food presentation was lackluster, the dishes looked unappealing.', 'Quadruples': [{'aspect': 'food presentation', 'polarity': 'negative', 'opinion': 'lackluster', 'category': 'FOOD#QUALITY'}, {'aspect': 'dishes', 'polarity': 'negative', 'opinion': 'unappealing', 'category': 'FOOD#QUALITY'}]}\n",
      "{'text': 'The variety of cocktails on the menu was impressive, with creative concoctions available.', 'Quadruples': [{'aspect': 'cocktails', 'polarity': 'positive', 'opinion': 'impressive', 'category': 'DRINKS#STYLE_OPTIONS'}, {'aspect': 'concoctions', 'polarity': 'positive', 'opinion': 'creative', 'category': 'DRINKS#STYLE_OPTIONS'}]}\n",
      "{'text': 'The temperature of the room was too hot, they should lower the thermostat.', 'Quadruples': [{'aspect': 'temperature of the room', 'polarity': 'negative', 'opinion': 'too hot', 'category': 'AMBIENCE#GENERAL'}]}\n",
      "{'text': 'The professionalism of the hotel staff was commendable, they handled all requests efficiently.', 'Quadruples': [{'aspect': 'hotel staff', 'polarity': 'positive', 'opinion': 'professionalism', 'category': 'SERVICE#GENERAL'}]}\n",
      "{'text': 'The taste of the wine was exquisite, with complex flavors and a smooth finish.', 'Quadruples': [{'aspect': 'wine', 'polarity': 'positive', 'opinion': 'exquisite', 'category': 'DRINKS#QUALITY'}]}\n",
      "{'text': 'The cleanliness of the hotel lobby was impeccable, with no litter in sight.', 'Quadruples': [{'aspect': 'cleanliness of the hotel lobby', 'polarity': 'positive', 'opinion': 'impeccable', 'category': 'AMBIENCE#GENERAL'}]}\n",
      "{'text': 'The selection of desserts at the bakery was tempting, with decadent treats on display.', 'Quadruples': [{'aspect': 'desserts', 'polarity': 'positive', 'opinion': 'tasty', 'category': 'FOOD#QUALITY'}, {'aspect': 'treats', 'polarity': 'positive', 'opinion': 'decent', 'category': 'FOOD#QUALITY'}]}\n",
      "{'text': 'The decor of the restaurant was stylish, with modern furnishings and vibrant artwork.', 'Quadruples': [{'aspect': 'decor', 'polarity': 'positive', 'opinion': 'stylish', 'category': 'AMBIENCE#GENERAL'}, {'aspect': 'furnishings', 'polarity': 'positive', 'opinion': 'modern', 'category': 'AMBIENCE#GENERAL'}, {'aspect': 'artwork', 'polarity': 'positive', 'opinion': 'vibrant', 'category': 'AMBIENCE#GENERAL'}]}\n",
      "{'text': 'The internet speed was lightning-fast, allowing for seamless streaming and downloads.', 'Quadruples': [{'aspect': 'internet speed', 'polarity': 'positive', 'opinion': 'lightning-fast', 'category': 'PORTS#OPERATION_PERFORMANCE'}]}\n",
      "{'text': 'The portion sizes of the main courses were generous, ensuring a satisfying meal.', 'Quadruples': [{'aspect': 'portion sizes', 'polarity': 'positive', 'opinion': 'generous', 'category': 'FOOD#STYLE_OPTIONS'}, {'aspect': 'meal', 'polarity': 'positive', 'opinion': 'satisfying', 'category': 'FOOD#QUALITY'}]}\n",
      "{'text': 'The taste of the ice cream was heavenly, with rich flavors and creamy texture.', 'Quadruples': [{'aspect': 'ice cream', 'polarity': 'positive', 'opinion': 'heavenly', 'category': 'FOOD#QUALITY'}]}\n",
      "{'text': 'The hotel amenities included a business center and meeting rooms, catering to business travelers.', 'Quadruples': [{'aspect': 'hotel amenities', 'polarity': 'positive', 'opinion': 'business center', 'category': 'AMBIENCE#GENERAL'}]}\n",
      "{'text': 'The responsiveness of the website was excellent, with pages loading instantly.', 'Quadruples': [{'aspect': 'responsiveness', 'polarity': 'positive', 'opinion': 'excellent', 'category': 'SOFTWARE#OPERATION_PERFORMANCE'}, {'aspect': 'pages', 'polarity': 'positive', 'opinion': 'loading instantly', 'category': 'SOFTWARE#OPERATION_PERFORMANCE'}]}\n",
      "{'text': 'The location of the cafe was quaint, nestled in a charming neighborhood.', 'Quadruples': [{'aspect': 'location', 'polarity': 'positive', 'opinion': 'quaint', 'category': 'RESTAURANT#GENERAL'}, {'aspect': 'neighborhood', 'polarity': 'positive', 'opinion': 'charming', 'category': 'AMBIENCE#GENERAL'}]}\n",
      "{'text': 'The variety of sandwiches on the menu was extensive, with options for every taste.', 'Quadruples': [{'aspect': 'variety of sandwiches', 'polarity': 'positive', 'opinion': 'extensive', 'category': 'FOOD#STYLE_OPTIONS'}]}\n",
      "{'text': 'The temperature of the soup was lukewarm, it should have been served hotter.', 'Quadruples': [{'aspect': 'soup', 'polarity': 'negative', 'opinion': 'lukewarm', 'category': 'FOOD#QUALITY'}]}\n",
      "{'text': 'The professionalism of the staff members was lacking, they seemed disinterested in assisting customers.', 'Quadruples': [{'aspect': 'staff members', 'polarity': 'negative', 'opinion': 'professionalism', 'category': 'SERVICE#GENERAL'}]}\n",
      "{'text': 'The taste of the pasta was disappointing, it lacked flavor.', 'Quadruples': [{'aspect': 'pasta', 'polarity': 'negative', 'opinion': 'disappointing', 'category': 'FOOD#QUALITY'}]}\n",
      "{'text': 'The decor of the hotel room was outdated, it could use a modern makeover.', 'Quadruples': [{'aspect': 'decor of the hotel room', 'polarity': 'negative', 'opinion': 'outdated', 'category': 'AMBIENCE#GENERAL'}]}\n",
      "{'text': 'The internet connection was unstable, I kept getting disconnected.', 'Quadruples': [{'aspect': 'internet connection', 'polarity': 'negative', 'opinion': 'unstable', 'category': 'PORTS#OPERATION_PERFORMANCE'}]}\n",
      "{'text': \"The cleanliness of the restaurant's dining area was satisfactory, with tables cleared promptly.\", 'Quadruples': [{'aspect': \"cleanliness of the restaurant's dining area\", 'polarity': 'positive', 'opinion': 'satisfactory', 'category': 'AMBIENCE#GENERAL'}, {'aspect': 'tables', 'polarity': 'positive', 'opinion': 'clearly', 'category': 'AMBIENCE#GENERAL'}]}\n",
      "{'text': 'The selection of appetizers at the restaurant was limited, with only a few options available.', 'Quadruples': [{'aspect': 'selection of appetizers', 'polarity': 'negative', 'opinion': 'limited', 'category': 'FOOD#STYLE_OPTIONS'}]}\n",
      "{'text': 'The ambiance of the bar was relaxed, with soft lighting and comfortable seating.', 'Quadruples': [{'aspect': 'ambiance', 'polarity': 'positive', 'opinion': 'relaxed', 'category': 'AMBIENCE#GENERAL'}, {'aspect': 'lighting', 'polarity': 'positive', 'opinion': 'soft', 'category': 'AMBIENCE#GENERAL'}, {'aspect': 'seating', 'polarity': 'positive', 'opinion': 'comfortable', 'category': 'AMBIENCE#GENERAL'}]}\n",
      "{'text': 'The taste of the salad was bland, it needed more seasoning.', 'Quadruples': [{'aspect': 'salad', 'polarity': 'negative', 'opinion': 'bland', 'category': 'FOOD#QUALITY'}]}\n",
      "{'text': 'The hotel amenities included a rooftop bar and lounge, offering panoramic views of the city.', 'Quadruples': [{'aspect': 'rooftop bar', 'polarity': 'positive', 'opinion': 'inclusive', 'category': 'AMBIENCE#GENERAL'}, {'aspect': 'lounge', 'polarity': 'positive', 'opinion': 'panoramic views of the city', 'category': 'AMBIENCE#GENERAL'}]}\n",
      "{'text': 'The responsiveness of the staff members was impressive, they attended to my needs promptly.', 'Quadruples': [{'aspect': 'staff members', 'polarity': 'positive', 'opinion': 'responsiveness', 'category': 'SERVICE#GENERAL'}]}\n",
      "{'text': 'The location of the store was convenient, with ample parking available.', 'Quadruples': [{'aspect': 'location', 'polarity': 'positive', 'opinion': 'convenient', 'category': 'LOCATION#GENERAL'}, {'aspect': 'parking', 'polarity': 'positive', 'opinion': 'amenities', 'category': 'AMBIENCE#GENERAL'}]}\n",
      "{'text': 'The decor of the cafe was charming, with vintage-inspired furnishings and decor.', 'Quadruples': [{'aspect': 'decor', 'polarity': 'positive', 'opinion': 'charming', 'category': 'AMBIENCE#GENERAL'}, {'aspect': 'furnishings', 'polarity': 'positive', 'opinion': 'vintage-inspired', 'category': 'AMBIENCE#GENERAL'}, {'aspect': 'decor', 'polarity': 'positive', 'opinion': 'vintage-inspired', 'category': 'AMBIENCE#GENERAL'}]}\n"
     ]
    }
   ],
   "source": [
    "import csv\n",
    "\n",
    "# Function to append ABSA output to an existing CSV file\n",
    "def append_to_csv(output_list, csv_filename):\n",
    "    with open(csv_filename, 'a', newline='', encoding='utf-8') as csvfile:\n",
    "        fieldnames = ['Sentence', 'Aspect', 'Opinion', 'Sentiment', 'Category']\n",
    "        writer = csv.DictWriter(csvfile, fieldnames=fieldnames)\n",
    "        \n",
    "        # Write each row of output\n",
    "        for row in output_list:\n",
    "            writer.writerow(row)\n",
    "\n",
    "# Load sample sentences from the text file\n",
    "sample_sentences = []\n",
    "with open('sample_data.txt', 'r', encoding='utf-8') as file:\n",
    "    for line in file:\n",
    "        sample_sentences.append(line.strip())\n",
    "        \n",
    "absa_output = []\n",
    "\n",
    "# Iterate through sample sentences, perform predictions, and append results to CSV\n",
    "for sentence in sample_sentences:\n",
    "    # Perform ABSA prediction using your model\n",
    "    result = generator.predict(sentence)\n",
    "    # Replace the following code block with your ABSA model prediction code\n",
    "    for quadruple in result['Quadruples']:\n",
    "      aspect = quadruple['aspect']\n",
    "      opinion = quadruple['opinion']\n",
    "      sentiment = quadruple['polarity']\n",
    "      category = quadruple['category']\n",
    "      absa_output.append({'Sentence': sentence, 'Aspect': aspect, 'Opinion': opinion, 'Sentiment': sentiment, 'Category': category})\n",
    "    \n",
    "    # Append ABSA output to existing CSV file\n",
    "    append_to_csv(absa_output, 'absa_results.csv')"
   ]
  },
  {
   "cell_type": "markdown",
   "metadata": {},
   "source": [
    "### Train model using own data"
   ]
  },
  {
   "cell_type": "code",
   "execution_count": 4,
   "metadata": {},
   "outputs": [
    {
     "name": "stdout",
     "output_type": "stream",
     "text": [
      "Experiment Name:  instruction\n",
      "Model output path:  checkpoints\\multitask\\checkpoints\\multitask\\kevinscariaate_tk-instruct-base-def-pos-neg-neut-combined-instruction-instruction\n",
      "./data_annotation/combined\\combined_train.jsonl\n",
      "./data_annotation/combined\\combined_test.jsonl\n"
     ]
    },
    {
     "data": {
      "application/vnd.jupyter.widget-view+json": {
       "model_id": "8da92a1ab89f40f98ebc3afcb470fcce",
       "version_major": 2,
       "version_minor": 0
      },
      "text/plain": [
       "Map:   0%|          | 0/696 [00:00<?, ? examples/s]"
      ]
     },
     "metadata": {},
     "output_type": "display_data"
    },
    {
     "data": {
      "application/vnd.jupyter.widget-view+json": {
       "model_id": "844027cd57874e06aa3e71bbbe90f536",
       "version_major": 2,
       "version_minor": 0
      },
      "text/plain": [
       "Map:   0%|          | 0/348 [00:00<?, ? examples/s]"
      ]
     },
     "metadata": {},
     "output_type": "display_data"
    }
   ],
   "source": [
    "# -*- coding: utf-8 -*-\n",
    "# file: train.py\n",
    "# time: 11:30 2023/3/13\n",
    "# author: YANG, HENG <hy345@exeter.ac.uk> (杨恒)\n",
    "# github: https://github.com/yangheng95\n",
    "# huggingface: https://huggingface.co/yangheng\n",
    "# google scholar: https://scholar.google.com/citations?user=NPq5a_0AAAAJ&hl=en\n",
    "# Copyright (C) 2019-2023. All Rights Reserved.\n",
    "import os\n",
    "import warnings\n",
    "\n",
    "import findfile\n",
    "from pyabsa import ABSAInstruction as absa_instruction\n",
    "\n",
    "warnings.filterwarnings(\"ignore\")\n",
    "import pandas as pd\n",
    "\n",
    "\n",
    "task_name = \"multitask\"\n",
    "experiment_name = \"instruction\"\n",
    "# model_checkpoint = 'allenai/tk-instruct-base-def-pos'\n",
    "# model_checkpoint = \"kevinscaria/ate_tk-instruct-base-def-pos-neg-neut-combined\"\n",
    "# model_checkpoint = 'allenai/tk-instruct-large-def-pos'\n",
    "# model_checkpoint = 'allenai/tk-instruct-3b-def-pos'\n",
    "# model_checkpoint = 'google/mt5-base'\n",
    "model_checkpoint = 'checkpoints\\multitask\\kevinscariaate_tk-instruct-base-def-pos-neg-neut-combined-instruction'\n",
    "\n",
    "print(\"Experiment Name: \", experiment_name)\n",
    "model_out_path = \"checkpoints\"\n",
    "model_out_path = os.path.join(\n",
    "    model_out_path, task_name, f\"{model_checkpoint.replace('/', '')}-{experiment_name}\"\n",
    ")\n",
    "print(\"Model output path: \", model_out_path)\n",
    "\n",
    "# Load the data\n",
    "# id_train_file_path = './integrated_datasets'\n",
    "# id_test_file_path = './integrated_datasets'\n",
    "# id_train_file_path = \"./integrated_datasets/acos_datasets/\"\n",
    "# id_test_file_path = \"./integrated_datasets/acos_datasets\"\n",
    "# id_train_file_path = \"./integrated_datasets/acos_datasets/501.Laptop14\"\n",
    "# id_test_file_path = \"./integrated_datasets/acos_datasets/501.Laptop14\"\n",
    "# id_train_file_path = './integrated_datasets/acos_datasets/504.Restaurant16'\n",
    "# id_test_file_path = './integrated_datasets/acos_datasets/504.Restaurant16'\n",
    "id_train_file_path = './data_annotation/combined'\n",
    "id_test_file_path = './data_annotation/combined'\n",
    "\n",
    "\n",
    "id_tr_df = absa_instruction.data_utils.read_json(id_train_file_path, \"train\")\n",
    "id_te_df = absa_instruction.data_utils.read_json(id_test_file_path, \"test\")\n",
    "\n",
    "id_tr_df = pd.DataFrame(id_tr_df)\n",
    "id_te_df = pd.DataFrame(id_te_df)\n",
    "\n",
    "loader = absa_instruction.data_utils.InstructDatasetLoader(id_tr_df, id_te_df)\n",
    "\n",
    "\n",
    "\n",
    "if loader.train_df_id is not None:\n",
    "    loader.train_df_id = loader.prepare_instruction_dataloader(loader.train_df_id)\n",
    "if loader.test_df_id is not None:\n",
    "    loader.test_df_id = loader.prepare_instruction_dataloader(loader.test_df_id)\n",
    "if loader.train_df_ood is not None:\n",
    "    loader.train_df_ood = loader.prepare_instruction_dataloader(loader.train_df_ood)\n",
    "if loader.test_df_ood is not None:\n",
    "    loader.test_df_ood = loader.prepare_instruction_dataloader(loader.test_df_ood)\n",
    "\n",
    "# Create T5 utils object\n",
    "t5_exp = absa_instruction.model.T5Generator(model_checkpoint)\n",
    "\n",
    "# Tokenize Dataset\n",
    "id_ds, id_tokenized_ds, ood_ds, ood_tokenzed_ds = loader.create_datasets(\n",
    "    t5_exp.tokenize_function_inputs\n",
    ")\n",
    "\n",
    "# Training arguments\n",
    "training_args = {\n",
    "    \"output_dir\": model_out_path,\n",
    "    \"evaluation_strategy\": \"epoch\",\n",
    "    \"save_strategy\": \"epoch\",\n",
    "    \"learning_rate\": 5e-5,\n",
    "    \"per_device_train_batch_size\": 4,\n",
    "    \"per_device_eval_batch_size\": 16,\n",
    "    \"num_train_epochs\": 20,\n",
    "    \"weight_decay\": 0.01,\n",
    "    \"warmup_ratio\": 0.1,\n",
    "    \"load_best_model_at_end\": True,\n",
    "    \"push_to_hub\": False,\n",
    "    \"eval_accumulation_steps\": 1,\n",
    "    \"predict_with_generate\": True,\n",
    "    \"logging_steps\": 1000000000,\n",
    "    \"use_mps_device\": False,\n",
    "    'fp16': False,\n",
    "}"
   ]
  },
  {
   "cell_type": "code",
   "execution_count": null,
   "metadata": {},
   "outputs": [],
   "source": [
    "df = id_tr_df.sample(frac=1, random_state=1999)\n",
    "for i, data in df.iterrows():\n",
    "  try:\n",
    "    for label in data[\"labels\"]:\n",
    "      print(label[\"aspect\"])\n",
    "  except:\n",
    "    print(\"here\", i)\n",
    "    print(data[\"text\"])\n",
    "    print(data[\"labels\"])\n",
    "    print(\"HELP\")\n",
    "    break\n",
    "  _aspects = [label[\"aspect\"] for label in data[\"labels\"]]"
   ]
  },
  {
   "cell_type": "code",
   "execution_count": 5,
   "metadata": {},
   "outputs": [
    {
     "name": "stdout",
     "output_type": "stream",
     "text": [
      "Trainer device: cuda:0\n",
      "\n",
      "Model training started ....\n"
     ]
    },
    {
     "data": {
      "application/vnd.jupyter.widget-view+json": {
       "model_id": "cce93a8fbbba4482aca4d303c49d1dc3",
       "version_major": 2,
       "version_minor": 0
      },
      "text/plain": [
       "  0%|          | 0/3480 [00:00<?, ?it/s]"
      ]
     },
     "metadata": {},
     "output_type": "display_data"
    },
    {
     "data": {
      "application/vnd.jupyter.widget-view+json": {
       "model_id": "f8093405c5344857b6de0801bb037539",
       "version_major": 2,
       "version_minor": 0
      },
      "text/plain": [
       "  0%|          | 0/22 [00:00<?, ?it/s]"
      ]
     },
     "metadata": {},
     "output_type": "display_data"
    },
    {
     "name": "stderr",
     "output_type": "stream",
     "text": [
      "Some non-default generation parameters are set in the model config. These should go into a GenerationConfig file (https://huggingface.co/docs/transformers/generation_strategies#save-a-custom-decoding-strategy-with-your-model) instead. This warning will be raised to an exception in v4.41.\n",
      "Non-default generation parameters: {'max_length': 128}\n",
      "Your generation config was originally created from the model config, but the model config has changed since then. Unless you pass the `generation_config` argument to this model's `generate` calls, they will revert to the legacy behavior where the base `generate` parameterization is loaded from the model config instead. To avoid this behavior and this warning, we recommend you to overwrite the generation config model attribute before calling the model's `save_pretrained`, preferably also removing any generation kwargs from the model config. This warning will be raised to an exception in v4.41.\n"
     ]
    },
    {
     "name": "stdout",
     "output_type": "stream",
     "text": [
      "{'eval_loss': 0.45295706391334534, 'eval_runtime': 40.776, 'eval_samples_per_second': 8.534, 'eval_steps_per_second': 0.54, 'epoch': 1.0}\n"
     ]
    },
    {
     "data": {
      "application/vnd.jupyter.widget-view+json": {
       "model_id": "6cbaf2f5f5644c7c9cf25723b2c25ba8",
       "version_major": 2,
       "version_minor": 0
      },
      "text/plain": [
       "  0%|          | 0/22 [00:00<?, ?it/s]"
      ]
     },
     "metadata": {},
     "output_type": "display_data"
    },
    {
     "name": "stderr",
     "output_type": "stream",
     "text": [
      "Some non-default generation parameters are set in the model config. These should go into a GenerationConfig file (https://huggingface.co/docs/transformers/generation_strategies#save-a-custom-decoding-strategy-with-your-model) instead. This warning will be raised to an exception in v4.41.\n",
      "Non-default generation parameters: {'max_length': 128}\n",
      "Your generation config was originally created from the model config, but the model config has changed since then. Unless you pass the `generation_config` argument to this model's `generate` calls, they will revert to the legacy behavior where the base `generate` parameterization is loaded from the model config instead. To avoid this behavior and this warning, we recommend you to overwrite the generation config model attribute before calling the model's `save_pretrained`, preferably also removing any generation kwargs from the model config. This warning will be raised to an exception in v4.41.\n"
     ]
    },
    {
     "name": "stdout",
     "output_type": "stream",
     "text": [
      "{'eval_loss': 0.38168343901634216, 'eval_runtime': 64.7715, 'eval_samples_per_second': 5.373, 'eval_steps_per_second': 0.34, 'epoch': 2.0}\n"
     ]
    },
    {
     "data": {
      "application/vnd.jupyter.widget-view+json": {
       "model_id": "7b11507b7fd241e8aae6ee454f632c19",
       "version_major": 2,
       "version_minor": 0
      },
      "text/plain": [
       "  0%|          | 0/22 [00:00<?, ?it/s]"
      ]
     },
     "metadata": {},
     "output_type": "display_data"
    },
    {
     "name": "stderr",
     "output_type": "stream",
     "text": [
      "Some non-default generation parameters are set in the model config. These should go into a GenerationConfig file (https://huggingface.co/docs/transformers/generation_strategies#save-a-custom-decoding-strategy-with-your-model) instead. This warning will be raised to an exception in v4.41.\n",
      "Non-default generation parameters: {'max_length': 128}\n",
      "Your generation config was originally created from the model config, but the model config has changed since then. Unless you pass the `generation_config` argument to this model's `generate` calls, they will revert to the legacy behavior where the base `generate` parameterization is loaded from the model config instead. To avoid this behavior and this warning, we recommend you to overwrite the generation config model attribute before calling the model's `save_pretrained`, preferably also removing any generation kwargs from the model config. This warning will be raised to an exception in v4.41.\n"
     ]
    },
    {
     "name": "stdout",
     "output_type": "stream",
     "text": [
      "{'eval_loss': 0.3744215667247772, 'eval_runtime': 66.1658, 'eval_samples_per_second': 5.26, 'eval_steps_per_second': 0.332, 'epoch': 3.0}\n"
     ]
    },
    {
     "data": {
      "application/vnd.jupyter.widget-view+json": {
       "model_id": "066fc36090184799ac8016cbe241aed5",
       "version_major": 2,
       "version_minor": 0
      },
      "text/plain": [
       "  0%|          | 0/22 [00:00<?, ?it/s]"
      ]
     },
     "metadata": {},
     "output_type": "display_data"
    },
    {
     "name": "stderr",
     "output_type": "stream",
     "text": [
      "Some non-default generation parameters are set in the model config. These should go into a GenerationConfig file (https://huggingface.co/docs/transformers/generation_strategies#save-a-custom-decoding-strategy-with-your-model) instead. This warning will be raised to an exception in v4.41.\n",
      "Non-default generation parameters: {'max_length': 128}\n",
      "Your generation config was originally created from the model config, but the model config has changed since then. Unless you pass the `generation_config` argument to this model's `generate` calls, they will revert to the legacy behavior where the base `generate` parameterization is loaded from the model config instead. To avoid this behavior and this warning, we recommend you to overwrite the generation config model attribute before calling the model's `save_pretrained`, preferably also removing any generation kwargs from the model config. This warning will be raised to an exception in v4.41.\n"
     ]
    },
    {
     "name": "stdout",
     "output_type": "stream",
     "text": [
      "{'eval_loss': 0.3746013939380646, 'eval_runtime': 66.1374, 'eval_samples_per_second': 5.262, 'eval_steps_per_second': 0.333, 'epoch': 4.0}\n"
     ]
    },
    {
     "data": {
      "application/vnd.jupyter.widget-view+json": {
       "model_id": "94ad70e4481146868c7a91a0cabaccf9",
       "version_major": 2,
       "version_minor": 0
      },
      "text/plain": [
       "  0%|          | 0/22 [00:00<?, ?it/s]"
      ]
     },
     "metadata": {},
     "output_type": "display_data"
    },
    {
     "name": "stderr",
     "output_type": "stream",
     "text": [
      "Some non-default generation parameters are set in the model config. These should go into a GenerationConfig file (https://huggingface.co/docs/transformers/generation_strategies#save-a-custom-decoding-strategy-with-your-model) instead. This warning will be raised to an exception in v4.41.\n",
      "Non-default generation parameters: {'max_length': 128}\n",
      "Your generation config was originally created from the model config, but the model config has changed since then. Unless you pass the `generation_config` argument to this model's `generate` calls, they will revert to the legacy behavior where the base `generate` parameterization is loaded from the model config instead. To avoid this behavior and this warning, we recommend you to overwrite the generation config model attribute before calling the model's `save_pretrained`, preferably also removing any generation kwargs from the model config. This warning will be raised to an exception in v4.41.\n"
     ]
    },
    {
     "name": "stdout",
     "output_type": "stream",
     "text": [
      "{'eval_loss': 0.3795979619026184, 'eval_runtime': 66.1407, 'eval_samples_per_second': 5.262, 'eval_steps_per_second': 0.333, 'epoch': 5.0}\n"
     ]
    },
    {
     "data": {
      "application/vnd.jupyter.widget-view+json": {
       "model_id": "0263c20ad7dc40b0a3b73b137a079030",
       "version_major": 2,
       "version_minor": 0
      },
      "text/plain": [
       "  0%|          | 0/22 [00:00<?, ?it/s]"
      ]
     },
     "metadata": {},
     "output_type": "display_data"
    },
    {
     "name": "stderr",
     "output_type": "stream",
     "text": [
      "Some non-default generation parameters are set in the model config. These should go into a GenerationConfig file (https://huggingface.co/docs/transformers/generation_strategies#save-a-custom-decoding-strategy-with-your-model) instead. This warning will be raised to an exception in v4.41.\n",
      "Non-default generation parameters: {'max_length': 128}\n",
      "Your generation config was originally created from the model config, but the model config has changed since then. Unless you pass the `generation_config` argument to this model's `generate` calls, they will revert to the legacy behavior where the base `generate` parameterization is loaded from the model config instead. To avoid this behavior and this warning, we recommend you to overwrite the generation config model attribute before calling the model's `save_pretrained`, preferably also removing any generation kwargs from the model config. This warning will be raised to an exception in v4.41.\n"
     ]
    },
    {
     "name": "stdout",
     "output_type": "stream",
     "text": [
      "{'eval_loss': 0.36377352476119995, 'eval_runtime': 66.076, 'eval_samples_per_second': 5.267, 'eval_steps_per_second': 0.333, 'epoch': 6.0}\n"
     ]
    },
    {
     "data": {
      "application/vnd.jupyter.widget-view+json": {
       "model_id": "230d839278be481f9cbd61c02aa9f884",
       "version_major": 2,
       "version_minor": 0
      },
      "text/plain": [
       "  0%|          | 0/22 [00:00<?, ?it/s]"
      ]
     },
     "metadata": {},
     "output_type": "display_data"
    },
    {
     "name": "stderr",
     "output_type": "stream",
     "text": [
      "Some non-default generation parameters are set in the model config. These should go into a GenerationConfig file (https://huggingface.co/docs/transformers/generation_strategies#save-a-custom-decoding-strategy-with-your-model) instead. This warning will be raised to an exception in v4.41.\n",
      "Non-default generation parameters: {'max_length': 128}\n",
      "Your generation config was originally created from the model config, but the model config has changed since then. Unless you pass the `generation_config` argument to this model's `generate` calls, they will revert to the legacy behavior where the base `generate` parameterization is loaded from the model config instead. To avoid this behavior and this warning, we recommend you to overwrite the generation config model attribute before calling the model's `save_pretrained`, preferably also removing any generation kwargs from the model config. This warning will be raised to an exception in v4.41.\n"
     ]
    },
    {
     "name": "stdout",
     "output_type": "stream",
     "text": [
      "{'eval_loss': 0.40426871180534363, 'eval_runtime': 66.0469, 'eval_samples_per_second': 5.269, 'eval_steps_per_second': 0.333, 'epoch': 7.0}\n"
     ]
    },
    {
     "data": {
      "application/vnd.jupyter.widget-view+json": {
       "model_id": "4b4da3fdcb7a432087df9043227057ab",
       "version_major": 2,
       "version_minor": 0
      },
      "text/plain": [
       "  0%|          | 0/22 [00:00<?, ?it/s]"
      ]
     },
     "metadata": {},
     "output_type": "display_data"
    },
    {
     "name": "stderr",
     "output_type": "stream",
     "text": [
      "Some non-default generation parameters are set in the model config. These should go into a GenerationConfig file (https://huggingface.co/docs/transformers/generation_strategies#save-a-custom-decoding-strategy-with-your-model) instead. This warning will be raised to an exception in v4.41.\n",
      "Non-default generation parameters: {'max_length': 128}\n",
      "Your generation config was originally created from the model config, but the model config has changed since then. Unless you pass the `generation_config` argument to this model's `generate` calls, they will revert to the legacy behavior where the base `generate` parameterization is loaded from the model config instead. To avoid this behavior and this warning, we recommend you to overwrite the generation config model attribute before calling the model's `save_pretrained`, preferably also removing any generation kwargs from the model config. This warning will be raised to an exception in v4.41.\n"
     ]
    },
    {
     "name": "stdout",
     "output_type": "stream",
     "text": [
      "{'eval_loss': 0.4194203317165375, 'eval_runtime': 66.2233, 'eval_samples_per_second': 5.255, 'eval_steps_per_second': 0.332, 'epoch': 8.0}\n"
     ]
    },
    {
     "data": {
      "application/vnd.jupyter.widget-view+json": {
       "model_id": "0125c86b8846493f9b4654c3a732fe13",
       "version_major": 2,
       "version_minor": 0
      },
      "text/plain": [
       "  0%|          | 0/22 [00:00<?, ?it/s]"
      ]
     },
     "metadata": {},
     "output_type": "display_data"
    },
    {
     "name": "stderr",
     "output_type": "stream",
     "text": [
      "Some non-default generation parameters are set in the model config. These should go into a GenerationConfig file (https://huggingface.co/docs/transformers/generation_strategies#save-a-custom-decoding-strategy-with-your-model) instead. This warning will be raised to an exception in v4.41.\n",
      "Non-default generation parameters: {'max_length': 128}\n",
      "Your generation config was originally created from the model config, but the model config has changed since then. Unless you pass the `generation_config` argument to this model's `generate` calls, they will revert to the legacy behavior where the base `generate` parameterization is loaded from the model config instead. To avoid this behavior and this warning, we recommend you to overwrite the generation config model attribute before calling the model's `save_pretrained`, preferably also removing any generation kwargs from the model config. This warning will be raised to an exception in v4.41.\n"
     ]
    },
    {
     "name": "stdout",
     "output_type": "stream",
     "text": [
      "{'eval_loss': 0.4108732342720032, 'eval_runtime': 66.0472, 'eval_samples_per_second': 5.269, 'eval_steps_per_second': 0.333, 'epoch': 9.0}\n"
     ]
    },
    {
     "data": {
      "application/vnd.jupyter.widget-view+json": {
       "model_id": "3066157b85964c2e8e42cfd23ac79b44",
       "version_major": 2,
       "version_minor": 0
      },
      "text/plain": [
       "  0%|          | 0/22 [00:00<?, ?it/s]"
      ]
     },
     "metadata": {},
     "output_type": "display_data"
    },
    {
     "name": "stderr",
     "output_type": "stream",
     "text": [
      "Some non-default generation parameters are set in the model config. These should go into a GenerationConfig file (https://huggingface.co/docs/transformers/generation_strategies#save-a-custom-decoding-strategy-with-your-model) instead. This warning will be raised to an exception in v4.41.\n",
      "Non-default generation parameters: {'max_length': 128}\n",
      "Your generation config was originally created from the model config, but the model config has changed since then. Unless you pass the `generation_config` argument to this model's `generate` calls, they will revert to the legacy behavior where the base `generate` parameterization is loaded from the model config instead. To avoid this behavior and this warning, we recommend you to overwrite the generation config model attribute before calling the model's `save_pretrained`, preferably also removing any generation kwargs from the model config. This warning will be raised to an exception in v4.41.\n"
     ]
    },
    {
     "name": "stdout",
     "output_type": "stream",
     "text": [
      "{'eval_loss': 0.41215622425079346, 'eval_runtime': 65.9973, 'eval_samples_per_second': 5.273, 'eval_steps_per_second': 0.333, 'epoch': 10.0}\n"
     ]
    },
    {
     "data": {
      "application/vnd.jupyter.widget-view+json": {
       "model_id": "1a31dcd4c1cd40a89490cf7ffda1b8c9",
       "version_major": 2,
       "version_minor": 0
      },
      "text/plain": [
       "  0%|          | 0/22 [00:00<?, ?it/s]"
      ]
     },
     "metadata": {},
     "output_type": "display_data"
    },
    {
     "name": "stderr",
     "output_type": "stream",
     "text": [
      "Some non-default generation parameters are set in the model config. These should go into a GenerationConfig file (https://huggingface.co/docs/transformers/generation_strategies#save-a-custom-decoding-strategy-with-your-model) instead. This warning will be raised to an exception in v4.41.\n",
      "Non-default generation parameters: {'max_length': 128}\n",
      "Your generation config was originally created from the model config, but the model config has changed since then. Unless you pass the `generation_config` argument to this model's `generate` calls, they will revert to the legacy behavior where the base `generate` parameterization is loaded from the model config instead. To avoid this behavior and this warning, we recommend you to overwrite the generation config model attribute before calling the model's `save_pretrained`, preferably also removing any generation kwargs from the model config. This warning will be raised to an exception in v4.41.\n"
     ]
    },
    {
     "name": "stdout",
     "output_type": "stream",
     "text": [
      "{'eval_loss': 0.4261099696159363, 'eval_runtime': 66.0922, 'eval_samples_per_second': 5.265, 'eval_steps_per_second': 0.333, 'epoch': 11.0}\n"
     ]
    },
    {
     "data": {
      "application/vnd.jupyter.widget-view+json": {
       "model_id": "175a5566572b4be687361f5718813986",
       "version_major": 2,
       "version_minor": 0
      },
      "text/plain": [
       "  0%|          | 0/22 [00:00<?, ?it/s]"
      ]
     },
     "metadata": {},
     "output_type": "display_data"
    },
    {
     "name": "stderr",
     "output_type": "stream",
     "text": [
      "Some non-default generation parameters are set in the model config. These should go into a GenerationConfig file (https://huggingface.co/docs/transformers/generation_strategies#save-a-custom-decoding-strategy-with-your-model) instead. This warning will be raised to an exception in v4.41.\n",
      "Non-default generation parameters: {'max_length': 128}\n",
      "Your generation config was originally created from the model config, but the model config has changed since then. Unless you pass the `generation_config` argument to this model's `generate` calls, they will revert to the legacy behavior where the base `generate` parameterization is loaded from the model config instead. To avoid this behavior and this warning, we recommend you to overwrite the generation config model attribute before calling the model's `save_pretrained`, preferably also removing any generation kwargs from the model config. This warning will be raised to an exception in v4.41.\n"
     ]
    },
    {
     "name": "stdout",
     "output_type": "stream",
     "text": [
      "{'eval_loss': 0.4353024661540985, 'eval_runtime': 66.0784, 'eval_samples_per_second': 5.266, 'eval_steps_per_second': 0.333, 'epoch': 12.0}\n"
     ]
    },
    {
     "data": {
      "application/vnd.jupyter.widget-view+json": {
       "model_id": "c8237b0d1b8a409680693fdf9ff59edc",
       "version_major": 2,
       "version_minor": 0
      },
      "text/plain": [
       "  0%|          | 0/22 [00:00<?, ?it/s]"
      ]
     },
     "metadata": {},
     "output_type": "display_data"
    },
    {
     "name": "stderr",
     "output_type": "stream",
     "text": [
      "Some non-default generation parameters are set in the model config. These should go into a GenerationConfig file (https://huggingface.co/docs/transformers/generation_strategies#save-a-custom-decoding-strategy-with-your-model) instead. This warning will be raised to an exception in v4.41.\n",
      "Non-default generation parameters: {'max_length': 128}\n",
      "Your generation config was originally created from the model config, but the model config has changed since then. Unless you pass the `generation_config` argument to this model's `generate` calls, they will revert to the legacy behavior where the base `generate` parameterization is loaded from the model config instead. To avoid this behavior and this warning, we recommend you to overwrite the generation config model attribute before calling the model's `save_pretrained`, preferably also removing any generation kwargs from the model config. This warning will be raised to an exception in v4.41.\n"
     ]
    },
    {
     "name": "stdout",
     "output_type": "stream",
     "text": [
      "{'eval_loss': 0.4463439881801605, 'eval_runtime': 66.1276, 'eval_samples_per_second': 5.263, 'eval_steps_per_second': 0.333, 'epoch': 13.0}\n"
     ]
    },
    {
     "data": {
      "application/vnd.jupyter.widget-view+json": {
       "model_id": "ff08cc330fce416e9e0d5809f8c86f83",
       "version_major": 2,
       "version_minor": 0
      },
      "text/plain": [
       "  0%|          | 0/22 [00:00<?, ?it/s]"
      ]
     },
     "metadata": {},
     "output_type": "display_data"
    },
    {
     "name": "stderr",
     "output_type": "stream",
     "text": [
      "Some non-default generation parameters are set in the model config. These should go into a GenerationConfig file (https://huggingface.co/docs/transformers/generation_strategies#save-a-custom-decoding-strategy-with-your-model) instead. This warning will be raised to an exception in v4.41.\n",
      "Non-default generation parameters: {'max_length': 128}\n",
      "Your generation config was originally created from the model config, but the model config has changed since then. Unless you pass the `generation_config` argument to this model's `generate` calls, they will revert to the legacy behavior where the base `generate` parameterization is loaded from the model config instead. To avoid this behavior and this warning, we recommend you to overwrite the generation config model attribute before calling the model's `save_pretrained`, preferably also removing any generation kwargs from the model config. This warning will be raised to an exception in v4.41.\n"
     ]
    },
    {
     "name": "stdout",
     "output_type": "stream",
     "text": [
      "{'eval_loss': 0.46307680010795593, 'eval_runtime': 66.0495, 'eval_samples_per_second': 5.269, 'eval_steps_per_second': 0.333, 'epoch': 14.0}\n"
     ]
    },
    {
     "data": {
      "application/vnd.jupyter.widget-view+json": {
       "model_id": "0b5f378cca3e4b9aaf2c7a3b17b95a52",
       "version_major": 2,
       "version_minor": 0
      },
      "text/plain": [
       "  0%|          | 0/22 [00:00<?, ?it/s]"
      ]
     },
     "metadata": {},
     "output_type": "display_data"
    },
    {
     "name": "stderr",
     "output_type": "stream",
     "text": [
      "Some non-default generation parameters are set in the model config. These should go into a GenerationConfig file (https://huggingface.co/docs/transformers/generation_strategies#save-a-custom-decoding-strategy-with-your-model) instead. This warning will be raised to an exception in v4.41.\n",
      "Non-default generation parameters: {'max_length': 128}\n",
      "Your generation config was originally created from the model config, but the model config has changed since then. Unless you pass the `generation_config` argument to this model's `generate` calls, they will revert to the legacy behavior where the base `generate` parameterization is loaded from the model config instead. To avoid this behavior and this warning, we recommend you to overwrite the generation config model attribute before calling the model's `save_pretrained`, preferably also removing any generation kwargs from the model config. This warning will be raised to an exception in v4.41.\n"
     ]
    },
    {
     "name": "stdout",
     "output_type": "stream",
     "text": [
      "{'eval_loss': 0.4721071422100067, 'eval_runtime': 65.9527, 'eval_samples_per_second': 5.277, 'eval_steps_per_second': 0.334, 'epoch': 15.0}\n"
     ]
    },
    {
     "data": {
      "application/vnd.jupyter.widget-view+json": {
       "model_id": "7776e97afbb84d6291a91e3725cc65f9",
       "version_major": 2,
       "version_minor": 0
      },
      "text/plain": [
       "  0%|          | 0/22 [00:00<?, ?it/s]"
      ]
     },
     "metadata": {},
     "output_type": "display_data"
    },
    {
     "name": "stderr",
     "output_type": "stream",
     "text": [
      "Some non-default generation parameters are set in the model config. These should go into a GenerationConfig file (https://huggingface.co/docs/transformers/generation_strategies#save-a-custom-decoding-strategy-with-your-model) instead. This warning will be raised to an exception in v4.41.\n",
      "Non-default generation parameters: {'max_length': 128}\n",
      "Your generation config was originally created from the model config, but the model config has changed since then. Unless you pass the `generation_config` argument to this model's `generate` calls, they will revert to the legacy behavior where the base `generate` parameterization is loaded from the model config instead. To avoid this behavior and this warning, we recommend you to overwrite the generation config model attribute before calling the model's `save_pretrained`, preferably also removing any generation kwargs from the model config. This warning will be raised to an exception in v4.41.\n"
     ]
    },
    {
     "name": "stdout",
     "output_type": "stream",
     "text": [
      "{'eval_loss': 0.47889775037765503, 'eval_runtime': 66.2186, 'eval_samples_per_second': 5.255, 'eval_steps_per_second': 0.332, 'epoch': 16.0}\n"
     ]
    },
    {
     "data": {
      "application/vnd.jupyter.widget-view+json": {
       "model_id": "13ddf5009cdd42d4a8ebeda55e93af3e",
       "version_major": 2,
       "version_minor": 0
      },
      "text/plain": [
       "  0%|          | 0/22 [00:00<?, ?it/s]"
      ]
     },
     "metadata": {},
     "output_type": "display_data"
    },
    {
     "name": "stderr",
     "output_type": "stream",
     "text": [
      "Some non-default generation parameters are set in the model config. These should go into a GenerationConfig file (https://huggingface.co/docs/transformers/generation_strategies#save-a-custom-decoding-strategy-with-your-model) instead. This warning will be raised to an exception in v4.41.\n",
      "Non-default generation parameters: {'max_length': 128}\n",
      "Your generation config was originally created from the model config, but the model config has changed since then. Unless you pass the `generation_config` argument to this model's `generate` calls, they will revert to the legacy behavior where the base `generate` parameterization is loaded from the model config instead. To avoid this behavior and this warning, we recommend you to overwrite the generation config model attribute before calling the model's `save_pretrained`, preferably also removing any generation kwargs from the model config. This warning will be raised to an exception in v4.41.\n"
     ]
    },
    {
     "name": "stdout",
     "output_type": "stream",
     "text": [
      "{'eval_loss': 0.49793052673339844, 'eval_runtime': 66.0807, 'eval_samples_per_second': 5.266, 'eval_steps_per_second': 0.333, 'epoch': 17.0}\n"
     ]
    },
    {
     "data": {
      "application/vnd.jupyter.widget-view+json": {
       "model_id": "5b94c6e777954aae8bd9bf46f707abd1",
       "version_major": 2,
       "version_minor": 0
      },
      "text/plain": [
       "  0%|          | 0/22 [00:00<?, ?it/s]"
      ]
     },
     "metadata": {},
     "output_type": "display_data"
    },
    {
     "name": "stderr",
     "output_type": "stream",
     "text": [
      "Some non-default generation parameters are set in the model config. These should go into a GenerationConfig file (https://huggingface.co/docs/transformers/generation_strategies#save-a-custom-decoding-strategy-with-your-model) instead. This warning will be raised to an exception in v4.41.\n",
      "Non-default generation parameters: {'max_length': 128}\n",
      "Your generation config was originally created from the model config, but the model config has changed since then. Unless you pass the `generation_config` argument to this model's `generate` calls, they will revert to the legacy behavior where the base `generate` parameterization is loaded from the model config instead. To avoid this behavior and this warning, we recommend you to overwrite the generation config model attribute before calling the model's `save_pretrained`, preferably also removing any generation kwargs from the model config. This warning will be raised to an exception in v4.41.\n"
     ]
    },
    {
     "name": "stdout",
     "output_type": "stream",
     "text": [
      "{'eval_loss': 0.49289318919181824, 'eval_runtime': 66.1526, 'eval_samples_per_second': 5.261, 'eval_steps_per_second': 0.333, 'epoch': 18.0}\n"
     ]
    },
    {
     "data": {
      "application/vnd.jupyter.widget-view+json": {
       "model_id": "f3006e85f03746ccaa0edaf3a1ffce6f",
       "version_major": 2,
       "version_minor": 0
      },
      "text/plain": [
       "  0%|          | 0/22 [00:00<?, ?it/s]"
      ]
     },
     "metadata": {},
     "output_type": "display_data"
    },
    {
     "name": "stderr",
     "output_type": "stream",
     "text": [
      "Some non-default generation parameters are set in the model config. These should go into a GenerationConfig file (https://huggingface.co/docs/transformers/generation_strategies#save-a-custom-decoding-strategy-with-your-model) instead. This warning will be raised to an exception in v4.41.\n",
      "Non-default generation parameters: {'max_length': 128}\n",
      "Your generation config was originally created from the model config, but the model config has changed since then. Unless you pass the `generation_config` argument to this model's `generate` calls, they will revert to the legacy behavior where the base `generate` parameterization is loaded from the model config instead. To avoid this behavior and this warning, we recommend you to overwrite the generation config model attribute before calling the model's `save_pretrained`, preferably also removing any generation kwargs from the model config. This warning will be raised to an exception in v4.41.\n"
     ]
    },
    {
     "name": "stdout",
     "output_type": "stream",
     "text": [
      "{'eval_loss': 0.4970405697822571, 'eval_runtime': 66.0538, 'eval_samples_per_second': 5.268, 'eval_steps_per_second': 0.333, 'epoch': 19.0}\n"
     ]
    },
    {
     "data": {
      "application/vnd.jupyter.widget-view+json": {
       "model_id": "f9d43187989d4a7885ba0183bd2519a2",
       "version_major": 2,
       "version_minor": 0
      },
      "text/plain": [
       "  0%|          | 0/22 [00:00<?, ?it/s]"
      ]
     },
     "metadata": {},
     "output_type": "display_data"
    },
    {
     "name": "stderr",
     "output_type": "stream",
     "text": [
      "Some non-default generation parameters are set in the model config. These should go into a GenerationConfig file (https://huggingface.co/docs/transformers/generation_strategies#save-a-custom-decoding-strategy-with-your-model) instead. This warning will be raised to an exception in v4.41.\n",
      "Non-default generation parameters: {'max_length': 128}\n",
      "Your generation config was originally created from the model config, but the model config has changed since then. Unless you pass the `generation_config` argument to this model's `generate` calls, they will revert to the legacy behavior where the base `generate` parameterization is loaded from the model config instead. To avoid this behavior and this warning, we recommend you to overwrite the generation config model attribute before calling the model's `save_pretrained`, preferably also removing any generation kwargs from the model config. This warning will be raised to an exception in v4.41.\n"
     ]
    },
    {
     "name": "stdout",
     "output_type": "stream",
     "text": [
      "{'eval_loss': 0.4987224340438843, 'eval_runtime': 66.1511, 'eval_samples_per_second': 5.261, 'eval_steps_per_second': 0.333, 'epoch': 20.0}\n"
     ]
    },
    {
     "name": "stderr",
     "output_type": "stream",
     "text": [
      "There were missing keys in the checkpoint model loaded: ['encoder.embed_tokens.weight', 'decoder.embed_tokens.weight'].\n",
      "Some non-default generation parameters are set in the model config. These should go into a GenerationConfig file (https://huggingface.co/docs/transformers/generation_strategies#save-a-custom-decoding-strategy-with-your-model) instead. This warning will be raised to an exception in v4.41.\n",
      "Non-default generation parameters: {'max_length': 128}\n",
      "Your generation config was originally created from the model config, but the model config has changed since then. Unless you pass the `generation_config` argument to this model's `generate` calls, they will revert to the legacy behavior where the base `generate` parameterization is loaded from the model config instead. To avoid this behavior and this warning, we recommend you to overwrite the generation config model attribute before calling the model's `save_pretrained`, preferably also removing any generation kwargs from the model config. This warning will be raised to an exception in v4.41.\n"
     ]
    },
    {
     "name": "stdout",
     "output_type": "stream",
     "text": [
      "{'train_runtime': 8714.5517, 'train_samples_per_second': 1.597, 'train_steps_per_second': 0.399, 'train_loss': 0.21618085839282508, 'epoch': 20.0}\n"
     ]
    }
   ],
   "source": [
    "# Train model\n",
    "model_trainer = t5_exp.train(id_tokenized_ds, **training_args)\n",
    "\n",
    "\n",
    "# Get prediction labels - Training set\n",
    "# id_tr_pred_labels = t5_exp.get_labels(\n",
    "#     predictor=model_trainer,\n",
    "#     tokenized_dataset=id_tokenized_ds,\n",
    "#     sample_set=\"train\",\n",
    "#     batch_size=16,\n",
    "# )\n",
    "# id_tr_labels = [i.strip() for i in id_ds[\"train\"][\"labels\"]]\n",
    "\n",
    "# # Get prediction labels - Testing set\n",
    "# id_te_pred_labels = t5_exp.get_labels(\n",
    "#     predictor=model_trainer,\n",
    "#     tokenized_dataset=id_tokenized_ds,\n",
    "#     sample_set=\"test\",\n",
    "#     batch_size=16,\n",
    "# )\n",
    "# id_te_labels = [i.strip() for i in id_ds[\"test\"][\"labels\"]]\n",
    "\n",
    "# # Compute Metrics\n",
    "# metrics = t5_exp.get_metrics(id_tr_labels, id_tr_pred_labels)\n",
    "# print('----------------------- Training Set Metrics -----------------------')\n",
    "# print(metrics)\n",
    "#\n",
    "# metrics = t5_exp.get_metrics(id_te_labels, id_te_pred_labels)\n",
    "# print('----------------------- Testing Set Metrics -----------------------')\n",
    "# print(metrics)\n",
    "\n",
    "# Compute Metrics\n",
    "# metrics = t5_exp.get_classic_metrics(id_tr_labels, id_tr_pred_labels)\n",
    "# print(\"----------------------- Classic Training Set Metrics -----------------------\")\n",
    "# print(metrics)\n",
    "\n",
    "# print(\"id_tr_labels\", id_tr_labels)\n",
    "# print(\"id_tr_pred_labels\", id_tr_pred_labels)\n",
    "\n",
    "# metrics = t5_exp.get_classic_metrics(id_te_labels, id_te_pred_labels)\n",
    "# print(\"----------------------- Classic Testing Set Metrics -----------------------\")\n",
    "# print(metrics)"
   ]
  },
  {
   "cell_type": "code",
   "execution_count": null,
   "metadata": {},
   "outputs": [
    {
     "name": "stdout",
     "output_type": "stream",
     "text": [
      "{'text': 'The food is good, but the service is bad.', 'Quadruples': [{'aspect': 'food', 'polarity': 'positive', 'opinion': 'good', 'category': 'FOOD#QUALITY'}, {'aspect': 'service', 'polarity': 'negative', 'opinion': 'bad', 'category': 'SERVICE#GENERAL'}]}\n",
      "{'text': 'The food is good, but the service is bad.', 'Quadruples': [{'aspect': 'food', 'polarity': 'positive', 'opinion': 'good', 'category': 'FOOD#QUALITY'}, {'aspect': 'service', 'polarity': 'negative', 'opinion': 'bad', 'category': 'SERVICE#GENERAL'}]}\n",
      "{'text': 'The chicken rice was cold but the noodles were great.', 'Quadruples': [{'aspect': 'chicken rice', 'polarity': 'negative', 'opinion': 'cold', 'category': 'FOOD#QUALITY'}, {'aspect': 'noodles', 'polarity': 'positive', 'opinion': 'great', 'category': 'FOOD#QUALITY'}]}\n",
      "{'text': 'The chicken rice was cold but the noodles were great.', 'Quadruples': [{'aspect': 'chicken rice', 'polarity': 'negative', 'opinion': 'cold', 'category': 'FOOD#QUALITY'}, {'aspect': 'noodles', 'polarity': 'positive', 'opinion': 'great', 'category': 'FOOD#QUALITY'}]}\n",
      "{'text': 'Parking was hard to find', 'Quadruples': [{'aspect': 'Parking', 'polarity': 'negative', 'opinion': 'hard', 'category': 'SERVICE#GENERAL'}]}\n",
      "{'text': 'Parking was hard to find', 'Quadruples': [{'aspect': 'Parking', 'polarity': 'negative', 'opinion': 'hard', 'category': 'SERVICE#GENERAL'}]}\n",
      "{'text': 'The location of the restaurant is convenient.', 'Quadruples': [{'aspect': 'location', 'polarity': 'positive', 'opinion': 'convenient', 'category': 'LOCATION#GENERAL'}]}\n",
      "{'text': 'The location of the restaurant is convenient.', 'Quadruples': [{'aspect': 'location', 'polarity': 'positive', 'opinion': 'convenient', 'category': 'LOCATION#GENERAL'}]}\n",
      "{'text': 'yum!', 'Quadruples': [{'aspect': 'NULL', 'polarity': 'positive', 'opinion': 'yum', 'category': 'FOOD#QUALITY'}]}\n",
      "{'text': 'yum!', 'Quadruples': [{'aspect': 'NULL', 'polarity': 'positive', 'opinion': 'yum', 'category': 'FOOD#QUALITY'}]}\n"
     ]
    }
   ],
   "source": [
    "from pyabsa import ABSAInstruction\n",
    "\n",
    "if __name__ == \"__main__\":\n",
    "    generator = ABSAInstruction.ABSAGenerator(\"checkpoints\\multitask\\kevinscariaate_tk-instruct-base-def-pos-neg-neut-combined-instruction\")\n",
    "    example = [\n",
    "        \"The food is good, but the service is bad.\",\n",
    "        \"The chicken rice was cold but the noodles were great.\",\n",
    "        \"Parking was hard to find\",\n",
    "        \"The location of the restaurant is convenient.\",\n",
    "        \"yum!\"\n",
    "    ]\n",
    "\n",
    "    for example in example:\n",
    "        result = generator.predict(example)\n",
    "        print(result)"
   ]
  },
  {
   "cell_type": "markdown",
   "metadata": {},
   "source": [
    "### Carry out micro and macro testing"
   ]
  },
  {
   "cell_type": "code",
   "execution_count": 8,
   "metadata": {},
   "outputs": [
    {
     "name": "stdout",
     "output_type": "stream",
     "text": [
      "{'text': 'Environment is nice  , same goes to the food. The only part can be improved us the elevated floor on the higher ground , as the set up my encourage kids to climb up and down. This can be unsafe for kids .', 'Quadruples': [{'aspect': 'Environment', 'polarity': 'positive', 'opinion': 'nice', 'category': 'AMBIENCE#GENERAL'}, {'aspect': 'food', 'polarity': 'negative', 'opinion': 'unsafe', 'category': 'FOOD#QUALITY'}, {'aspect': 'set up', 'polarity': 'negative', 'opinion': 'unsafe', 'category': 'AMBIENCE#GENERAL'}]}\n",
      "{'text': 'After being down in Melaka for a while, then coming to KL and having a few disappointing meals it was heaven to have some familiar Melaka style (Muar is just near it) food.  Make sure you have the cendol for dessert- so good!', 'Quadruples': [{'aspect': 'cendol', 'polarity': 'positive', 'opinion': 'good', 'category': 'FOOD#QUALITY'}, {'aspect': 'NULL', 'polarity': 'positive', 'opinion': 'NULL', 'category': 'FOOD#QUALITY'}]}\n",
      "{'text': 'Enjoyed our dinner here. We are a group of 15, shafiq serves everyone of us with a smile and make us feel home', 'Quadruples': [{'aspect': 'shafiq', 'polarity': 'positive', 'opinion': 'enjoyed', 'category': 'RESTAURANT#GENERAL'}]}\n",
      "{'text': 'It was a buzzing Saturday night with servers attracting customers to their respective restaurants/pubs. We decided to give Pampas a go as it was a more quiet and relax environment. We were seated upstairs as it was fully seated downstair. It was nice to have a private area but it was a bit warm. Our server seated us in the main floor as there was table available. The food was YUM and the service was excellant. Food and drinks were served accordingly and it was reasonably priced', 'Quadruples': [{'aspect': 'food', 'polarity': 'positive', 'opinion': 'yum', 'category': 'FOOD#QUALITY'}, {'aspect': 'service', 'polarity': 'positive', 'opinion': 'elevlant', 'category': 'SERVICE#GENERAL'}, {'aspect': 'food', 'polarity': 'positive', 'opinion': 'yum', 'category': 'FOOD#QUALITY'}, {'aspect': 'drinks', 'polarity': 'positive', 'opinion': 'reasonably priced', 'category': 'DRINKS#PRICES'}, {'aspect': 'NULL', 'polarity': 'positive', 'opinion': 'quiet', 'category': 'AMBIENCE#GENERAL'}]}\n",
      "{'text': 'I had an amazing experience, the food was delicious (I wish my stomach was prepared for the 7 course but until next time), the hospitality team were professionals, the atmosphere was breathtaking and Jocelyn was the star of my experience. Thank you again!', 'Quadruples': [{'aspect': 'food', 'polarity': 'positive', 'opinion': 'delicious', 'category': 'FOOD#QUALITY'}, {'aspect': 'hospitality team', 'polarity': 'positive', 'opinion': 'professional', 'category': 'SERVICE#GENERAL'}, {'aspect': 'atmosphere', 'polarity': 'positive', 'opinion': 'beautiful', 'category': 'AMBIENCE#GENERAL'}, {'aspect': 'jocelyn', 'polarity': 'positive', 'opinion': 'star', 'category': 'SERVICE#GENERAL'}]}\n",
      "{'text': 'Do not miss this outstanding restaurant in KL. The local Malaysian food is absolutely the best. Wide variety in the menu and excellent attention to your food allergies should you have any. They will come to your table and suggest different items or items they can make for you based on your requirements. Service is great! Sit outside if not to hot. My favorite! ', 'Quadruples': [{'aspect': 'local Malaysian food', 'polarity': 'positive', 'opinion': 'best', 'category': 'FOOD#QUALITY'}, {'aspect': 'service', 'polarity': 'positive', 'opinion': 'great', 'category': 'SERVICE#GENERAL'}]}\n",
      "{'text': 'Great tasting ribs, good variety of food and drinks options.\\nPrices are a tad expensive though, however to be fair, they are located in a luxury shopping mall.', 'Quadruples': [{'aspect': 'ribs', 'polarity': 'positive', 'opinion': 'great tasting', 'category': 'FOOD#QUALITY'}, {'aspect': 'food', 'polarity': 'positive', 'opinion': 'good variety', 'category': 'FOOD#STYLE_OPTIONS'}, {'aspect': 'drinks', 'polarity': 'negative', 'opinion': 'expensive', 'category': 'DRINKS#PRICES'}, {'aspect': 'NULL', 'polarity': 'negative', 'opinion': 'expensive', 'category': 'RESTAURANT#PRICES'}]}\n",
      "{'text': 'We loved the atmosphere even though we were probably close to twice the average age! Staff were attentive and friendly and the food was really good........', 'Quadruples': [{'aspect': 'atmosphere', 'polarity': 'positive', 'opinion': 'loved', 'category': 'AMBIENCE#GENERAL'}, {'aspect': 'staff', 'polarity': 'positive', 'opinion': 'attentive', 'category': 'SERVICE#GENERAL'}, {'aspect': 'food', 'polarity': 'positive', 'opinion': 'good', 'category': 'FOOD#QUALITY'}]}\n",
      "{'text': 'We stayed here for 10 days on a holiday trip which was very pleasant overall. Breakfast buffet served at Serena Brasserie had wide array of varieties and was delicious,.Though we could have our breakfast at the Club lounge, we had much wonderful breakfast at Brasserie instead. The staff are superb, a big Thank you to Alejandro, Jose, Bulbul and Adib for their caring attention and exceptional service and thanks concierge staff Farhan and Hajib who assisted us during check in and check out Would highly recommend and return! ', 'Quadruples': [{'aspect': 'Breakfast buffet', 'polarity': 'positive', 'opinion': 'pleasant', 'category': 'FOOD#QUALITY'}, {'aspect': 'staff', 'polarity': 'positive', 'opinion': 'superb', 'category': 'SERVICE#GENERAL'}, {'aspect': 'club lounge', 'polarity': 'positive', 'opinion': 'enjoy', 'category': 'AMBIENCE#GENERAL'}, {'aspect': 'restaurant', 'polarity': 'positive', 'opinion': 'recommend', 'category': 'RESTAURANT#GENERAL'}]}\n",
      "{'text': 'Best place to drink in Publika! Good service from the staff all round, ask for Rakib. Very friendly guy.', 'Quadruples': [{'aspect': 'service', 'polarity': 'positive', 'opinion': 'good', 'category': 'SERVICE#GENERAL'}, {'aspect': 'staff', 'polarity': 'positive', 'opinion': 'friendly', 'category': 'SERVICE#GENERAL'}, {'aspect': 'rakib', 'polarity': 'positive', 'opinion': 'friendly', 'category': 'SERVICE#GENERAL'}]}\n",
      "{'text': 'Wide food spread, not just the grilled meats. They also had fresh oysters, sashimi, lasagna and beef stroganoff, desserts and lots more. The meat spread were amazing. They had wagyu beef, lamb, sirloin, duck etc The beef was juicy, tender and well marinated! Forgot to take the pictures but trust me it was so good and worth every penny. The staff are friendly and attentive!', 'Quadruples': [{'aspect': 'meat spread', 'polarity': 'positive', 'opinion': 'amazing', 'category': 'FOOD#STYLE_OPTIONS'}, {'aspect': 'wagyu beef', 'polarity': 'positive', 'opinion': 'juicy', 'category': 'FOOD#QUALITY'}, {'aspect': 'lamb', 'polarity': 'positive', 'opinion': 'tender', 'category': 'FOOD#QUALITY'}, {'aspect': 'sashimi', 'polarity': 'positive', 'opinion': 'tender', 'category': 'FOOD#QUALITY'}, {'aspect': 'lasagna', 'polarity': 'positive', 'opinion': 'worth', 'category': 'FOOD#QUALITY'}, {'aspect': 'beef stroganoff', 'polarity': 'positive', 'opinion': 'worth', 'category': 'FOOD#QUALITY'}, {'aspect': 'NULL', 'polarity': 'positive', 'opinion': 'attentive', 'category': 'SERVICE#GENERAL'}]}\n",
      "{'text': 'First of all the ambiance of this joint is excellent. You are with your family or alone or you are a couple, this is the place everybody would find a cozy corner to sit. Waiters are very polite and customer oriented. The best part is the availability of various types of beers from different continents and places. The prices are at the higher end but we did enjoy every drop of our beer. The food is also very tasty. I have recommended this place to my friends and those who visited this place were very satisfied. If you love a live band, visit on a Friday', 'Quadruples': [{'aspect': 'ambiance', 'polarity': 'positive', 'opinion': 'excellent', 'category': 'AMBIENCE#GENERAL'}, {'aspect': 'beers', 'polarity': 'positive', 'opinion': 'love', 'category': 'DRINKS#STYLE_OPTIONS'}, {'aspect': 'food', 'polarity': 'positive', 'opinion': 'tasty', 'category': 'FOOD#QUALITY'}, {'aspect': 'live band', 'polarity': 'positive', 'opinion': 'love', 'category': 'AMBIENCE#GENERAL'}]}\n",
      "{'text': 'We had the tasting menu which was excellent with a nice fusion touch.  Every dish wasdifferent in preparation, looked good and most importantly tasted good! Nice decor and a slightly modern/formal ambience.  Excellent for couples looking for a nice, romantic dinner.', 'Quadruples': [{'aspect': 'tasting menu', 'polarity': 'positive', 'opinion': 'excellent', 'category': 'FOOD#QUALITY'}, {'aspect': 'decor', 'polarity': 'positive', 'opinion': 'good', 'category': 'AMBIENCE#GENERAL'}, {'aspect': 'ambience', 'polarity': 'positive', 'opinion': 'modern', 'category': 'AMBIENCE#GENERAL'}, {'aspect': 'NULL', 'polarity': 'positive', 'opinion': 'romantic', 'category': 'AMBIENCE#GENERAL'}]}\n",
      "{'text': \"There were so many tourist bus came to this place. Me and friends were coming to this place to try their pepper soup. But it was sold out already by 12pm. So I recommended who ever wanted to try this, please come before 10am so you can get their famous bak kut teh pepper soup. I ordered butter sotong (squid) as well, but it wasn't as I thought as it would be. Not so recommended this menu\", 'Quadruples': [{'aspect': 'menu', 'polarity': 'negative', 'opinion': 'not so recommended', 'category': 'FOOD#QUALITY'}]}\n",
      "{'text': 'Dropped in for a drink and some food. Food was tasty, drink was good, staff were friendly and there was a good vibe to the bar. Had a good chat with Frank who was the manager inside, recomended.', 'Quadruples': [{'aspect': 'food', 'polarity': 'positive', 'opinion': 'tasty', 'category': 'FOOD#QUALITY'}, {'aspect': 'drink', 'polarity': 'positive', 'opinion': 'good', 'category': 'DRINKS#QUALITY'}, {'aspect': 'staff', 'polarity': 'positive', 'opinion': 'friendly', 'category': 'SERVICE#GENERAL'}, {'aspect': 'bar', 'polarity': 'positive', 'opinion': 'good vibe', 'category': 'AMBIENCE#GENERAL'}]}\n",
      "{'text': 'Good and fast service from Anas staff, very efficient and quality, fast response and personality, very smart , well dressed', 'Quadruples': [{'aspect': 'service', 'polarity': 'positive', 'opinion': 'good', 'category': 'SERVICE#GENERAL'}, {'aspect': 'staff', 'polarity': 'positive', 'opinion': 'fast', 'category': 'SERVICE#GENERAL'}]}\n",
      "{'text': 'The Green Man has a lot of competition in the area.Despite this it stands out in the \"pub\" market.Attentive staff with out being in your face, great value all day happy hour.An extensive food menu and all the sports channels.Popular with locals and tourists alike, keep up the good work.', 'Quadruples': [{'aspect': 'staff', 'polarity': 'positive', 'opinion': 'attentive', 'category': 'SERVICE#GENERAL'}, {'aspect': 'food menu', 'polarity': 'positive', 'opinion': 'extensive', 'category': 'FOOD#STYLE_OPTIONS'}, {'aspect': 'seating', 'polarity': 'positive', 'opinion': 'great value', 'category': 'FOOD#STYLE_OPTIONS'}, {'aspect': 'NULL', 'polarity': 'positive', 'opinion': 'good', 'category': 'AMBIENCE#GENERAL'}]}\n",
      "{'text': 'Reasonable price at strategic city centre (Pavilion Mall) with very fresh quality and sumptuos food. Value for bento sets and well prepared skewers and salads', 'Quadruples': [{'aspect': 'food', 'polarity': 'positive', 'opinion': 'fresh', 'category': 'FOOD#QUALITY'}, {'aspect': 'bento sets', 'polarity': 'positive', 'opinion': 'fresh', 'category': 'FOOD#QUALITY'}, {'aspect': 'skewers', 'polarity': 'positive', 'opinion': 'fresh', 'category': 'FOOD#QUALITY'}, {'aspect': 'salads', 'polarity': 'positive', 'opinion': 'well prepared', 'category': 'FOOD#QUALITY'}]}\n",
      "{'text': 'Vietnamese fusion food as told by our server. Food is good but can’t compare to the ones in Vietnam. Pho was the dish of the night. Service is slow, especially if you sit upstairs as there was no bell or anybody going up at all. So we had to move downstairs. The place is rather small, so make your reservations ahead. Getting parking is a challenge', 'Quadruples': [{'aspect': 'service', 'polarity': 'negative', 'opinion': 'slow', 'category': 'SERVICE#GENERAL'}, {'aspect': 'food', 'polarity': 'negative', 'opinion': 'good', 'category': 'FOOD#QUALITY'}, {'aspect': 'NULL', 'polarity': 'negative', 'opinion': 'challenged', 'category': 'AMBIENCE#GENERAL'}]}\n",
      "{'text': \"Had a small meeting with my colleagues here. Owners were kind enough to loan us the Cigar Room, provided we ordered a certain value of food/drinks. This place a little bit unique in a sense that the place is litter with pictures of jazz musicians (Miles Davis, Dizzy Gilesppe, Sinatra, etc.), and for those who are hifi equipment enthusiasts, there stuff like McIntoshs, Sonus Faber & JBL speakers. Mytek digital source was used but most stuff (including reel to reel) were on static display only. Place was relatively quite, especially in the Cigar Room, and as we were having a meeting, this was perfect. Food was served promptly, with no fuss. Ordered sandwiches, coffee and tea, tasty but nothing great. Lunch menu is a bit limited. Pasta, pizza, burgers...soups, salads, the usual Mediterranean/Italian/Western fare. One part of the this place which can do better is the food menu, I think. Coffee, late, capuccinos were ok. Didn't try the wine(in meeting, remember?), though I can see that the displays/racks were full of varieties. The deserts were good and there's a variety to chose from.Our time spent there was from 11am to afternoon. Place was very nice to have a chat. Music was soft and pleasant. I suppose the evening crowd/dinner the atmosphere could be more rowdy.All in all. Had a nice meeting there. Ok food and drinks. And if I were to chose a nice place to hangout, I will come back here again. Especially to try out the wine :-)\", 'Quadruples': [{'aspect': 'food', 'polarity': 'positive', 'opinion': 'nice', 'category': 'AMBIENCE#GENERAL'}]}\n",
      "{'text': 'Booked on line from UK very easily.Dinner for two. A choice of indoors or out on the terrace. The menu is easy to understand. The food is served quite quickly and is spicy but not too \"hot\". Service is friendly and attentive. There is a good choice of wine, but it is not cheap. The puddings are interesting and a new experience.For an authentic Malay meal in pleasant surroundings, this restaurant is to be recommended. This was not our first visit and the standards have not slipped one little bit.', 'Quadruples': [{'aspect': 'menu', 'polarity': 'positive', 'opinion': 'easy to understand', 'category': 'FOOD#STYLE_OPTIONS'}, {'aspect': 'food', 'polarity': 'positive', 'opinion': 'spicy', 'category': 'FOOD#QUALITY'}, {'aspect': 'service', 'polarity': 'positive', 'opinion': 'friendly', 'category': 'SERVICE#GENERAL'}, {'aspect': 'puddings', 'polarity': 'positive', 'opinion': 'interesting', 'category': 'FOOD#QUALITY'}, {'aspect': 'restaurant', 'polarity': 'positive', 'opinion': 'recommended', 'category': 'RESTAURANT#PRICES'}]}\n",
      "{'text': 'A good place to have breakfast, tasty food and great service from Malvin. Definitely will come back again! Everything is good here.', 'Quadruples': [{'aspect': 'breakfast', 'polarity': 'positive', 'opinion': 'good', 'category': 'FOOD#QUALITY'}, {'aspect': 'food', 'polarity': 'positive', 'opinion': 'tasty', 'category': 'FOOD#QUALITY'}, {'aspect': 'service', 'polarity': 'positive', 'opinion': 'great', 'category': 'SERVICE#GENERAL'}]}\n",
      "{'text': 'Great restaurant with great food and service. Everything we had was really good. Would highly recommend.', 'Quadruples': [{'aspect': 'restaurant', 'polarity': 'positive', 'opinion': 'great', 'category': 'RESTAURANT#GENERAL'}, {'aspect': 'food', 'polarity': 'positive', 'opinion': 'good', 'category': 'FOOD#QUALITY'}, {'aspect': 'service', 'polarity': 'positive', 'opinion': 'good', 'category': 'SERVICE#GENERAL'}]}\n",
      "{'text': 'Myself and my partner are avid foodies and really loved it here. 3 nights out of 4 we spent eating at Sai Woo, eating like kings each night. Throughout out 2 and a half weeks in malaysia we forever compared out meals to Sai Woo. Food was very fresh, lots of choice, hearty portions and great atmosphere. On our final night in KL we were staying at the airport and took a 2 hour round taxi just to have our last night here.', 'Quadruples': [{'aspect': 'Food', 'polarity': 'positive', 'opinion': 'fresh', 'category': 'FOOD#QUALITY'}, {'aspect': 'portions', 'polarity': 'positive', 'opinion': 'chosen', 'category': 'FOOD#STYLE_OPTIONS'}, {'aspect': 'atmosphere', 'polarity': 'positive', 'opinion': 'great', 'category': 'AMBIENCE#GENERAL'}]}\n",
      "{'text': \"Starting playing a few game with JiaYang and Jayson, it's was fun and. Amazing. New experience and wonderful moments with my girlfriend. Our waiter Mr Radha is serving us inside the darkness. Good explanation menu from bella. Thank you .I will suggest to family and members this place. Nice experience!!\", 'Quadruples': [{'aspect': 'waiter', 'polarity': 'positive', 'opinion': 'NULL', 'category': 'SERVICE#GENERAL'}, {'aspect': 'NULL', 'polarity': 'positive', 'opinion': 'wonderful', 'category': 'SERVICE#GENERAL'}]}\n",
      "{'text': 'Great place to gathering! the music, their vibes sooo good and enjoy! you can bring fren or plus one to sit and watching the view also! ', 'Quadruples': [{'aspect': 'music', 'polarity': 'positive', 'opinion': 'good', 'category': 'AMBIENCE#GENERAL'}, {'aspect': 'vibes', 'polarity': 'positive', 'opinion': 'enjoy', 'category': 'AMBIENCE#GENERAL'}, {'aspect': 'view', 'polarity': 'positive', 'opinion': 'enjoy', 'category': 'LOCATION#GENERAL'}]}\n",
      "{'text': 'Beautiful restaurant with a wonderful view of the city of KL.\\nAmazing food and attention to every detail.\\nNas has been a really  great and exceptional waiter: always attentive to our needs, Nas helped to create a simply perfect atmosphere during our dinner!', 'Quadruples': [{'aspect': 'food', 'polarity': 'positive', 'opinion': 'amazing', 'category': 'FOOD#QUALITY'}, {'aspect': 'waiter', 'polarity': 'positive', 'opinion': 'great', 'category': 'SERVICE#GENERAL'}, {'aspect': 'atmosphere', 'polarity': 'positive', 'opinion': 'perfect', 'category': 'AMBIENCE#GENERAL'}]}\n",
      "{'text': 'We were invited for a family function at the restaurant. The restaurant is located near KLCC and quite easy to find. Parking at the place can be a challenge but there is a parking valet service if you need one. There was a large spread of food but nothing spectacular.', 'Quadruples': [{'aspect': 'spread of food', 'polarity': 'neutral', 'opinion': 'large', 'category': 'FOOD#STYLE_OPTIONS'}, {'aspect': 'restaurant', 'polarity': 'neutral', 'opinion': 'easy', 'category': 'RESTAURANT#MISCELLANEOUS'}]}\n",
      "{'text': 'Food is good, environment is nice, staff is friendly, especially Yazed. She made good coffee and peppermint drinks for us!', 'Quadruples': [{'aspect': 'Food', 'polarity': 'positive', 'opinion': 'good', 'category': 'FOOD#QUALITY'}, {'aspect': 'environment', 'polarity': 'positive', 'opinion': 'nice', 'category': 'AMBIENCE#GENERAL'}, {'aspect': 'staff', 'polarity': 'positive', 'opinion': 'friendly', 'category': 'SERVICE#GENERAL'}, {'aspect': 'peppermint drinks', 'polarity': 'positive', 'opinion': 'good', 'category': 'DRINKS#QUALITY'}]}\n",
      "{'text': 'Overall, the food was awesome. The mussel soup, the nachos, and the dips were great. The fajitas were OK. Magaritas were good too. The service is great too. When we arrived, we had no table and they opened up an additional table for us by the side and lit up candles for us as it was dark by the side. We were informed once there was table available and they helped us move. They were also helpful in recommending their signature dishes.The restaurant was packed on a Friday night so please do make reservation if want to get a table! Parking is tough during peak hours so do expect to park by the roadside.', 'Quadruples': [{'aspect': 'food', 'polarity': 'positive', 'opinion': 'awesome', 'category': 'FOOD#QUALITY'}, {'aspect': 'mussel soup', 'polarity': 'positive', 'opinion': 'ok', 'category': 'FOOD#QUALITY'}, {'aspect': 'fajitas', 'polarity': 'positive', 'opinion': 'ok', 'category': 'FOOD#QUALITY'}, {'aspect': 'service', 'polarity': 'positive', 'opinion': 'great', 'category': 'SERVICE#GENERAL'}, {'aspect': 'restaurant', 'polarity': 'negative', 'opinion': 'packed', 'category': 'RESTAURANT#MISCELLANEOUS'}]}\n",
      "{'text': 'Excellent BKT, near KL and you don’t need to drive all the way to Kling.  Very friendly staff and excellent food, good price too and tea quality great as well.', 'Quadruples': [{'aspect': 'staff', 'polarity': 'positive', 'opinion': 'friendly', 'category': 'SERVICE#GENERAL'}, {'aspect': 'food', 'polarity': 'positive', 'opinion': 'excellent', 'category': 'FOOD#QUALITY'}, {'aspect': 'tea quality', 'polarity': 'positive', 'opinion': 'great', 'category': 'DRINKS#QUALITY'}]}\n",
      "{'text': 'Could be the best steak in KL. Comes out on a sizzling plate with chips, vegetables and choice of gravy, pepper or garlic sauce.', 'Quadruples': [{'aspect': 'steak', 'polarity': 'positive', 'opinion': 'best', 'category': 'FOOD#QUALITY'}]}\n",
      "{'text': 'Great experience , friendly service amazing food of every description.The place is busy yet organised, to a western tourist it seems a little chaotic however it works well.Cutlery is available however many people eat their food with their hands .There are places to wash your hands ( sinks) . It was a great experience however local love it so expect it to be busy - cash only.This is a different dining experience well worth the visit. ', 'Quadruples': [{'aspect': 'service', 'polarity': 'positive', 'opinion': 'friendly', 'category': 'SERVICE#GENERAL'}, {'aspect': 'food', 'polarity': 'positive', 'opinion': 'amazing', 'category': 'FOOD#QUALITY'}, {'aspect': 'NULL', 'polarity': 'positive', 'opinion': 'worth', 'category': 'AMBIENCE#GENERAL'}]}\n",
      "{'text': 'The atmosphere is very warm and the personnel extremely nice and helpful. The place is particularly suitable for a dinner, specially if with a nice companion. The food quality is great and the prices reasonable for the the quality and environment offered.', 'Quadruples': [{'aspect': 'atmosphere', 'polarity': 'positive', 'opinion': 'warm', 'category': 'AMBIENCE#GENERAL'}, {'aspect': 'people', 'polarity': 'positive', 'opinion': 'nice', 'category': 'SERVICE#GENERAL'}, {'aspect': 'place', 'polarity': 'positive', 'opinion': 'suitable', 'category': 'AMBIENCE#GENERAL'}]}\n",
      "{'text': 'We decided to visit The Precious Old China for the sake of all PR it attracted.The place was packed with patrons but we were seated in a few minutes of waiting.The decor and an internationally buzzing crowd make it a great meeting place, provided you came just for a coffee or tea. The toilets located upstairs could be less decadent and the food was frankly poor. The soup was watery brown liquid and the main course chicken was plain and not tasty. Overall it is an interesting caffe place with some pre Mao era decadent touch.', 'Quadruples': [{'aspect': 'decor', 'polarity': 'negative', 'opinion': 'packed', 'category': 'AMBIENCE#GENERAL'}, {'aspect': 'food', 'polarity': 'negative', 'opinion': 'poor', 'category': 'FOOD#QUALITY'}, {'aspect': 'food', 'polarity': 'negative', 'opinion': 'poor', 'category': 'FOOD#QUALITY'}, {'aspect': 'NULL', 'polarity': 'negative', 'opinion': 'NULL', 'category': 'AMBIENCE#GENERAL'}]}\n",
      "{'text': \"There is mixed reviews about SS2 Durian with some saying it's overpriced but I say it's the best place to get a good variety of Durians (at least 10 different types). My partner and I love coming here every durian season, feasting on their D24 and Musang King like kings and queens. The durian is fresh and always up to our expectations.Finding parking is easy as it is at the corner of central SS2. They sell fresh coconut as beverage and Durian Chendol as dessert too. We always opt for the fresh coconut and even go for seconds. The staff are always friendly and are patient with us finding the right durian for us (kinda like finding the right engagement ring for the occasion ). This time, we brought our friends from Singapore with us and they were impressed with the variety and friendly service. This place is a great way to introduce durian to friends living overseas and who have never tried durian before!'\", 'Quadruples': [{'aspect': 'SS2 Durian', 'polarity': 'positive', 'opinion': 'overpriced', 'category': 'RESTAURANT#PRICES'}, {'aspect': 'NULL', 'polarity': 'positive', 'opinion': 'friendly', 'category': 'RESTAURANT#PRICES'}]}\n",
      "{'text': 'We came on a Sunday and expected it to be quiet - started that way but within an hour it was full. Food is interesting - described as fusion but for me it was definitely on the Malaysian side of fusion. We had stingray on toast, banana blossom spring rolls, kale & aparagus, grilled zucchini, aged duck breast and one of the fish dishes. All really good - service was attentive without been too much. I like the space and the cocktails.', 'Quadruples': [{'aspect': 'food', 'polarity': 'positive', 'opinion': 'interesting', 'category': 'FOOD#QUALITY'}, {'aspect': 'service', 'polarity': 'positive', 'opinion': 'attentive', 'category': 'SERVICE#GENERAL'}, {'aspect': 'space', 'polarity': 'positive', 'opinion': 'like', 'category': 'AMBIENCE#GENERAL'}, {'aspect': 'fish dishes', 'polarity': 'positive', 'opinion': 'like', 'category': 'FOOD#QUALITY'}, {'aspect': 'NULL', 'polarity': 'positive', 'opinion': 'like', 'category': 'FOOD#QUALITY'}]}\n",
      "{'text': 'This restaurant staff is friendly and special thanks to Miss BiBi to her nice recommendation of fooooodd !!! Kudos!!', 'Quadruples': [{'aspect': 'restaurant staff', 'polarity': 'positive', 'opinion': 'friendly', 'category': 'SERVICE#GENERAL'}]}\n",
      "{'text': 'One of my fav Indian foodie place around the Brickfields area.\\nI always enjoy their Masala Dosa, nicely crisp on one side and fluffy stuffed on inside. Recently, accepts GRaB pay, convenient.', 'Quadruples': [{'aspect': 'Masala Dosa', 'polarity': 'positive', 'opinion': 'enjoy', 'category': 'FOOD#QUALITY'}, {'aspect': 'NULL', 'polarity': 'positive', 'opinion': 'comfortable', 'category': 'FOOD#QUALITY'}]}\n",
      "{'text': 'The food here is a journey of flavor explosion. They have 9 and 11 courses. Went for the 11 course and it was great. Don’t look down on the size of food. It gets very filling towards the end.', 'Quadruples': [{'aspect': 'food', 'polarity': 'positive', 'opinion': 'great', 'category': 'FOOD#QUALITY'}]}\n",
      "{'text': 'The place was cosy and romantic as we were celebrating our anniversary..perfect place to dine but slighty expensive..but worth it', 'Quadruples': [{'aspect': 'place', 'polarity': 'positive', 'opinion': 'cosy', 'category': 'AMBIENCE#GENERAL'}]}\n",
      "{'text': 'Simply the best!!!! Fantastic food, and very kind personnel with special mention for chef Kubota who has made the dinner unforgettable', 'Quadruples': [{'aspect': 'food', 'polarity': 'positive', 'opinion': 'fantastic', 'category': 'FOOD#QUALITY'}, {'aspect': 'people', 'polarity': 'positive', 'opinion': 'kind', 'category': 'SERVICE#GENERAL'}, {'aspect': 'Chef Kubota', 'polarity': 'positive', 'opinion': 'unbelievable', 'category': 'SERVICE#GENERAL'}]}\n",
      "{'text': 'I was assuming to get a big doughy pizza here but was pleasantly surprised.  Thin crust, very tasty.  Will definitely visit again.  Very good service.', 'Quadruples': [{'aspect': 'pizza', 'polarity': 'positive', 'opinion': 'doughy', 'category': 'FOOD#QUALITY'}, {'aspect': 'service', 'polarity': 'positive', 'opinion': 'good', 'category': 'SERVICE#GENERAL'}]}\n",
      "{'text': 'If you want a superb fine dining experience with exquisitely adapted Malaysian cuisine, this is as good as it gets in KL. This restaurant is open only for dinner. Options are between a 5 course and a 10 course meal - from appetisers to dessert. All at the table must choose the same option of number of courses. Beautifully served and you will taste herbs, flowers and meats not seen on menus often. Service is unobtrusive, efficient and friendly. Good wines are on offer. Reservation needed and if you have dietary restrictions , need to advise them in advance. Chef Darren (or Darell) is extremely passionate and dishes out an outstanding fare - a la Master Chef style . ', 'Quadruples': [{'aspect': 'service', 'polarity': 'positive', 'opinion': 'unobtrusive', 'category': 'SERVICE#GENERAL'}, {'aspect': 'fare', 'polarity': 'positive', 'opinion': 'excellent', 'category': 'FOOD#QUALITY'}, {'aspect': 'NULL', 'polarity': 'positive', 'opinion': 'NULL', 'category': 'FOOD#QUALITY'}]}\n",
      "{'text': 'We went on a Friday without a reservation, therefore the tables inside the air-conditioning section was not available. Offered us a table outside and we went in to choose our meat. While deciding our dinner, the staff came by and informed that there was a table available inside and if we would like to have it. Was really grateful for that!Heard of this place for quite some time before actually trying it out recently. I\\'m glad I actually tried as I\\'m smitten already. The range of meat was really good especially for carnivores like me! :D You can have all the sausages, bacon, pork chops, steaks and salmon (sashimi grade) for your picking. Not forgetting they have a very nice range of salads to choose from too. Always preferred Medium done for my steak but many places would have \"over done\" it. My steak was grilled to perfection here. And their bacon was really good with a nice crisp and not salty like most places! Also tried their Pomelo Salad and it really complimented the meat. The staff provided excellent service in taking our orders, assisting to choose the meat and providing suggestions for the salads available.Am really impressed that such a small place provided such excellent service that\\'s even above some 5 star hotels or restaurants. Kudos to the establishment in training the staff so well. Will surely be back very soon! ', 'Quadruples': [{'aspect': 'service', 'polarity': 'positive', 'opinion': 'excellent', 'category': 'SERVICE#GENERAL'}, {'aspect': 'sausages', 'polarity': 'positive', 'opinion': 'good', 'category': 'SERVICE#GENERAL'}, {'aspect': 'brother', 'polarity': 'positive', 'opinion': 'good', 'category': 'SERVICE#GENERAL'}]}\n",
      "{'text': \"Food amazingService leaves alot to be desiredVenue dilapidated Went there last night for dinner, the food was out of this world amazing, the selection was huge and the food was very good,not specific Asian which was good. Desserts and cake selection was huge, food was constantly refilled. Lamb was cooked on the grill whilst u wait. The staff on the other hand was extremely unfriendly. Very blaze about everything there was no communication or introduction to the buffet.The venue the views were amazing but the venue is slightly dilapidated, carpets need a good cleanOverall lovely meal and even though the service wasn't the best we still.had an amazing time\", 'Quadruples': [{'aspect': 'food', 'polarity': 'positive', 'opinion': 'out of this world amazing', 'category': 'FOOD#QUALITY'}, {'aspect': 'service', 'polarity': 'negative', 'opinion': 'unfriendly', 'category': 'SERVICE#GENERAL'}, {'aspect': 'NULL', 'polarity': 'negative', 'opinion': 'NULL', 'category': 'AMBIENCE#GENERAL'}]}\n",
      "{'text': 'The most friendly staff. Great very special dishes. Chiefs Masaki and Toshihide explained every dishes which are totally different from the ones that you see in Westernized Japanese sushi restaurants. If you want to taste a glass of sake or two, you should go for the sake tasting triplets. It was a nice goodbye to Kuala Lumpur at our last night here', 'Quadruples': [{'aspect': 'staff', 'polarity': 'positive', 'opinion': 'friendly', 'category': 'SERVICE#GENERAL'}, {'aspect': 'dishes', 'polarity': 'positive', 'opinion': 'special', 'category': 'FOOD#QUALITY'}, {'aspect': 'sushi tasting triplets', 'polarity': 'positive', 'opinion': 'NULL', 'category': 'FOOD#QUALITY'}]}\n",
      "{'text': 'Wen Tao from China with technique of preparing the tea of Eight Treasure is super awesome. Not only the presentation, but the awesome taste His service is super excellent & comforting ', 'Quadruples': [{'aspect': 'service', 'polarity': 'positive', 'opinion': 'excellent', 'category': 'SERVICE#GENERAL'}, {'aspect': 'tea of Eight Treasure', 'polarity': 'positive', 'opinion': 'awesome', 'category': 'FOOD#QUALITY'}]}\n",
      "{'text': 'Terrible Japanese food with terrible service!!!! Overprice not worth it at all!!! the seafood is not fresh at all! i order the set dinner come with 3 side dish ,fruits chawan mushi, and miso soup. when the waiters serve us the set dinner with tray & because of we have order another so call a \"Charcoal Grilled Assorted Seafood\" they pull out our tray and straight away Inserted teaspoon into the chawan mushi! i was shocked and look at the waiters... how can u do that without my permission? waitress is just stand a side chit chat when i Complaints the seafood is not fresh!!!! Terrible Restaurant with Terrible Staff & Terrible Food!!!!! I would not recommend eating in at this restaurant unless you have a lot of money to waste & a lot of patience.', 'Quadruples': [{'aspect': 'staff', 'polarity': 'negative', 'opinion': 'terrible', 'category': 'SERVICE#GENERAL'}, {'aspect': 'food', 'polarity': 'negative', 'opinion': 'not fresh', 'category': 'FOOD#QUALITY'}, {'aspect': 'restaurant', 'polarity': 'negative', 'opinion': 'not recommend', 'category': 'RESTAURANT#PRICES'}]}\n",
      "{'text': 'Amazing views of KL. The kids loved the pool, the staff were really friendly - giving the kids towels to use after swimming and even lollipops. Food was nice, but a bit slow. Great relaxing atmosphere, exactly what we were looking for on our first night in KL.', 'Quadruples': [{'aspect': 'views of KL', 'polarity': 'positive', 'opinion': 'amazing', 'category': 'LOCATION#GENERAL'}, {'aspect': 'staff', 'polarity': 'positive', 'opinion': 'great', 'category': 'LOCATION#GENERAL'}, {'aspect': 'atmosphere', 'polarity': 'positive', 'opinion': 'friendly', 'category': 'SERVICE#GENERAL'}]}\n",
      "{'text': 'Great service.. Good location.. enjoy some nice authentic Italian foods..almost all kinds of them...love it. ', 'Quadruples': [{'aspect': 'service', 'polarity': 'positive', 'opinion': 'great', 'category': 'SERVICE#GENERAL'}, {'aspect': 'location', 'polarity': 'positive', 'opinion': 'good', 'category': 'LOCATION#GENERAL'}, {'aspect': 'Italian foods', 'polarity': 'positive', 'opinion': 'love', 'category': 'FOOD#QUALITY'}]}\n",
      "{'text': 'I’m so glad to have such a wonderful birthday celebration with family members. We are sharing the lovely moment in a great place with good staff. They are very passion and always taking good care of us whenever we request so many things from them. We enjoyed the environment and very satisfied with their food. They have free meal for the kids too!! Looking forward to visit this place again and again!!', 'Quadruples': [{'aspect': 'staff', 'polarity': 'positive', 'opinion': 'good', 'category': 'SERVICE#GENERAL'}, {'aspect': 'place', 'polarity': 'positive', 'opinion': 'great', 'category': 'AMBIENCE#GENERAL'}, {'aspect': 'food', 'polarity': 'positive', 'opinion': 'satisfied', 'category': 'FOOD#QUALITY'}, {'aspect': 'NULL', 'polarity': 'positive', 'opinion': 'NULL', 'category': 'RESTAURANT#MISCELLANEOUS'}]}\n",
      "{'text': 'Old place with decoration of 40 years old.  Old tables and chairs but good food.  Recommend the duck, trotters with glutinous rice etc...', 'Quadruples': [{'aspect': 'decorations', 'polarity': 'positive', 'opinion': 'old', 'category': 'AMBIENCE#GENERAL'}, {'aspect': 'tables', 'polarity': 'positive', 'opinion': 'old', 'category': 'AMBIENCE#GENERAL'}, {'aspect': 'chairs', 'polarity': 'positive', 'opinion': 'good', 'category': 'AMBIENCE#GENERAL'}, {'aspect': 'food', 'polarity': 'positive', 'opinion': 'recommend', 'category': 'FOOD#QUALITY'}, {'aspect': 'NULL', 'polarity': 'positive', 'opinion': 'NULL', 'category': 'FOOD#QUALITY'}]}\n",
      "{'text': 'I thoroughly enjoyed the Ramadan set meal which comprises of mixed fruits, main of choice of lamb shank, beef sirloin steak or chicken, chia seed honey mint mocktail. The watermelon in the mixed fruits tasted of onion. I guessed they used the same knife to cut onion and fruits. They replaced the fruits immediately when we notified them. The lamb shank was tender and really yummy. As for the sirloin steak, the waiter didn’t ask how well we wanted it cooked. Regrettably the sirloin steak turned up to be well cooked and very tough. ', 'Quadruples': [{'aspect': 'lamb shank', 'polarity': 'positive', 'opinion': 'tender', 'category': 'FOOD#QUALITY'}, {'aspect': 'beef sirloin steak', 'polarity': 'positive', 'opinion': 'yummy', 'category': 'FOOD#QUALITY'}, {'aspect': 'waiter', 'polarity': 'negative', 'opinion': 'NULL', 'category': 'SERVICE#GENERAL'}]}\n",
      "{'text': 'Burger was average. Meat sightly dry. Fish and cheap so so. Abit oily. But waffle is good. Price is average. Service is ok.', 'Quadruples': [{'aspect': 'Burger', 'polarity': 'negative', 'opinion': 'average', 'category': 'FOOD#QUALITY'}, {'aspect': 'meat', 'polarity': 'negative', 'opinion': 'dry', 'category': 'FOOD#QUALITY'}, {'aspect': 'fish', 'polarity': 'negative', 'opinion': 'cheap', 'category': 'FOOD#QUALITY'}, {'aspect': 'waffle', 'polarity': 'negative', 'opinion': 'good', 'category': 'FOOD#QUALITY'}, {'aspect': 'NULL', 'polarity': 'neutral', 'opinion': 'ok', 'category': 'FOOD#PRICES'}]}\n",
      "{'text': \"Nice place to have some Spanish meal. The atmosphere is cozy, staff friendly. We ordered seafood paella and seared salmon. Paella was far from Spanish one. Rice was too dry and portion is small. Salmon was ok, but they put smashed potatoes instead of pumpkin and didn't mention it before.\", 'Quadruples': [{'aspect': 'atmosphere', 'polarity': 'positive', 'opinion': 'cozy', 'category': 'AMBIENCE#GENERAL'}, {'aspect': 'staff', 'polarity': 'positive', 'opinion': 'friendly', 'category': 'SERVICE#GENERAL'}, {'aspect': 'seared salmon', 'polarity': 'negative', 'opinion': 'ok', 'category': 'FOOD#QUALITY'}, {'aspect': 'NULL', 'polarity': 'negative', 'opinion': 'NULL', 'category': 'FOOD#QUALITY'}]}\n",
      "{'text': 'Ordered online and my order was incorrect . Lodged a complaint but did not get a refund. They need a photo to show proof which I did not have as I throw away all the rubbish I received. I ordered dhal makhani and I got vegetarian koftas. Big difference between the two. Poor quality check. It has not been my favourite as it’s a pricy restaurant. I have black listed them.', 'Quadruples': [{'aspect': 'dhal makhani', 'polarity': 'negative', 'opinion': 'correct', 'category': 'FOOD#QUALITY'}, {'aspect': 'vegetarian koftas', 'polarity': 'negative', 'opinion': 'poor', 'category': 'FOOD#QUALITY'}, {'aspect': 'NULL', 'polarity': 'negative', 'opinion': 'pricey', 'category': 'RESTAURANT#PRICES'}]}\n",
      "{'text': 'After reading about it from friends, I checked this place out last night with a friend.We ordered the coq au vin, which was tasty with fresh vegetable. We also ordered some roasted duck, and was crispy, tender and moist to perfection. For desert we ordered the mille fueille with chantilly cream, which assembled on the spot with fresh sweet strawberries. It was fragrant fresh and not soggy. The wine selection is good and reasonably priced.Did I mention the casual environment and attentive service?I will go again got sure.', 'Quadruples': [{'aspect': 'coq au vin', 'polarity': 'positive', 'opinion': 'tasty', 'category': 'FOOD#QUALITY'}, {'aspect': 'roasted duck', 'polarity': 'positive', 'opinion': 'fresh', 'category': 'FOOD#QUALITY'}, {'aspect': 'mille fueille with chantilly cream', 'polarity': 'positive', 'opinion': 'fresh', 'category': 'FOOD#QUALITY'}, {'aspect': 'wine selection', 'polarity': 'positive', 'opinion': 'good', 'category': 'DRINKS#STYLE_OPTIONS'}, {'aspect': 'service', 'polarity': 'positive', 'opinion': 'attentive', 'category': 'SERVICE#GENERAL'}]}\n",
      "{'text': 'Like the sampler that you get to try the signature dishes. Skewer and the food is good with great hints of Balinese style.', 'Quadruples': [{'aspect': 'Skewer', 'polarity': 'positive', 'opinion': 'good', 'category': 'FOOD#QUALITY'}, {'aspect': 'food', 'polarity': 'positive', 'opinion': 'good', 'category': 'FOOD#QUALITY'}, {'aspect': 'balinese style', 'polarity': 'positive', 'opinion': 'great', 'category': 'FOOD#QUALITY'}]}\n",
      "{'text': 'ATAS Restaurant, RuMa Residence Kuala Lumpur: Glorious Sunday brunch at the resplendent ATAS restaurant at Gucci house lookalike RuMa Residence. Each dish was like an ala carte dish cooked to perfection. The presentation well matched by tastes and the service - impeccable and Uber friendly. Ambience is faultless to boot. RuMa is the quintessential hotel to check into for a superstar celebrity feel. And eats. #eatstylishtravelstylish', 'Quadruples': [{'aspect': 'ATAS restaurant', 'polarity': 'positive', 'opinion': 'glorious', 'category': 'RESTAURANT#GENERAL'}, {'aspect': 'service', 'polarity': 'positive', 'opinion': 'impeccable', 'category': 'SERVICE#GENERAL'}, {'aspect': 'ambience', 'polarity': 'positive', 'opinion': 'faultless', 'category': 'AMBIENCE#GENERAL'}, {'aspect': 'NULL', 'polarity': 'positive', 'opinion': 'NULL', 'category': 'AMBIENCE#GENERAL'}]}\n",
      "{'text': 'One things superb from this restaurant : RIBS !! The SUPER RIBS is dancing in my mouth . Soft and love the sauce man !We ordered a full rack of ribs, caesar salad ( a bit too much dressing i guess ), and naughty pig in the blanket ! YummWent there on Fri night, the service was quite alright ( yes, some staffs has really limited English understanding, but just explain to them slowly, i think just require a bit of patience and things should go right :) . Yummy good food, but i think its just a little bit pricey for locals. ', 'Quadruples': [{'aspect': 'service', 'polarity': 'negative', 'opinion': 'alright', 'category': 'SERVICE#GENERAL'}, {'aspect': 'ribs', 'polarity': 'negative', 'opinion': 'good', 'category': 'FOOD#QUALITY'}, {'aspect': 'caesar salad', 'polarity': 'negative', 'opinion': 'too much', 'category': 'FOOD#QUALITY'}, {'aspect': 'pig in the blanket', 'polarity': 'negative', 'opinion': 'pricey', 'category': 'FOOD#PRICES'}]}\n",
      "{'text': 'Delicate cooking skill for the baked oyster. Quite satistify for the food and value. Atmosphere are nice. Recommended to come and try.', 'Quadruples': [{'aspect': 'baked oyster', 'polarity': 'positive', 'opinion': 'delicate', 'category': 'FOOD#QUALITY'}, {'aspect': 'food', 'polarity': 'positive', 'opinion': 'delicate', 'category': 'FOOD#QUALITY'}, {'aspect': 'atmosphere', 'polarity': 'positive', 'opinion': 'nice', 'category': 'AMBIENCE#GENERAL'}]}\n",
      "{'text': \"the queue line is so long, we have to wait 30 minutes to get a table. But it's worth the time, the sweet and sour crab is so good, the crab it self is so fresh. Good quality seafood with good price.\", 'Quadruples': [{'aspect': 'queue line', 'polarity': 'negative', 'opinion': 'long', 'category': 'SERVICE#GENERAL'}, {'aspect': 'spicy and sour crab', 'polarity': 'positive', 'opinion': 'good', 'category': 'FOOD#QUALITY'}, {'aspect': 'crab', 'polarity': 'positive', 'opinion': 'fresh', 'category': 'FOOD#QUALITY'}]}\n",
      "{'text': 'If you like to eat crab then you have to go to the Fatty Crab Restaurant. They taste delicious. I will never know how the other meals are, because the crabs are so good, they push everything else away.', 'Quadruples': [{'aspect': 'crabs', 'polarity': 'positive', 'opinion': 'delicious', 'category': 'FOOD#QUALITY'}, {'aspect': 'meals', 'polarity': 'positive', 'opinion': 'delicious', 'category': 'FOOD#QUALITY'}]}\n",
      "{'text': 'Convenient location, great cheap coffee and breakfasts/foods. Avoid the soft boiled eggs as they are barely cooked at all!!', 'Quadruples': [{'aspect': 'location', 'polarity': 'positive', 'opinion': 'convenient', 'category': 'LOCATION#GENERAL'}, {'aspect': 'coffee', 'polarity': 'positive', 'opinion': 'great', 'category': 'DRINKS#PRICES'}, {'aspect': 'fried eggs', 'polarity': 'negative', 'opinion': 'never cooked', 'category': 'FOOD#QUALITY'}]}\n",
      "{'text': 'Had a really nice dinner here. Foods were great and the ambience was also nice. Highly recommend for Thai foods in KL', 'Quadruples': [{'aspect': 'food', 'polarity': 'positive', 'opinion': 'great', 'category': 'FOOD#QUALITY'}, {'aspect': 'ambience', 'polarity': 'positive', 'opinion': 'nice', 'category': 'AMBIENCE#GENERAL'}]}\n",
      "{'text': 'staff are friendly the food is very nice to eat\\nand nice anvironment food serve proptly will come again next time', 'Quadruples': [{'aspect': 'staff', 'polarity': 'positive', 'opinion': 'friendly', 'category': 'SERVICE#GENERAL'}, {'aspect': 'food', 'polarity': 'positive', 'opinion': 'nice', 'category': 'FOOD#QUALITY'}, {'aspect': 'anvironment food', 'polarity': 'positive', 'opinion': 'nice', 'category': 'FOOD#QUALITY'}]}\n",
      "{'text': 'Wonderful and unique experience at lunch today. If you are sushi lover and thrive for something different, pay a visit. You might need to ask someone for the exact location because it’s quite hidden. Really a great spot if you’re looking for a quiet and private place to eat. And the food... it’s amazing. The best sushi I’ve ever tasted.', 'Quadruples': [{'aspect': 'food', 'polarity': 'positive', 'opinion': 'amazing', 'category': 'FOOD#QUALITY'}, {'aspect': 'sushi', 'polarity': 'positive', 'opinion': 'best', 'category': 'FOOD#QUALITY'}]}\n",
      "{'text': 'Many dishes not available. A bit pricy for what you get. Good service and casual atmosphere. Overall, a good experience.', 'Quadruples': [{'aspect': 'dishes', 'polarity': 'negative', 'opinion': 'not available', 'category': 'FOOD#STYLE_OPTIONS'}, {'aspect': 'service', 'polarity': 'negative', 'opinion': 'good', 'category': 'SERVICE#GENERAL'}, {'aspect': 'atmosphere', 'polarity': 'positive', 'opinion': 'casual', 'category': 'AMBIENCE#GENERAL'}]}\n",
      "{'text': \"The eatery is a tent located at a parking lot. It's quite warm but the food is good. Service was fast and the bbq beef was tender. The speed boat noodle is better than those from Original Boat Noodle. It's an entirely different atmosphere.\", 'Quadruples': [{'aspect': 'food', 'polarity': 'positive', 'opinion': 'good', 'category': 'FOOD#QUALITY'}, {'aspect': 'service', 'polarity': 'positive', 'opinion': 'fast', 'category': 'SERVICE#GENERAL'}, {'aspect': 'bbq beef', 'polarity': 'positive', 'opinion': 'tender', 'category': 'FOOD#QUALITY'}, {'aspect': 'speed boat noodle', 'polarity': 'positive', 'opinion': 'better', 'category': 'FOOD#QUALITY'}]}\n",
      "{'text': 'The quality of food is as good as 4 years ago when I last visited. Must try their pork ribs. 5 stars for their attentive service especially Cho & Ren', 'Quadruples': [{'aspect': 'food', 'polarity': 'positive', 'opinion': 'good', 'category': 'FOOD#QUALITY'}, {'aspect': 'pork ribs', 'polarity': 'positive', 'opinion': 'try', 'category': 'FOOD#QUALITY'}, {'aspect': 'service', 'polarity': 'positive', 'opinion': 'attentive', 'category': 'SERVICE#GENERAL'}]}\n",
      "{'text': 'They have a big spread of selection of International food, from Western, Chinese, Malay, Indian, etc. Very pleasant experience with family. Highly recommended.', 'Quadruples': [{'aspect': 'selection of International food', 'polarity': 'positive', 'opinion': 'big', 'category': 'FOOD#STYLE_OPTIONS'}]}\n",
      "{'text': 'To let all the travelers know that we overpaid in this place .For 2 person we paid for over 300 ringgit with small portion of duck ,fish and veg.Not recommended', 'Quadruples': [{'aspect': 'duck', 'polarity': 'negative', 'opinion': 'overpaid', 'category': 'FOOD#QUALITY'}, {'aspect': 'fish', 'polarity': 'negative', 'opinion': 'small', 'category': 'FOOD#QUALITY'}, {'aspect': 'veg', 'polarity': 'negative', 'opinion': 'not recommended', 'category': 'FOOD#QUALITY'}]}\n",
      "{'text': \"I was in KL 5 days, 4 nights. I ate here twice. For anyone that has been to Argentina the restaurant is a great representation of La Boca. It's in great location in the walkway between the pavillion and pavillion elite but it is set a little bit back avoiding the hustle and bustle a bit but still in a great position to watch the passing parade. On the two separate time I ate here i tried different things. Everything was delicious. There is a happy hour and a daily drink special. I think the first night I ate here was a Friday? Whatever day it was, the drink special was 2 for 1 mojitos, a perfect refreshing drink for a humid Malaysian evening. \", 'Quadruples': [{'aspect': 'happy hour', 'polarity': 'positive', 'opinion': 'great', 'category': 'AMBIENCE#GENERAL'}, {'aspect': 'daily drink special', 'polarity': 'positive', 'opinion': 'delicious', 'category': 'DRINKS#STYLE_OPTIONS'}, {'aspect': 'NULL', 'polarity': 'positive', 'opinion': 'NULL', 'category': 'AMBIENCE#GENERAL'}]}\n",
      "{'text': 'But you can eat anything you like here, from local to wester food. Or just hang out for happy hours. All is good.', 'Quadruples': [{'aspect': 'NULL', 'polarity': 'positive', 'opinion': 'good', 'category': 'RESTAURANT#MISCELLANEOUS'}]}\n",
      "{'text': \"The Shangri-La never fails to deliver a wonderful experience! It was our first time dining here and the selection of dim sum is wide. The food was served quickly and we didn't have to wait long at all! The dim sum dishes were flavourful and the portions were good!\", 'Quadruples': [{'aspect': 'selection of dim sum', 'polarity': 'positive', 'opinion': 'wide', 'category': 'FOOD#STYLE_OPTIONS'}, {'aspect': 'dim sum dishes', 'polarity': 'positive', 'opinion': 'flavorful', 'category': 'FOOD#QUALITY'}, {'aspect': 'portions', 'polarity': 'positive', 'opinion': 'good', 'category': 'FOOD#QUALITY'}]}\n",
      "{'text': 'the food was amazing, good options for spicy and non spicy food. We strongly recommend the tiger beer which is served in a cup (rather than a glass) and was very good. We were also very happy with our server Roy who was attentive and able to give us some good suggestions', 'Quadruples': [{'aspect': 'food', 'polarity': 'positive', 'opinion': 'amazing', 'category': 'FOOD#QUALITY'}, {'aspect': 'tiger beer', 'polarity': 'positive', 'opinion': 'recommend', 'category': 'DRINKS#STYLE_OPTIONS'}, {'aspect': 'service', 'polarity': 'positive', 'opinion': 'happy', 'category': 'SERVICE#GENERAL'}]}\n",
      "{'text': \"Alway order their Hainanese fried noodles or their hainanese chicken chop. Their Fried Rice is very good too if you love spicy food as it's filled with birdeye peppers. The service is good but do stick to the Jalan Tuanku Abdul Rahman branch as I've tried the other branches and find the original resto has the best quality of food. They've been around since WWII, and you can see old ads and memorabilia at the bar which hasn't changed much since it's inception. They have a smoking section at the back which is separated from the non-smoking section. If you're around the area, drop by and maybe order a stake or two.\", 'Quadruples': [{'aspect': 'Hainanese fried noodles', 'polarity': 'positive', 'opinion': 'good', 'category': 'FOOD#QUALITY'}, {'aspect': 'fried rice', 'polarity': 'positive', 'opinion': 'good', 'category': 'FOOD#QUALITY'}, {'aspect': 'fried rice', 'polarity': 'positive', 'opinion': 'love spicy food', 'category': 'FOOD#QUALITY'}]}\n",
      "{'text': 'With a warm welcome on both our visits to restaurant while we were holidaying in the city, they really do care for the customer. Unsure of name, but older lady in 50’s with scarf covering her hair (hope I got age right haha) was so warm and welcoming on both visits to myself and my teenage daughter. She wasn’t our server but made sure we were happy with small talk. This led to our 2nd visit with the sameWarm welcome from this woman. My only criticism would be Jeff the server for us on 2nd visit. He dragged his feet around slowly, and we could tell he really wasn’t interested in his job. Other than this, we enjoyed the meals on both days! The steak was delicious and the apple crumble was amazing! Thanks again guys and gals!', 'Quadruples': [{'aspect': 'meals', 'polarity': 'positive', 'opinion': 'enjoyed', 'category': 'FOOD#QUALITY'}, {'aspect': 'steak', 'polarity': 'positive', 'opinion': 'delicious', 'category': 'FOOD#QUALITY'}, {'aspect': 'apple crumble', 'polarity': 'positive', 'opinion': 'amazing', 'category': 'FOOD#QUALITY'}]}\n",
      "{'text': 'Still one of the better steakhouses in town. Go for the wagyus. I do feel quality has dropped somehow and they need to be alerted. Serious decor refurbishment needed and high time too.', 'Quadruples': [{'aspect': 'wagyus', 'polarity': 'positive', 'opinion': 'better', 'category': 'FOOD#QUALITY'}, {'aspect': 'decor', 'polarity': 'negative', 'opinion': 'high time', 'category': 'AMBIENCE#GENERAL'}]}\n",
      "{'text': 'Best Spanish restaurant.. Highly recommended. Good service. We come to celebrate the birthday of our friend. We order paell, porchetta. Ribs..', 'Quadruples': [{'aspect': 'service', 'polarity': 'positive', 'opinion': 'recommended', 'category': 'SERVICE#GENERAL'}, {'aspect': 'paell', 'polarity': 'positive', 'opinion': 'recommended', 'category': 'FOOD#QUALITY'}, {'aspect': 'porketta', 'polarity': 'positive', 'opinion': 'recommended', 'category': 'FOOD#QUALITY'}, {'aspect': 'ribs', 'polarity': 'positive', 'opinion': 'recommended', 'category': 'FOOD#QUALITY'}]}\n",
      "{'text': 'Excellent taste of food and services ...by associate here,nice room and hospitality also friendly employee,,come and stayed here to fill the experience.,', 'Quadruples': [{'aspect': 'food', 'polarity': 'positive', 'opinion': 'excellent', 'category': 'FOOD#QUALITY'}, {'aspect': 'services', 'polarity': 'positive', 'opinion': 'excellent', 'category': 'SERVICE#GENERAL'}, {'aspect': 'room', 'polarity': 'positive', 'opinion': 'nice', 'category': 'AMBIENCE#GENERAL'}, {'aspect': 'hospitality', 'polarity': 'positive', 'opinion': 'friendly', 'category': 'AMBIENCE#GENERAL'}, {'aspect': 'exceeded', 'polarity': 'positive', 'opinion': 'NULL', 'category': 'RESTAURANT#MISCELLANEOUS'}]}\n",
      "{'text': 'Good place at Pavilion to eat great diversity of ribs and other porks delights. \\nIt s just too meaty so the sides are too small and need more light food.', 'Quadruples': [{'aspect': 'ribs', 'polarity': 'negative', 'opinion': 'good', 'category': 'FOOD#QUALITY'}, {'aspect': 'sides', 'polarity': 'negative', 'opinion': 'too small', 'category': 'FOOD#STYLE_OPTIONS'}, {'aspect': 'food', 'polarity': 'negative', 'opinion': 'too small', 'category': 'FOOD#QUALITY'}]}\n",
      "{'text': 'If you are looking for a quite and hassle-free restaurant then you should consider Feast at Sheraton Petaling JayaTheir international dinner buffet is a must try with selection of seafood (Oyster is a must for me) , western selection (hot oven baked pizza), cold platters ( i love the smoke duck ), Malay dishes, pasta ala minutes, noodles station and the desserts counters.Suggestions: should includes at least two selection of juices. Tabasco for the oysters', 'Quadruples': [{'aspect': 'selection of seafood', 'polarity': 'positive', 'opinion': 'must try', 'category': 'FOOD#QUALITY'}, {'aspect': 'hot oven baked pizza', 'polarity': 'positive', 'opinion': 'must try', 'category': 'FOOD#QUALITY'}, {'aspect': 'cold platters', 'polarity': 'positive', 'opinion': 'love', 'category': 'FOOD#QUALITY'}, {'aspect': 'NULL', 'polarity': 'positive', 'opinion': 'hobby-free', 'category': 'FOOD#STYLE_OPTIONS'}]}\n",
      "{'text': \"The chicken mushrooms pizza was fantastic, and the beef burger delicious! Rasel took good care of us as well with an amazing customer service.In other occasions I've tried the beef ragout, and it's also very nice!Both Healy Mac changkat and Bangsar are among my favorite places to enjoy a good beer and delicious food\", 'Quadruples': [{'aspect': 'chicken mushrooms pizza', 'polarity': 'positive', 'opinion': 'fantastic', 'category': 'FOOD#QUALITY'}, {'aspect': 'beef burger', 'polarity': 'positive', 'opinion': 'delicious', 'category': 'FOOD#QUALITY'}, {'aspect': 'NULL', 'polarity': 'positive', 'opinion': 'favorite', 'category': 'SERVICE#GENERAL'}]}\n",
      "{'text': 'Went there to celebrate our friends birthday . Food was delicious , Staff was polite and fast , Ambience was comfortable , Service was utterly immaculate.The owners, Dilys and Shawn are extremely friendly and passionate to bring authentic Italian cuisine to Malaysia.We started with two appetisers and salad.Both were fantastic.Our son had margarita pizza. The blend of tomato sauce and mozzarella, on top of a perfectly baked pizza dough was divine. I highly recommend their Spinach Ravioli , which was perfect al dante, and seafood pasta was fresh. It’s the best I’ve ever had . All in all, I highly recommend this restaurant and I am going to go there again. If anyone wants to have authentic Italian cuisine ,this is it. Ciao!', 'Quadruples': [{'aspect': 'Food', 'polarity': 'positive', 'opinion': 'delicious', 'category': 'FOOD#QUALITY'}, {'aspect': 'Staff', 'polarity': 'positive', 'opinion': 'friendly', 'category': 'SERVICE#GENERAL'}, {'aspect': 'Spreadach Ravioli', 'polarity': 'positive', 'opinion': 'perfect al dante', 'category': 'FOOD#QUALITY'}, {'aspect': 'Seafood pasta', 'polarity': 'positive', 'opinion': 'fresh', 'category': 'FOOD#QUALITY'}]}\n",
      "{'text': \"Small & cozy Italian restaurant. Maury and his staff will make you feel at home. good selection of authentic Italian food (and Italian music) including pasta, primi and antipasti. ask for the burrata or the risotto ai frutti di mare and you won't be disappointed.\", 'Quadruples': [{'aspect': 'selection of authentic Italian food', 'polarity': 'positive', 'opinion': 'good', 'category': 'FOOD#QUALITY'}, {'aspect': 'staff', 'polarity': 'positive', 'opinion': 'cozy', 'category': 'SERVICE#GENERAL'}, {'aspect': 'risotto ai frutti di mare', 'polarity': 'positive', 'opinion': 'NULL', 'category': 'FOOD#QUALITY'}]}\n",
      "{'text': 'Khan is one of the best waiter ever!100%professional and good services!!Best place in town where you must go when you arrive in Kuala Lumpur.Go find mr.Khan at Canopy rooftop and you will not regret!', 'Quadruples': [{'aspect': 'waiter', 'polarity': 'positive', 'opinion': 'best', 'category': 'SERVICE#GENERAL'}, {'aspect': 'services', 'polarity': 'positive', 'opinion': 'good', 'category': 'SERVICE#GENERAL'}]}\n",
      "{'text': 'We have tried many Indian Restaurants in KL but this one is very special, the lamb was so tender and the Naan Bread was very good, the prices are on the low side and yet the food quality is very good.Highly recommended for Indian Food Lovers.', 'Quadruples': [{'aspect': 'lamb', 'polarity': 'positive', 'opinion': 'tender', 'category': 'FOOD#QUALITY'}, {'aspect': 'NULL', 'polarity': 'positive', 'opinion': 'recommended', 'category': 'FOOD#PRICES'}]}\n",
      "{'text': 'Had an amazing dinner time at restaurant Graze! Great atmosphere, friendly staff Sean & Nic. Perfect flavors, attentive service. Highly recommend! Excited to return for more. But parking system so so always got problems & over charged dining guest...', 'Quadruples': [{'aspect': 'atmosphere', 'polarity': 'positive', 'opinion': 'great', 'category': 'AMBIENCE#GENERAL'}, {'aspect': 'staff', 'polarity': 'positive', 'opinion': 'friendly', 'category': 'SERVICE#GENERAL'}, {'aspect': 'service', 'polarity': 'positive', 'opinion': 'friendly', 'category': 'SERVICE#GENERAL'}, {'aspect': 'parking system', 'polarity': 'negative', 'opinion': 'over charged', 'category': 'AMBIENCE#GENERAL'}]}\n",
      "{'text': 'Love the food here. We have been here for few times and we ordered collagen rice set everytime. The hot pot tastes delicious.', 'Quadruples': [{'aspect': 'food', 'polarity': 'positive', 'opinion': 'love', 'category': 'FOOD#QUALITY'}, {'aspect': 'hot pot', 'polarity': 'positive', 'opinion': 'delicious', 'category': 'FOOD#QUALITY'}]}\n",
      "{'text': 'Food was absolutely good. We tried the Assam Laksa, Lombok, & Nasi Lemak. Food arrived very fast, service was efficient, and the servers are very thankful. Only comment is the nasi lemak was not the best that I have tried but it was still amazing! Definitely will come back :)', 'Quadruples': [{'aspect': 'Food', 'polarity': 'positive', 'opinion': 'good', 'category': 'FOOD#QUALITY'}, {'aspect': 'service', 'polarity': 'positive', 'opinion': 'efficient', 'category': 'SERVICE#GENERAL'}, {'aspect': 'servers', 'polarity': 'positive', 'opinion': 'thankful', 'category': 'SERVICE#GENERAL'}, {'aspect': 'NULL', 'polarity': 'positive', 'opinion': 'amazing', 'category': 'FOOD#QUALITY'}]}\n",
      "{'text': \"Well it was my birthday and my hubby and me headed to BBQ nation for special dinner, the waitress welcomed us with a big smile and n made us sit on our reserved table and she explained the procedure of live grill..Later the food arrived i.e BBQ items, (panner chicken prawns fish  and corn) except chicken everything was so good,chicken was too salty and dry..Thn comes the main course turn where u see variety of food (I felt like I'm at someone's wedding) shaadi wala khana..But main course was OK.. Birynai rice was very dry, n it didn't taste like a authentic Biryani..The best thing of the dinner is Dessert..they have so many varieties,each n every dessert was awesome. OMG  I loved it  Kulfi was tooooo good..Full Paisa vasoolee @ dessert counter Last but not the least the mango sauce when I tasted i felt like I'm having cooked maaza with spices\", 'Quadruples': [{'aspect': 'mango sauce', 'polarity': 'positive', 'opinion': 'loved', 'category': 'FOOD#QUALITY'}]}\n",
      "{'text': \"Yes,this restaurant is noisy, but the food is good. First they serve you soup before you order. Recommend to order duck, Since the restaurant is called village duck duh... we ordered Peking Duck, It's delicious. Everything else is tasty.\", 'Quadruples': [{'aspect': 'restaurant', 'polarity': 'negative', 'opinion': 'noisy', 'category': 'AMBIENCE#GENERAL'}, {'aspect': 'food', 'polarity': 'positive', 'opinion': 'good', 'category': 'AMBIENCE#GENERAL'}, {'aspect': 'NULL', 'polarity': 'positive', 'opinion': 'tasty', 'category': 'FOOD#QUALITY'}]}\n",
      "{'text': 'Lovely atmosphere, music and dessert. Ash was particularly attentive, friendly and great at communication. Hope to see him at EQ in the future', 'Quadruples': [{'aspect': 'atmosphere', 'polarity': 'positive', 'opinion': 'lovely', 'category': 'AMBIENCE#GENERAL'}, {'aspect': 'music', 'polarity': 'positive', 'opinion': 'friendly', 'category': 'AMBIENCE#GENERAL'}, {'aspect': 'delicious', 'polarity': 'positive', 'opinion': 'great', 'category': 'FOOD#QUALITY'}]}\n",
      "{'text': 'One of my favourite italian restaurants to go to if not my personal favourtire. Authentic italian cuisine at its finest. Simple yet comfy ambiance and hats off to such wonderful and hospitalble staff.', 'Quadruples': [{'aspect': 'italian cuisine', 'polarity': 'positive', 'opinion': 'authentic', 'category': 'FOOD#QUALITY'}, {'aspect': 'ambiance', 'polarity': 'positive', 'opinion': 'comfortable', 'category': 'AMBIENCE#GENERAL'}, {'aspect': 'staff', 'polarity': 'positive', 'opinion': 'wonderful', 'category': 'SERVICE#GENERAL'}]}\n",
      "{'text': 'I like the environment here ,most of the time I came here on Saturday because is no rushing for me ,I can enjoy & relax with nice drink and food with peace mind .', 'Quadruples': [{'aspect': 'environment', 'polarity': 'positive', 'opinion': 'like', 'category': 'AMBIENCE#GENERAL'}, {'aspect': 'beverage', 'polarity': 'positive', 'opinion': 'nice', 'category': 'DRINKS#QUALITY'}, {'aspect': 'food', 'polarity': 'positive', 'opinion': 'enjoy', 'category': 'FOOD#QUALITY'}, {'aspect': 'NULL', 'polarity': 'positive', 'opinion': 'relax', 'category': 'AMBIENCE#GENERAL'}]}\n",
      "{'text': \"The last time I was here, it was for lunch and this time round, it was for hi-tea. After checking out a few 5 star hotels in KL, Majestic Hotel's hi-tea is still the most affordable on weekends. Please remember to make reservations if you want to be seated near the windows. Personally, I find that the seats near the windows (with the current weather in Msia, it is too hot) is not comfortable. I'd rather be seated further from the sun. Anyway, there were 5 of us and we paid RM305 (inclusive of GST). We ordered 2 of the hi-tea sets (includes 2 trays of food & 2 pots of darjeeling tea) & a cup of cafe latte (RM25). Cafe latte is not worth the price (coming from a coffee drinker). Overall, the experience is nice but the food is just average. I would return for special occasion or big celebration.\", 'Quadruples': [{'aspect': 'hi-tea sets', 'polarity': 'positive', 'opinion': 'NULL', 'category': 'FOOD#PRICES'}, {'aspect': 'pots of darjeeling tea', 'polarity': 'positive', 'opinion': 'NULL', 'category': 'FOOD#QUALITY'}, {'aspect': 'cup of cafe latte', 'polarity': 'negative', 'opinion': 'NULL', 'category': 'FOOD#QUALITY'}, {'aspect': 'NULL', 'polarity': 'negative', 'opinion': 'NULL', 'category': 'FOOD#PRICES'}]}\n",
      "{'text': 'We enjoyed our lunch here, had a colleague from Bilbao so thought will bring him to a Spanish joint, its a great choice over the weekend. We had sangria , black rice and few tapas. Recommended', 'Quadruples': [{'aspect': 'sangria', 'polarity': 'positive', 'opinion': 'enjoyed', 'category': 'DRINKS#QUALITY'}, {'aspect': 'black rice', 'polarity': 'positive', 'opinion': 'enjoyed', 'category': 'FOOD#QUALITY'}, {'aspect': 'tapas', 'polarity': 'positive', 'opinion': 'enjoyed', 'category': 'FOOD#QUALITY'}]}\n",
      "{'text': 'A place for tasty Indian vegetarian food both North Indian and South Indian. Various dishes are available. It is at Signature food court in Suriya Shopping Centre at Petronas Twin Tower. An excellent place to eat. You will really love the food.', 'Quadruples': [{'aspect': 'food', 'polarity': 'positive', 'opinion': 'tasty', 'category': 'FOOD#QUALITY'}, {'aspect': 'NULL', 'polarity': 'positive', 'opinion': 'love', 'category': 'RESTAURANT#MISCELLANEOUS'}]}\n"
     ]
    }
   ],
   "source": [
    "import json\n",
    "from pyabsa import ABSAInstruction\n",
    "\n",
    "# Function to read data from JSONL file\n",
    "def read_jsonl(file_path):\n",
    "    data = []\n",
    "    with open(file_path, 'r') as f:\n",
    "        for line in f:\n",
    "            data.append(json.loads(line))\n",
    "    return data\n",
    "\n",
    "# Function to write data to JSONL file\n",
    "def write_jsonl(data, file_path):\n",
    "    with open(file_path, 'w') as f:\n",
    "        for item in data:\n",
    "            f.write(json.dumps(item) + '\\n')\n",
    "\n",
    "# Function to predict using the model\n",
    "def predict_texts(texts, model):\n",
    "    predictions = []\n",
    "    for text in texts:\n",
    "        prediction = model.predict(text['text'])\n",
    "        predictions.append(prediction)\n",
    "    return predictions\n",
    "\n",
    "# Paths to input JSONL files\n",
    "input_files = [\"combined_test.jsonl\"]\n",
    "# Paths to the output JSONL files\n",
    "output_files = [\"metric_test_set.jsonl\"]\n",
    "\n",
    "# Load the model\n",
    "generator = ABSAInstruction.ABSAGenerator(\"checkpoints\\multitask\\kevinscariaate_tk-instruct-base-def-pos-neg-neut-combined-instruction\")\n",
    "\n",
    "for i, input_file in enumerate(input_files):\n",
    "    # Read data from input file\n",
    "    input_data = read_jsonl(input_file)\n",
    "\n",
    "    # Predict using the model\n",
    "    predicted_data = predict_texts(input_data, generator)\n",
    "\n",
    "    # Write predicted data to output file\n",
    "    write_jsonl(predicted_data, output_files[i])"
   ]
  }
 ],
 "metadata": {
  "kernelspec": {
   "display_name": "myenv",
   "language": "python",
   "name": "python3"
  },
  "language_info": {
   "codemirror_mode": {
    "name": "ipython",
    "version": 3
   },
   "file_extension": ".py",
   "mimetype": "text/x-python",
   "name": "python",
   "nbconvert_exporter": "python",
   "pygments_lexer": "ipython3",
   "version": "3.11.3"
  }
 },
 "nbformat": 4,
 "nbformat_minor": 2
}
